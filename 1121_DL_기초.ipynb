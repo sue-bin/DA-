{
  "nbformat": 4,
  "nbformat_minor": 0,
  "metadata": {
    "kernelspec": {
      "display_name": "Python 3",
      "language": "python",
      "name": "python3"
    },
    "language_info": {
      "codemirror_mode": {
        "name": "ipython",
        "version": 3
      },
      "file_extension": ".py",
      "mimetype": "text/x-python",
      "name": "python",
      "nbconvert_exporter": "python",
      "pygments_lexer": "ipython3",
      "version": "3.8.2"
    },
    "colab": {
      "name": "17기_경영학과_김수빈.ipynb",
      "provenance": [],
      "collapsed_sections": []
    },
    "accelerator": "GPU"
  },
  "cells": [
    {
      "cell_type": "code",
      "metadata": {
        "id": "WwsateloI2HK",
        "colab": {
          "base_uri": "https://localhost:8080/"
        },
        "outputId": "9cf58858-c130-46bb-bbc8-a7642ba4365f"
      },
      "source": [
        "import numpy as np\n",
        "import tensorflow as tf\n",
        "device_name = tf.test.gpu_device_name()\n",
        "if device_name != '/device:GPU:0':\n",
        "    raise SystemError('GPU device not found')\n",
        "print('Found GPU at : {}'.format(device_name))\n",
        "import os\n",
        "\n",
        "import matplotlib.pyplot as plt\n",
        "%matplotlib inline\n",
        "\n",
        "from tensorflow.keras import datasets\n",
        "from tensorflow.keras import layers"
      ],
      "execution_count": 1,
      "outputs": [
        {
          "output_type": "stream",
          "text": [
            "Found GPU at : /device:GPU:0\n"
          ],
          "name": "stdout"
        }
      ]
    },
    {
      "cell_type": "markdown",
      "metadata": {
        "id": "0tjljBzdI2HO"
      },
      "source": [
        "# Prepare Dataset\n"
      ]
    },
    {
      "cell_type": "code",
      "metadata": {
        "id": "ugpwnLsbI2HM"
      },
      "source": [
        "(train_x, train_y), (test_x, test_y) = datasets.cifar10.load_data()"
      ],
      "execution_count": 2,
      "outputs": []
    },
    {
      "cell_type": "code",
      "metadata": {
        "colab": {
          "base_uri": "https://localhost:8080/"
        },
        "id": "wLUmrkHGEg_K",
        "outputId": "b0256afb-8d91-4a80-e9a5-fa8692cd448d"
      },
      "source": [
        "train_x[0].shape"
      ],
      "execution_count": 3,
      "outputs": [
        {
          "output_type": "execute_result",
          "data": {
            "text/plain": [
              "(32, 32, 3)"
            ]
          },
          "metadata": {
            "tags": []
          },
          "execution_count": 3
        }
      ]
    },
    {
      "cell_type": "markdown",
      "metadata": {
        "id": "2elE_CEHHfuG"
      },
      "source": [
        "# Build Model\n"
      ]
    },
    {
      "cell_type": "code",
      "metadata": {
        "id": "ncP49smxI2HO"
      },
      "source": [
        "input_shape = (32, 32, 3)\n",
        "num_classes = 10"
      ],
      "execution_count": 4,
      "outputs": []
    },
    {
      "cell_type": "code",
      "metadata": {
        "id": "3tbgYxk4I2HO"
      },
      "source": [
        "inputs = layers.Input(shape=input_shape)\n",
        "net = layers.Conv2D(16, (3, 3), padding='SAME')(inputs)\n",
        "net = layers.Activation('relu')(net)\n",
        "net = layers.MaxPooling2D(pool_size=(2, 2))(net)\n",
        "\n",
        "net = layers.Conv2D(32, (3, 3), padding='SAME')(net)\n",
        "net = layers.Activation('relu')(net)\n",
        "net = layers.MaxPooling2D(pool_size=(2, 2))(net)\n",
        "net = layers.Dropout(0.4)(net)\n",
        "\n",
        "net = layers.Conv2D(64, (3, 3), padding='SAME')(net)\n",
        "net = layers.Activation('relu')(net)\n",
        "net = layers.MaxPooling2D(pool_size=(2, 2))(net)\n",
        "\n",
        "net = layers.Flatten()(net)\n",
        "net = layers.Dense(512)(net)\n",
        "net = layers.Activation('relu')(net)\n",
        "net = layers.Dropout(0.5)(net)\n",
        "net = layers.Dense(num_classes)(net)\n",
        "net = layers.Activation('softmax')(net)\n",
        "\n",
        "model = tf.keras.Model(inputs=inputs, outputs=net, name='quest')"
      ],
      "execution_count": 5,
      "outputs": []
    },
    {
      "cell_type": "code",
      "metadata": {
        "colab": {
          "base_uri": "https://localhost:8080/"
        },
        "id": "MEjpk_DHI2HO",
        "outputId": "3da0bb85-9597-4b10-d9f7-a9d96198a1b0"
      },
      "source": [
        "model.summary()"
      ],
      "execution_count": 6,
      "outputs": [
        {
          "output_type": "stream",
          "text": [
            "Model: \"quest\"\n",
            "_________________________________________________________________\n",
            "Layer (type)                 Output Shape              Param #   \n",
            "=================================================================\n",
            "input_1 (InputLayer)         [(None, 32, 32, 3)]       0         \n",
            "_________________________________________________________________\n",
            "conv2d (Conv2D)              (None, 32, 32, 16)        448       \n",
            "_________________________________________________________________\n",
            "activation (Activation)      (None, 32, 32, 16)        0         \n",
            "_________________________________________________________________\n",
            "max_pooling2d (MaxPooling2D) (None, 16, 16, 16)        0         \n",
            "_________________________________________________________________\n",
            "conv2d_1 (Conv2D)            (None, 16, 16, 32)        4640      \n",
            "_________________________________________________________________\n",
            "activation_1 (Activation)    (None, 16, 16, 32)        0         \n",
            "_________________________________________________________________\n",
            "max_pooling2d_1 (MaxPooling2 (None, 8, 8, 32)          0         \n",
            "_________________________________________________________________\n",
            "dropout (Dropout)            (None, 8, 8, 32)          0         \n",
            "_________________________________________________________________\n",
            "conv2d_2 (Conv2D)            (None, 8, 8, 64)          18496     \n",
            "_________________________________________________________________\n",
            "activation_2 (Activation)    (None, 8, 8, 64)          0         \n",
            "_________________________________________________________________\n",
            "max_pooling2d_2 (MaxPooling2 (None, 4, 4, 64)          0         \n",
            "_________________________________________________________________\n",
            "flatten (Flatten)            (None, 1024)              0         \n",
            "_________________________________________________________________\n",
            "dense (Dense)                (None, 512)               524800    \n",
            "_________________________________________________________________\n",
            "activation_3 (Activation)    (None, 512)               0         \n",
            "_________________________________________________________________\n",
            "dropout_1 (Dropout)          (None, 512)               0         \n",
            "_________________________________________________________________\n",
            "dense_1 (Dense)              (None, 10)                5130      \n",
            "_________________________________________________________________\n",
            "activation_4 (Activation)    (None, 10)                0         \n",
            "=================================================================\n",
            "Total params: 553,514\n",
            "Trainable params: 553,514\n",
            "Non-trainable params: 0\n",
            "_________________________________________________________________\n"
          ],
          "name": "stdout"
        }
      ]
    },
    {
      "cell_type": "code",
      "metadata": {
        "id": "TinIQzpFI2HO"
      },
      "source": [
        "model.compile(optimizer='adam',\n",
        "              loss='sparse_categorical_crossentropy', \n",
        "              metrics='accuracy')"
      ],
      "execution_count": 7,
      "outputs": []
    },
    {
      "cell_type": "markdown",
      "metadata": {
        "id": "RkdFEu94HkPw"
      },
      "source": [
        "# Prepare Data for Evaluating\n"
      ]
    },
    {
      "cell_type": "code",
      "metadata": {
        "colab": {
          "base_uri": "https://localhost:8080/"
        },
        "id": "TVpdUJQ1I2HO",
        "outputId": "19107213-b5f7-40c9-9f39-0abedd56fccb"
      },
      "source": [
        "train_x.shape, train_y.shape"
      ],
      "execution_count": 8,
      "outputs": [
        {
          "output_type": "execute_result",
          "data": {
            "text/plain": [
              "((50000, 32, 32, 3), (50000, 1))"
            ]
          },
          "metadata": {
            "tags": []
          },
          "execution_count": 8
        }
      ]
    },
    {
      "cell_type": "code",
      "metadata": {
        "colab": {
          "base_uri": "https://localhost:8080/"
        },
        "id": "htN2SZwuI2HO",
        "outputId": "4fa20145-c919-4c01-8c02-9bee2a82a953"
      },
      "source": [
        "test_x.shape, test_y.shape"
      ],
      "execution_count": 9,
      "outputs": [
        {
          "output_type": "execute_result",
          "data": {
            "text/plain": [
              "((10000, 32, 32, 3), (10000, 1))"
            ]
          },
          "metadata": {
            "tags": []
          },
          "execution_count": 9
        }
      ]
    },
    {
      "cell_type": "markdown",
      "metadata": {
        "id": "_elNXoMNI2HO"
      },
      "source": [
        "차원 수 늘리기"
      ]
    },
    {
      "cell_type": "code",
      "metadata": {
        "id": "Iy1le43_I2HO"
      },
      "source": [
        "train_x = train_x[..., tf.newaxis]\n",
        "test_x = test_x[..., tf.newaxis]"
      ],
      "execution_count": 10,
      "outputs": []
    },
    {
      "cell_type": "code",
      "metadata": {
        "colab": {
          "base_uri": "https://localhost:8080/"
        },
        "id": "2jnWYed-I2HO",
        "outputId": "6675ce5c-3065-41df-9f20-6408fb7576c1"
      },
      "source": [
        "train_x.shape"
      ],
      "execution_count": 11,
      "outputs": [
        {
          "output_type": "execute_result",
          "data": {
            "text/plain": [
              "(50000, 32, 32, 3, 1)"
            ]
          },
          "metadata": {
            "tags": []
          },
          "execution_count": 11
        }
      ]
    },
    {
      "cell_type": "code",
      "metadata": {
        "colab": {
          "base_uri": "https://localhost:8080/"
        },
        "id": "noAQzMFGI2HO",
        "outputId": "a02a7326-ba44-4ccd-d5b3-25f32f452a51"
      },
      "source": [
        "test_x.shape"
      ],
      "execution_count": 12,
      "outputs": [
        {
          "output_type": "execute_result",
          "data": {
            "text/plain": [
              "(10000, 32, 32, 3, 1)"
            ]
          },
          "metadata": {
            "tags": []
          },
          "execution_count": 12
        }
      ]
    },
    {
      "cell_type": "markdown",
      "metadata": {
        "id": "mbqMC7h9I2HO"
      },
      "source": [
        "Rescaling"
      ]
    },
    {
      "cell_type": "code",
      "metadata": {
        "colab": {
          "base_uri": "https://localhost:8080/"
        },
        "id": "sRX8h2H5I2HO",
        "outputId": "ede30d24-e222-4763-8680-02abb661f218"
      },
      "source": [
        "np.min(train_x), np.max(train_x)"
      ],
      "execution_count": 13,
      "outputs": [
        {
          "output_type": "execute_result",
          "data": {
            "text/plain": [
              "(0, 255)"
            ]
          },
          "metadata": {
            "tags": []
          },
          "execution_count": 13
        }
      ]
    },
    {
      "cell_type": "code",
      "metadata": {
        "colab": {
          "base_uri": "https://localhost:8080/"
        },
        "id": "QPtxe8KXI2HP",
        "outputId": "1e17744b-4ce9-48cc-dc37-48e2eef92acc"
      },
      "source": [
        "train_x = train_x / 255.\n",
        "test_x = test_x / 255.\n",
        "\n",
        "np.min(train_x), np.max(train_x)"
      ],
      "execution_count": 14,
      "outputs": [
        {
          "output_type": "execute_result",
          "data": {
            "text/plain": [
              "(0.0, 1.0)"
            ]
          },
          "metadata": {
            "tags": []
          },
          "execution_count": 14
        }
      ]
    },
    {
      "cell_type": "markdown",
      "metadata": {
        "id": "f_3B85UtI2HP"
      },
      "source": [
        "# Training  "
      ]
    },
    {
      "cell_type": "code",
      "metadata": {
        "id": "R--Asb_tI2HP"
      },
      "source": [
        "num_epochs = 100\n",
        "batch_size = 256"
      ],
      "execution_count": 15,
      "outputs": []
    },
    {
      "cell_type": "code",
      "metadata": {
        "colab": {
          "base_uri": "https://localhost:8080/"
        },
        "id": "1Cb-wAIgI2HP",
        "outputId": "fe94487b-156e-423c-d8b6-15d4153504b5"
      },
      "source": [
        "hist = model.fit(train_x, train_y, \n",
        "                 batch_size=batch_size, \n",
        "                 shuffle=True, \n",
        "                 epochs=num_epochs) "
      ],
      "execution_count": 16,
      "outputs": [
        {
          "output_type": "stream",
          "text": [
            "Epoch 1/100\n",
            "196/196 [==============================] - 1s 7ms/step - loss: 1.8062 - accuracy: 0.3342\n",
            "Epoch 2/100\n",
            "196/196 [==============================] - 1s 6ms/step - loss: 1.4886 - accuracy: 0.4590\n",
            "Epoch 3/100\n",
            "196/196 [==============================] - 1s 6ms/step - loss: 1.3474 - accuracy: 0.5178\n",
            "Epoch 4/100\n",
            "196/196 [==============================] - 1s 6ms/step - loss: 1.2483 - accuracy: 0.5539\n",
            "Epoch 5/100\n",
            "196/196 [==============================] - 1s 6ms/step - loss: 1.1752 - accuracy: 0.5787\n",
            "Epoch 6/100\n",
            "196/196 [==============================] - 1s 6ms/step - loss: 1.1100 - accuracy: 0.6049\n",
            "Epoch 7/100\n",
            "196/196 [==============================] - 1s 6ms/step - loss: 1.0564 - accuracy: 0.6249\n",
            "Epoch 8/100\n",
            "196/196 [==============================] - 1s 6ms/step - loss: 1.0155 - accuracy: 0.6385\n",
            "Epoch 9/100\n",
            "196/196 [==============================] - 1s 6ms/step - loss: 0.9789 - accuracy: 0.6528\n",
            "Epoch 10/100\n",
            "196/196 [==============================] - 1s 7ms/step - loss: 0.9451 - accuracy: 0.6664\n",
            "Epoch 11/100\n",
            "196/196 [==============================] - 1s 7ms/step - loss: 0.9145 - accuracy: 0.6766\n",
            "Epoch 12/100\n",
            "196/196 [==============================] - 1s 7ms/step - loss: 0.8874 - accuracy: 0.6859\n",
            "Epoch 13/100\n",
            "196/196 [==============================] - 1s 7ms/step - loss: 0.8643 - accuracy: 0.6950\n",
            "Epoch 14/100\n",
            "196/196 [==============================] - 1s 6ms/step - loss: 0.8402 - accuracy: 0.7041\n",
            "Epoch 15/100\n",
            "196/196 [==============================] - 1s 6ms/step - loss: 0.8192 - accuracy: 0.7099\n",
            "Epoch 16/100\n",
            "196/196 [==============================] - 1s 6ms/step - loss: 0.8053 - accuracy: 0.7153\n",
            "Epoch 17/100\n",
            "196/196 [==============================] - 1s 7ms/step - loss: 0.7846 - accuracy: 0.7235\n",
            "Epoch 18/100\n",
            "196/196 [==============================] - 1s 6ms/step - loss: 0.7690 - accuracy: 0.7286\n",
            "Epoch 19/100\n",
            "196/196 [==============================] - 1s 6ms/step - loss: 0.7535 - accuracy: 0.7339\n",
            "Epoch 20/100\n",
            "196/196 [==============================] - 1s 6ms/step - loss: 0.7409 - accuracy: 0.7361\n",
            "Epoch 21/100\n",
            "196/196 [==============================] - 1s 6ms/step - loss: 0.7278 - accuracy: 0.7430\n",
            "Epoch 22/100\n",
            "196/196 [==============================] - 1s 6ms/step - loss: 0.7095 - accuracy: 0.7485\n",
            "Epoch 23/100\n",
            "196/196 [==============================] - 1s 6ms/step - loss: 0.6983 - accuracy: 0.7526\n",
            "Epoch 24/100\n",
            "196/196 [==============================] - 1s 6ms/step - loss: 0.6869 - accuracy: 0.7569\n",
            "Epoch 25/100\n",
            "196/196 [==============================] - 1s 6ms/step - loss: 0.6749 - accuracy: 0.7600\n",
            "Epoch 26/100\n",
            "196/196 [==============================] - 1s 6ms/step - loss: 0.6656 - accuracy: 0.7631\n",
            "Epoch 27/100\n",
            "196/196 [==============================] - 1s 6ms/step - loss: 0.6500 - accuracy: 0.7703\n",
            "Epoch 28/100\n",
            "196/196 [==============================] - 1s 6ms/step - loss: 0.6447 - accuracy: 0.7710\n",
            "Epoch 29/100\n",
            "196/196 [==============================] - 1s 6ms/step - loss: 0.6371 - accuracy: 0.7757\n",
            "Epoch 30/100\n",
            "196/196 [==============================] - 1s 6ms/step - loss: 0.6228 - accuracy: 0.7772\n",
            "Epoch 31/100\n",
            "196/196 [==============================] - 1s 6ms/step - loss: 0.6198 - accuracy: 0.7786\n",
            "Epoch 32/100\n",
            "196/196 [==============================] - 1s 6ms/step - loss: 0.6090 - accuracy: 0.7841\n",
            "Epoch 33/100\n",
            "196/196 [==============================] - 1s 6ms/step - loss: 0.5957 - accuracy: 0.7874\n",
            "Epoch 34/100\n",
            "196/196 [==============================] - 1s 6ms/step - loss: 0.5964 - accuracy: 0.7884\n",
            "Epoch 35/100\n",
            "196/196 [==============================] - 1s 6ms/step - loss: 0.5821 - accuracy: 0.7913\n",
            "Epoch 36/100\n",
            "196/196 [==============================] - 1s 6ms/step - loss: 0.5773 - accuracy: 0.7934\n",
            "Epoch 37/100\n",
            "196/196 [==============================] - 1s 6ms/step - loss: 0.5722 - accuracy: 0.7944\n",
            "Epoch 38/100\n",
            "196/196 [==============================] - 1s 6ms/step - loss: 0.5653 - accuracy: 0.7983\n",
            "Epoch 39/100\n",
            "196/196 [==============================] - 1s 6ms/step - loss: 0.5563 - accuracy: 0.8007\n",
            "Epoch 40/100\n",
            "196/196 [==============================] - 1s 6ms/step - loss: 0.5513 - accuracy: 0.8024\n",
            "Epoch 41/100\n",
            "196/196 [==============================] - 1s 6ms/step - loss: 0.5459 - accuracy: 0.8040\n",
            "Epoch 42/100\n",
            "196/196 [==============================] - 1s 6ms/step - loss: 0.5413 - accuracy: 0.8065\n",
            "Epoch 43/100\n",
            "196/196 [==============================] - 1s 6ms/step - loss: 0.5403 - accuracy: 0.8061\n",
            "Epoch 44/100\n",
            "196/196 [==============================] - 1s 6ms/step - loss: 0.5324 - accuracy: 0.8097\n",
            "Epoch 45/100\n",
            "196/196 [==============================] - 1s 6ms/step - loss: 0.5182 - accuracy: 0.8139\n",
            "Epoch 46/100\n",
            "196/196 [==============================] - 1s 6ms/step - loss: 0.5202 - accuracy: 0.8136\n",
            "Epoch 47/100\n",
            "196/196 [==============================] - 1s 6ms/step - loss: 0.5121 - accuracy: 0.8153\n",
            "Epoch 48/100\n",
            "196/196 [==============================] - 1s 6ms/step - loss: 0.5032 - accuracy: 0.8195\n",
            "Epoch 49/100\n",
            "196/196 [==============================] - 1s 6ms/step - loss: 0.5010 - accuracy: 0.8199\n",
            "Epoch 50/100\n",
            "196/196 [==============================] - 1s 6ms/step - loss: 0.5038 - accuracy: 0.8197\n",
            "Epoch 51/100\n",
            "196/196 [==============================] - 1s 6ms/step - loss: 0.4918 - accuracy: 0.8224\n",
            "Epoch 52/100\n",
            "196/196 [==============================] - 1s 6ms/step - loss: 0.4905 - accuracy: 0.8251\n",
            "Epoch 53/100\n",
            "196/196 [==============================] - 1s 6ms/step - loss: 0.4872 - accuracy: 0.8262\n",
            "Epoch 54/100\n",
            "196/196 [==============================] - 1s 6ms/step - loss: 0.4839 - accuracy: 0.8242\n",
            "Epoch 55/100\n",
            "196/196 [==============================] - 1s 6ms/step - loss: 0.4748 - accuracy: 0.8303\n",
            "Epoch 56/100\n",
            "196/196 [==============================] - 1s 6ms/step - loss: 0.4673 - accuracy: 0.8298\n",
            "Epoch 57/100\n",
            "196/196 [==============================] - 1s 6ms/step - loss: 0.4702 - accuracy: 0.8302\n",
            "Epoch 58/100\n",
            "196/196 [==============================] - 1s 6ms/step - loss: 0.4652 - accuracy: 0.8319\n",
            "Epoch 59/100\n",
            "196/196 [==============================] - 1s 6ms/step - loss: 0.4667 - accuracy: 0.8315\n",
            "Epoch 60/100\n",
            "196/196 [==============================] - 1s 6ms/step - loss: 0.4577 - accuracy: 0.8354\n",
            "Epoch 61/100\n",
            "196/196 [==============================] - 1s 6ms/step - loss: 0.4635 - accuracy: 0.8343\n",
            "Epoch 62/100\n",
            "196/196 [==============================] - 1s 6ms/step - loss: 0.4552 - accuracy: 0.8362\n",
            "Epoch 63/100\n",
            "196/196 [==============================] - 1s 6ms/step - loss: 0.4522 - accuracy: 0.8367\n",
            "Epoch 64/100\n",
            "196/196 [==============================] - 1s 6ms/step - loss: 0.4495 - accuracy: 0.8366\n",
            "Epoch 65/100\n",
            "196/196 [==============================] - 1s 6ms/step - loss: 0.4389 - accuracy: 0.8425\n",
            "Epoch 66/100\n",
            "196/196 [==============================] - 1s 6ms/step - loss: 0.4366 - accuracy: 0.8422\n",
            "Epoch 67/100\n",
            "196/196 [==============================] - 1s 6ms/step - loss: 0.4414 - accuracy: 0.8417\n",
            "Epoch 68/100\n",
            "196/196 [==============================] - 1s 6ms/step - loss: 0.4326 - accuracy: 0.8449\n",
            "Epoch 69/100\n",
            "196/196 [==============================] - 1s 6ms/step - loss: 0.4264 - accuracy: 0.8474\n",
            "Epoch 70/100\n",
            "196/196 [==============================] - 1s 6ms/step - loss: 0.4321 - accuracy: 0.8436\n",
            "Epoch 71/100\n",
            "196/196 [==============================] - 1s 6ms/step - loss: 0.4176 - accuracy: 0.8487\n",
            "Epoch 72/100\n",
            "196/196 [==============================] - 1s 6ms/step - loss: 0.4222 - accuracy: 0.8465\n",
            "Epoch 73/100\n",
            "196/196 [==============================] - 1s 6ms/step - loss: 0.4210 - accuracy: 0.8476\n",
            "Epoch 74/100\n",
            "196/196 [==============================] - 1s 6ms/step - loss: 0.4116 - accuracy: 0.8523\n",
            "Epoch 75/100\n",
            "196/196 [==============================] - 1s 6ms/step - loss: 0.4056 - accuracy: 0.8536\n",
            "Epoch 76/100\n",
            "196/196 [==============================] - 1s 6ms/step - loss: 0.4162 - accuracy: 0.8491\n",
            "Epoch 77/100\n",
            "196/196 [==============================] - 1s 6ms/step - loss: 0.4096 - accuracy: 0.8523\n",
            "Epoch 78/100\n",
            "196/196 [==============================] - 1s 6ms/step - loss: 0.4071 - accuracy: 0.8533\n",
            "Epoch 79/100\n",
            "196/196 [==============================] - 1s 6ms/step - loss: 0.4082 - accuracy: 0.8527\n",
            "Epoch 80/100\n",
            "196/196 [==============================] - 1s 6ms/step - loss: 0.3998 - accuracy: 0.8558\n",
            "Epoch 81/100\n",
            "196/196 [==============================] - 1s 6ms/step - loss: 0.3968 - accuracy: 0.8569\n",
            "Epoch 82/100\n",
            "196/196 [==============================] - 1s 6ms/step - loss: 0.3968 - accuracy: 0.8550\n",
            "Epoch 83/100\n",
            "196/196 [==============================] - 1s 6ms/step - loss: 0.3952 - accuracy: 0.8564\n",
            "Epoch 84/100\n",
            "196/196 [==============================] - 1s 6ms/step - loss: 0.3929 - accuracy: 0.8582\n",
            "Epoch 85/100\n",
            "196/196 [==============================] - 1s 6ms/step - loss: 0.3919 - accuracy: 0.8575\n",
            "Epoch 86/100\n",
            "196/196 [==============================] - 1s 6ms/step - loss: 0.3919 - accuracy: 0.8590\n",
            "Epoch 87/100\n",
            "196/196 [==============================] - 1s 6ms/step - loss: 0.3850 - accuracy: 0.8605\n",
            "Epoch 88/100\n",
            "196/196 [==============================] - 1s 6ms/step - loss: 0.3901 - accuracy: 0.8592\n",
            "Epoch 89/100\n",
            "196/196 [==============================] - 1s 6ms/step - loss: 0.3829 - accuracy: 0.8611\n",
            "Epoch 90/100\n",
            "196/196 [==============================] - 1s 6ms/step - loss: 0.3822 - accuracy: 0.8627\n",
            "Epoch 91/100\n",
            "196/196 [==============================] - 1s 6ms/step - loss: 0.3858 - accuracy: 0.8601\n",
            "Epoch 92/100\n",
            "196/196 [==============================] - 1s 6ms/step - loss: 0.3770 - accuracy: 0.8645\n",
            "Epoch 93/100\n",
            "196/196 [==============================] - 1s 6ms/step - loss: 0.3779 - accuracy: 0.8632\n",
            "Epoch 94/100\n",
            "196/196 [==============================] - 1s 6ms/step - loss: 0.3795 - accuracy: 0.8623\n",
            "Epoch 95/100\n",
            "196/196 [==============================] - 1s 6ms/step - loss: 0.3842 - accuracy: 0.8615\n",
            "Epoch 96/100\n",
            "196/196 [==============================] - 1s 6ms/step - loss: 0.3760 - accuracy: 0.8650\n",
            "Epoch 97/100\n",
            "196/196 [==============================] - 1s 6ms/step - loss: 0.3724 - accuracy: 0.8654\n",
            "Epoch 98/100\n",
            "196/196 [==============================] - 1s 6ms/step - loss: 0.3698 - accuracy: 0.8657\n",
            "Epoch 99/100\n",
            "196/196 [==============================] - 1s 6ms/step - loss: 0.3766 - accuracy: 0.8637\n",
            "Epoch 100/100\n",
            "196/196 [==============================] - 1s 6ms/step - loss: 0.3711 - accuracy: 0.8653\n"
          ],
          "name": "stdout"
        }
      ]
    },
    {
      "cell_type": "code",
      "metadata": {
        "colab": {
          "base_uri": "https://localhost:8080/"
        },
        "id": "bQGaSF6cI2HP",
        "outputId": "45b16da5-9548-482f-a0de-ab02b22fbfad"
      },
      "source": [
        "hist.history"
      ],
      "execution_count": 17,
      "outputs": [
        {
          "output_type": "execute_result",
          "data": {
            "text/plain": [
              "{'accuracy': [0.334199994802475,\n",
              "  0.4590199887752533,\n",
              "  0.5178200006484985,\n",
              "  0.5539199709892273,\n",
              "  0.5787000060081482,\n",
              "  0.6049399971961975,\n",
              "  0.6249399781227112,\n",
              "  0.638480007648468,\n",
              "  0.6527799963951111,\n",
              "  0.6664199829101562,\n",
              "  0.676580011844635,\n",
              "  0.685920000076294,\n",
              "  0.6949800252914429,\n",
              "  0.7040799856185913,\n",
              "  0.7099199891090393,\n",
              "  0.7153199911117554,\n",
              "  0.7235000133514404,\n",
              "  0.7285599708557129,\n",
              "  0.7338799834251404,\n",
              "  0.7360799908638,\n",
              "  0.7430400252342224,\n",
              "  0.7484999895095825,\n",
              "  0.752560019493103,\n",
              "  0.7569000124931335,\n",
              "  0.7599599957466125,\n",
              "  0.7631000280380249,\n",
              "  0.7703400254249573,\n",
              "  0.7710000276565552,\n",
              "  0.7756800055503845,\n",
              "  0.777180016040802,\n",
              "  0.7785800099372864,\n",
              "  0.7841399908065796,\n",
              "  0.7874000072479248,\n",
              "  0.7884200215339661,\n",
              "  0.7913200259208679,\n",
              "  0.7933800220489502,\n",
              "  0.7944200038909912,\n",
              "  0.7983400225639343,\n",
              "  0.8006600141525269,\n",
              "  0.8024399876594543,\n",
              "  0.8039799928665161,\n",
              "  0.8064799904823303,\n",
              "  0.8060600161552429,\n",
              "  0.8097400069236755,\n",
              "  0.8139399886131287,\n",
              "  0.8136000037193298,\n",
              "  0.8153200149536133,\n",
              "  0.8195199966430664,\n",
              "  0.8199399709701538,\n",
              "  0.8197000026702881,\n",
              "  0.8224400281906128,\n",
              "  0.8250600099563599,\n",
              "  0.8262199759483337,\n",
              "  0.824180006980896,\n",
              "  0.830299973487854,\n",
              "  0.8297799825668335,\n",
              "  0.8302000164985657,\n",
              "  0.8319399952888489,\n",
              "  0.8314800262451172,\n",
              "  0.8353800177574158,\n",
              "  0.8343200087547302,\n",
              "  0.8361799716949463,\n",
              "  0.8367000222206116,\n",
              "  0.8365799784660339,\n",
              "  0.842519998550415,\n",
              "  0.8422399759292603,\n",
              "  0.8417199850082397,\n",
              "  0.8449000120162964,\n",
              "  0.8474199771881104,\n",
              "  0.8436400294303894,\n",
              "  0.8486800193786621,\n",
              "  0.8464800119400024,\n",
              "  0.8475599884986877,\n",
              "  0.8523200154304504,\n",
              "  0.8535799980163574,\n",
              "  0.8490599989891052,\n",
              "  0.8523200154304504,\n",
              "  0.8532800078392029,\n",
              "  0.8527200222015381,\n",
              "  0.8557800054550171,\n",
              "  0.8569200038909912,\n",
              "  0.8550199866294861,\n",
              "  0.8564199805259705,\n",
              "  0.858240008354187,\n",
              "  0.8574600219726562,\n",
              "  0.8590400218963623,\n",
              "  0.8604999780654907,\n",
              "  0.8591600060462952,\n",
              "  0.8611400127410889,\n",
              "  0.8626599907875061,\n",
              "  0.8600599765777588,\n",
              "  0.8645200133323669,\n",
              "  0.8632199764251709,\n",
              "  0.8622999787330627,\n",
              "  0.861519992351532,\n",
              "  0.8650199770927429,\n",
              "  0.8653600215911865,\n",
              "  0.8657000064849854,\n",
              "  0.8636800050735474,\n",
              "  0.865339994430542],\n",
              " 'loss': [1.8062254190444946,\n",
              "  1.4885854721069336,\n",
              "  1.3473756313323975,\n",
              "  1.2483052015304565,\n",
              "  1.1752053499221802,\n",
              "  1.110005259513855,\n",
              "  1.05638587474823,\n",
              "  1.0154995918273926,\n",
              "  0.9789261221885681,\n",
              "  0.9450914263725281,\n",
              "  0.9145135879516602,\n",
              "  0.8873540759086609,\n",
              "  0.8643369674682617,\n",
              "  0.8401954770088196,\n",
              "  0.8192107677459717,\n",
              "  0.8052961230278015,\n",
              "  0.7845830321311951,\n",
              "  0.7689502835273743,\n",
              "  0.7535145282745361,\n",
              "  0.7409051656723022,\n",
              "  0.7278170585632324,\n",
              "  0.7095007300376892,\n",
              "  0.6982510685920715,\n",
              "  0.686855137348175,\n",
              "  0.6748592853546143,\n",
              "  0.6656472086906433,\n",
              "  0.650013267993927,\n",
              "  0.6446956396102905,\n",
              "  0.6371393799781799,\n",
              "  0.6228343844413757,\n",
              "  0.6197964549064636,\n",
              "  0.6090142130851746,\n",
              "  0.5956937074661255,\n",
              "  0.5963810682296753,\n",
              "  0.5820751786231995,\n",
              "  0.577279806137085,\n",
              "  0.5722436904907227,\n",
              "  0.565305769443512,\n",
              "  0.5562698245048523,\n",
              "  0.5512862205505371,\n",
              "  0.5458809733390808,\n",
              "  0.5412525534629822,\n",
              "  0.5402655601501465,\n",
              "  0.5323823690414429,\n",
              "  0.5182409286499023,\n",
              "  0.5201810598373413,\n",
              "  0.5121400952339172,\n",
              "  0.5031788945198059,\n",
              "  0.5009934902191162,\n",
              "  0.5037911534309387,\n",
              "  0.49184027314186096,\n",
              "  0.4904508888721466,\n",
              "  0.487165242433548,\n",
              "  0.4838741421699524,\n",
              "  0.47479528188705444,\n",
              "  0.4673493504524231,\n",
              "  0.47023528814315796,\n",
              "  0.4651981294155121,\n",
              "  0.466682493686676,\n",
              "  0.45769527554512024,\n",
              "  0.46349090337753296,\n",
              "  0.4551849961280823,\n",
              "  0.4521959125995636,\n",
              "  0.44946563243865967,\n",
              "  0.43892809748649597,\n",
              "  0.4365966320037842,\n",
              "  0.44141796231269836,\n",
              "  0.43257495760917664,\n",
              "  0.4263542592525482,\n",
              "  0.43212875723838806,\n",
              "  0.417633593082428,\n",
              "  0.4222390651702881,\n",
              "  0.42101702094078064,\n",
              "  0.41157886385917664,\n",
              "  0.40557438135147095,\n",
              "  0.41616085171699524,\n",
              "  0.4095648527145386,\n",
              "  0.40711089968681335,\n",
              "  0.40821725130081177,\n",
              "  0.39975571632385254,\n",
              "  0.39679551124572754,\n",
              "  0.39676520228385925,\n",
              "  0.3952488601207733,\n",
              "  0.3929137885570526,\n",
              "  0.391899973154068,\n",
              "  0.3919280469417572,\n",
              "  0.38498175144195557,\n",
              "  0.39010071754455566,\n",
              "  0.38290008902549744,\n",
              "  0.3822295069694519,\n",
              "  0.3857570290565491,\n",
              "  0.3769625425338745,\n",
              "  0.3779201805591583,\n",
              "  0.37952443957328796,\n",
              "  0.3842402398586273,\n",
              "  0.37597861886024475,\n",
              "  0.37235912680625916,\n",
              "  0.36984238028526306,\n",
              "  0.37662315368652344,\n",
              "  0.37108397483825684]}"
            ]
          },
          "metadata": {
            "tags": []
          },
          "execution_count": 17
        }
      ]
    },
    {
      "cell_type": "markdown",
      "metadata": {
        "id": "MZUgl-6UI2HP"
      },
      "source": [
        "# Evaluating "
      ]
    },
    {
      "cell_type": "code",
      "metadata": {
        "colab": {
          "base_uri": "https://localhost:8080/"
        },
        "id": "Y1RnHkqyI2HP",
        "outputId": "16f45827-9e32-43fb-c49e-7c6d2cd12efb"
      },
      "source": [
        "model.evaluate(test_x, test_y, batch_size=batch_size)"
      ],
      "execution_count": 18,
      "outputs": [
        {
          "output_type": "stream",
          "text": [
            "40/40 [==============================] - 0s 4ms/step - loss: 0.7344 - accuracy: 0.7827\n"
          ],
          "name": "stdout"
        },
        {
          "output_type": "execute_result",
          "data": {
            "text/plain": [
              "[0.7344499826431274, 0.7827000021934509]"
            ]
          },
          "metadata": {
            "tags": []
          },
          "execution_count": 18
        }
      ]
    },
    {
      "cell_type": "code",
      "metadata": {
        "id": "WUlaPk74I2HP"
      },
      "source": [
        "import matplotlib.pyplot as plt\n",
        "\n",
        "import numpy as np\n",
        "\n",
        "%matplotlib inline"
      ],
      "execution_count": 19,
      "outputs": []
    },
    {
      "cell_type": "code",
      "metadata": {
        "colab": {
          "base_uri": "https://localhost:8080/"
        },
        "id": "EFpn2e6cI2HP",
        "outputId": "ec80d7b7-cabb-4284-ece3-244781a1d227"
      },
      "source": [
        "test_image = test_x[0, :, :, :,0]\n",
        "test_image.shape"
      ],
      "execution_count": 20,
      "outputs": [
        {
          "output_type": "execute_result",
          "data": {
            "text/plain": [
              "(32, 32, 3)"
            ]
          },
          "metadata": {
            "tags": []
          },
          "execution_count": 20
        }
      ]
    },
    {
      "cell_type": "code",
      "metadata": {
        "colab": {
          "base_uri": "https://localhost:8080/",
          "height": 317
        },
        "id": "Qssa8FiNI2HP",
        "outputId": "b32c6242-79ae-4d82-d1d6-c56a2914c8eb"
      },
      "source": [
        "plt.title(test_y[0])\n",
        "plt.imshow(test_image)\n",
        "plt.show()"
      ],
      "execution_count": 21,
      "outputs": [
        {
          "output_type": "stream",
          "text": [
            "/usr/local/lib/python3.6/dist-packages/matplotlib/text.py:1165: FutureWarning: elementwise comparison failed; returning scalar instead, but in the future will perform elementwise comparison\n",
            "  if s != self._text:\n"
          ],
          "name": "stderr"
        },
        {
          "output_type": "display_data",
          "data": {
            "image/png": "[encoded data removed]",
            "text/plain": [
              "<Figure size 432x288 with 1 Axes>"
            ]
          },
          "metadata": {
            "tags": [],
            "needs_background": "light"
          }
        }
      ]
    },
    {
      "cell_type": "code",
      "metadata": {
        "id": "lNVGoaFzI2HP"
      },
      "source": [
        "pred = model.predict(test_image.reshape(1, 32, 32, 3, 1))"
      ],
      "execution_count": 22,
      "outputs": []
    },
    {
      "cell_type": "code",
      "metadata": {
        "colab": {
          "base_uri": "https://localhost:8080/"
        },
        "id": "pJNu5P1MI2HP",
        "outputId": "d07723ec-7ec8-4826-9a4d-97e46e183e8b"
      },
      "source": [
        "pred.shape"
      ],
      "execution_count": 23,
      "outputs": [
        {
          "output_type": "execute_result",
          "data": {
            "text/plain": [
              "(1, 10)"
            ]
          },
          "metadata": {
            "tags": []
          },
          "execution_count": 23
        }
      ]
    },
    {
      "cell_type": "code",
      "metadata": {
        "colab": {
          "base_uri": "https://localhost:8080/"
        },
        "id": "jjm24MCmI2HP",
        "outputId": "b5ca3c23-b0f5-4909-d446-58accc0a0df0"
      },
      "source": [
        "pred"
      ],
      "execution_count": 24,
      "outputs": [
        {
          "output_type": "execute_result",
          "data": {
            "text/plain": [
              "array([[6.1189319e-04, 2.9658065e-06, 4.7582580e-06, 7.9250407e-01,\n",
              "        1.5455973e-05, 2.0666586e-01, 3.1546184e-05, 6.0112284e-06,\n",
              "        3.5604637e-05, 1.2186711e-04]], dtype=float32)"
            ]
          },
          "metadata": {
            "tags": []
          },
          "execution_count": 24
        }
      ]
    },
    {
      "cell_type": "code",
      "metadata": {
        "colab": {
          "base_uri": "https://localhost:8080/"
        },
        "id": "CBahecxzI2HP",
        "outputId": "886fb724-1350-4b15-b759-1725c82eefe7"
      },
      "source": [
        "np.argmax(pred)"
      ],
      "execution_count": 25,
      "outputs": [
        {
          "output_type": "execute_result",
          "data": {
            "text/plain": [
              "3"
            ]
          },
          "metadata": {
            "tags": []
          },
          "execution_count": 25
        }
      ]
    },
    {
      "cell_type": "code",
      "metadata": {
        "id": "rxu_IiyVO5E1"
      },
      "source": [
        ""
      ],
      "execution_count": 25,
      "outputs": []
    }
  ]
}