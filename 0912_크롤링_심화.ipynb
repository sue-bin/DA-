{
  "nbformat": 4,
  "nbformat_minor": 0,
  "metadata": {
    "kernelspec": {
      "display_name": "Python 3",
      "language": "python",
      "name": "python3"
    },
    "language_info": {
      "codemirror_mode": {
        "name": "ipython",
        "version": 3
      },
      "file_extension": ".py",
      "mimetype": "text/x-python",
      "name": "python",
      "nbconvert_exporter": "python",
      "pygments_lexer": "ipython3",
      "version": "3.7.4"
    },
    "colab": {
      "name": "0912 크롤링 심화.ipynb",
      "provenance": [],
      "include_colab_link": true
    }
  },
  "cells": [
    {
      "cell_type": "markdown",
      "metadata": {
        "id": "view-in-github",
        "colab_type": "text"
      },
      "source": [
        "<a href=\"https://colab.research.google.com/github/sue-bin/DA-session-quest/blob/master/0912_%ED%81%AC%EB%A1%A4%EB%A7%81_%EC%8B%AC%ED%99%94.ipynb\" target=\"_parent\"><img src=\"https://colab.research.google.com/assets/colab-badge.svg\" alt=\"Open In Colab\"/></a>"
      ]
    },
    {
      "cell_type": "markdown",
      "metadata": {
        "id": "tSnpgHwiDNNT",
        "colab_type": "text"
      },
      "source": [
        "### 크롤링 과제: Ajax 이용해서 다음 웹툰 크롤링 해보기"
      ]
    },
    {
      "cell_type": "code",
      "metadata": {
        "id": "BzuTfeL9DNNU",
        "colab_type": "code",
        "colab": {}
      },
      "source": [
        "from bs4 import BeautifulSoup"
      ],
      "execution_count": 1,
      "outputs": []
    },
    {
      "cell_type": "code",
      "metadata": {
        "scrolled": true,
        "id": "Cts6c-wTDNNa",
        "colab_type": "code",
        "colab": {
          "base_uri": "https://localhost:8080/",
          "height": 93
        },
        "outputId": "09738ce5-2480-4505-9f6b-0b4c004d536e"
      },
      "source": [
        "# 다음 웹툰도 다음 주식처럼 아무것도 나오지 않네요ㅠㅠ\n",
        "bs = BeautifulSoup('http://webtoon.daum.net', 'html.parser')\n",
        "bs.select('#daumWrap')"
      ],
      "execution_count": 2,
      "outputs": [
        {
          "output_type": "stream",
          "text": [
            "/usr/local/lib/python3.6/dist-packages/bs4/__init__.py:336: UserWarning: \"http://webtoon.daum.net\" looks like a URL. Beautiful Soup is not an HTTP client. You should probably use an HTTP client like requests to get the document behind the URL, and feed that document to Beautiful Soup.\n",
            "  ' that document to Beautiful Soup.' % decoded_markup\n"
          ],
          "name": "stderr"
        },
        {
          "output_type": "execute_result",
          "data": {
            "text/plain": [
              "[]"
            ]
          },
          "metadata": {
            "tags": []
          },
          "execution_count": 2
        }
      ]
    },
    {
      "cell_type": "markdown",
      "metadata": {
        "id": "VfBzjUbtDNNf",
        "colab_type": "text"
      },
      "source": [
        "#### 과제 1. Ajax에서 json 정보를 찾아서 정제한 다음 아래 데이터프레임으로 만들어주세요.\n",
        "\n",
        "* 웹툰 링크에서 기본적으로 그 요일의 웹툰만 보여주기 때문에, 언제 했는지에 따라 나오는 웹툰 종류가 다를거에요. 토요일로 굳이 찾아서 하지 말고 당일 웹툰으로 해주세요~~"
      ]
    },
    {
      "cell_type": "code",
      "metadata": {
        "id": "rTQDnQwoDbLN",
        "colab_type": "code",
        "colab": {}
      },
      "source": [
        ""
      ],
      "execution_count": null,
      "outputs": []
    },
    {
      "cell_type": "code",
      "metadata": {
        "scrolled": false,
        "id": "V8b48qvbDNNg",
        "colab_type": "code",
        "colab": {
          "base_uri": "https://localhost:8080/",
          "height": 176
        },
        "outputId": "15fffa00-f086-444b-e495-421e78c837b3"
      },
      "source": [
        "df.head()"
      ],
      "execution_count": 3,
      "outputs": [
        {
          "output_type": "error",
          "ename": "NameError",
          "evalue": "ignored",
          "traceback": [
            "\u001b[0;31m---------------------------------------------------------------------------\u001b[0m",
            "\u001b[0;31mNameError\u001b[0m                                 Traceback (most recent call last)",
            "\u001b[0;32m<ipython-input-3-c42a15b2c7cf>\u001b[0m in \u001b[0;36m<module>\u001b[0;34m()\u001b[0m\n\u001b[0;32m----> 1\u001b[0;31m \u001b[0mdf\u001b[0m\u001b[0;34m.\u001b[0m\u001b[0mhead\u001b[0m\u001b[0;34m(\u001b[0m\u001b[0;34m)\u001b[0m\u001b[0;34m\u001b[0m\u001b[0;34m\u001b[0m\u001b[0m\n\u001b[0m",
            "\u001b[0;31mNameError\u001b[0m: name 'df' is not defined"
          ]
        }
      ]
    },
    {
      "cell_type": "markdown",
      "metadata": {
        "id": "AavaY81HDNNo",
        "colab_type": "text"
      },
      "source": [
        "    \n",
        "    \n",
        "    \n",
        "    \n",
        "    \n",
        "    \n",
        "    "
      ]
    },
    {
      "cell_type": "markdown",
      "metadata": {
        "id": "KS3SgBrWDNNq",
        "colab_type": "text"
      },
      "source": [
        "#### 과제 2. \"썸네일\"이라는 폴더를 만든 다음, 각 웹툰의 썸네일을 \"웹툰 순위 + 그 웹툰의 이름\"으로 저장해 주세요.\n",
        "\n",
        "* 웹툰의 순위는 젤 위에 있는걸 1번으로 해주세요."
      ]
    },
    {
      "cell_type": "markdown",
      "metadata": {
        "id": "Q1xCUjQMDNNs",
        "colab_type": "text"
      },
      "source": [
        "![image.png](./img/과제사진.png)\n",
        "\n",
        "이런 식으로 저장해주시면 돼요!\n",
        "\n",
        "**<span style=\"color:#00C090\">화이팅이에요:)</span>**"
      ]
    },
    {
      "cell_type": "code",
      "metadata": {
        "id": "7vyXu1WoDNNt",
        "colab_type": "code",
        "colab": {}
      },
      "source": [
        ""
      ],
      "execution_count": null,
      "outputs": []
    }
  ]
}