{
  "nbformat": 4,
  "nbformat_minor": 0,
  "metadata": {
    "kernelspec": {
      "display_name": "Python 3",
      "language": "python",
      "name": "python3"
    },
    "language_info": {
      "codemirror_mode": {
        "name": "ipython",
        "version": 3
      },
      "file_extension": ".py",
      "mimetype": "text/x-python",
      "name": "python",
      "nbconvert_exporter": "python",
      "pygments_lexer": "ipython3",
      "version": "3.7.4"
    },
    "colab": {
      "name": "0912 크롤링 심화.ipynb",
      "provenance": [],
      "collapsed_sections": [],
      "include_colab_link": true
    }
  },
  "cells": [
    {
      "cell_type": "markdown",
      "metadata": {
        "id": "view-in-github",
        "colab_type": "text"
      },
      "source": [
        "<a href=\"https://colab.research.google.com/github/sue-bin/DA-session-quest/blob/master/0912_%ED%81%AC%EB%A1%A4%EB%A7%81_%EC%8B%AC%ED%99%94.ipynb\" target=\"_parent\"><img src=\"https://colab.research.google.com/assets/colab-badge.svg\" alt=\"Open In Colab\"/></a>"
      ]
    },
    {
      "cell_type": "markdown",
      "metadata": {
        "id": "tSnpgHwiDNNT",
        "colab_type": "text"
      },
      "source": [
        "### 크롤링 과제: Ajax 이용해서 다음 웹툰 크롤링 해보기"
      ]
    },
    {
      "cell_type": "code",
      "metadata": {
        "id": "BzuTfeL9DNNU",
        "colab_type": "code",
        "colab": {}
      },
      "source": [
        "from bs4 import BeautifulSoup"
      ],
      "execution_count": 1,
      "outputs": []
    },
    {
      "cell_type": "code",
      "metadata": {
        "scrolled": true,
        "id": "Cts6c-wTDNNa",
        "colab_type": "code",
        "colab": {
          "base_uri": "https://localhost:8080/",
          "height": 90
        },
        "outputId": "b3c70333-3589-4982-e115-ec9deb8e28c3"
      },
      "source": [
        "# 다음 웹툰도 다음 주식처럼 아무것도 나오지 않네요ㅠㅠ\n",
        "bs = BeautifulSoup('http://webtoon.daum.net', 'html.parser')\n",
        "bs.select('#daumWrap')"
      ],
      "execution_count": 2,
      "outputs": [
        {
          "output_type": "stream",
          "text": [
            "/usr/local/lib/python3.6/dist-packages/bs4/__init__.py:336: UserWarning: \"http://webtoon.daum.net\" looks like a URL. Beautiful Soup is not an HTTP client. You should probably use an HTTP client like requests to get the document behind the URL, and feed that document to Beautiful Soup.\n",
            "  ' that document to Beautiful Soup.' % decoded_markup\n"
          ],
          "name": "stderr"
        },
        {
          "output_type": "execute_result",
          "data": {
            "text/plain": [
              "[]"
            ]
          },
          "metadata": {
            "tags": []
          },
          "execution_count": 2
        }
      ]
    },
    {
      "cell_type": "markdown",
      "metadata": {
        "id": "VfBzjUbtDNNf",
        "colab_type": "text"
      },
      "source": [
        "#### 과제 1. Ajax에서 json 정보를 찾아서 정제한 다음 아래 데이터프레임으로 만들어주세요.\n",
        "\n",
        "* 웹툰 링크에서 기본적으로 그 요일의 웹툰만 보여주기 때문에, 언제 했는지에 따라 나오는 웹툰 종류가 다를거에요. 토요일로 굳이 찾아서 하지 말고 당일 웹툰으로 해주세요~~"
      ]
    },
    {
      "cell_type": "code",
      "metadata": {
        "id": "rTQDnQwoDbLN",
        "colab_type": "code",
        "colab": {}
      },
      "source": [
        "import os\n",
        "import sys\n",
        "import urllib.request\n",
        "import json \n",
        "import pandas as pd\n",
        "import requests\n",
        "import json"
      ],
      "execution_count": 5,
      "outputs": []
    },
    {
      "cell_type": "code",
      "metadata": {
        "id": "itYiMQ4l8mXv",
        "colab_type": "code",
        "colab": {}
      },
      "source": [
        "headers = {\n",
        "    'referer' : 'http://webtoon.daum.net',\n",
        "    'User-Agent':'Mozilla/5.0 (Windows NT 10.0; Win64; x64) AppleWebKit/537.36 (KHTML, like Gecko) Chrome/74.0.3729.169 Safari/537.36'\n",
        "}\n",
        "\n",
        "url = 'http://webtoon.daum.net/data/pc/webtoon/list_serialized/tue?timeStamp=1600177511466'\n",
        "\n",
        "request = urllib.request.Request(url, headers = headers)\n",
        "\n",
        "response = urllib.request.urlopen(request)"
      ],
      "execution_count": 6,
      "outputs": []
    },
    {
      "cell_type": "code",
      "metadata": {
        "id": "nD5YaO3hCNpm",
        "colab_type": "code",
        "colab": {
          "base_uri": "https://localhost:8080/",
          "height": 36
        },
        "outputId": "79935251-4ca0-4dd6-bafc-bf81adaa3fdf"
      },
      "source": [
        "response.code"
      ],
      "execution_count": 7,
      "outputs": [
        {
          "output_type": "execute_result",
          "data": {
            "text/plain": [
              "200"
            ]
          },
          "metadata": {
            "tags": []
          },
          "execution_count": 7
        }
      ]
    },
    {
      "cell_type": "code",
      "metadata": {
        "id": "F5WwbqgKC5Y-",
        "colab_type": "code",
        "colab": {}
      },
      "source": [
        "response_body = response.read().decode(\"utf-8\")"
      ],
      "execution_count": 8,
      "outputs": []
    },
    {
      "cell_type": "code",
      "metadata": {
        "id": "_lk45cItC-iX",
        "colab_type": "code",
        "colab": {
          "base_uri": "https://localhost:8080/",
          "height": 36
        },
        "outputId": "e0fe2740-0689-4ea5-ef4c-159857fc4efa"
      },
      "source": [
        "s = json.loads(response_body)\n",
        "s.keys()"
      ],
      "execution_count": 9,
      "outputs": [
        {
          "output_type": "execute_result",
          "data": {
            "text/plain": [
              "dict_keys(['result', 'data'])"
            ]
          },
          "metadata": {
            "tags": []
          },
          "execution_count": 9
        }
      ]
    },
    {
      "cell_type": "code",
      "metadata": {
        "id": "gSwwFjjBDBcW",
        "colab_type": "code",
        "colab": {
          "base_uri": "https://localhost:8080/",
          "height": 673
        },
        "outputId": "8e81c75f-385d-45e3-a4c2-629d0bfd86c9"
      },
      "source": [
        "pd.DataFrame(s[\"data\"]).head()"
      ],
      "execution_count": 10,
      "outputs": [
        {
          "output_type": "execute_result",
          "data": {
            "text/html": [
              "<div>\n",
              "<style scoped>\n",
              "    .dataframe tbody tr th:only-of-type {\n",
              "        vertical-align: middle;\n",
              "    }\n",
              "\n",
              "    .dataframe tbody tr th {\n",
              "        vertical-align: top;\n",
              "    }\n",
              "\n",
              "    .dataframe thead th {\n",
              "        text-align: right;\n",
              "    }\n",
              "</style>\n",
              "<table border=\"1\" class=\"dataframe\">\n",
              "  <thead>\n",
              "    <tr style=\"text-align: right;\">\n",
              "      <th></th>\n",
              "      <th>id</th>\n",
              "      <th>nickname</th>\n",
              "      <th>webtoonType</th>\n",
              "      <th>title</th>\n",
              "      <th>finishYn</th>\n",
              "      <th>thumbnailImage2</th>\n",
              "      <th>pcThumbnailImage</th>\n",
              "      <th>pcRecommendImage</th>\n",
              "      <th>pcHomeImage</th>\n",
              "      <th>pcHomeRightImage</th>\n",
              "      <th>pcHomeLeftColor</th>\n",
              "      <th>pcHomeRightColor</th>\n",
              "      <th>introduction</th>\n",
              "      <th>startDate</th>\n",
              "      <th>serviceStatus</th>\n",
              "      <th>viewerType</th>\n",
              "      <th>weekTerm</th>\n",
              "      <th>articleId</th>\n",
              "      <th>media</th>\n",
              "      <th>payYn</th>\n",
              "      <th>payType</th>\n",
              "      <th>price</th>\n",
              "      <th>ageGrade</th>\n",
              "      <th>restYn</th>\n",
              "      <th>monopolize</th>\n",
              "      <th>dateCreated</th>\n",
              "      <th>webtoonComment</th>\n",
              "      <th>cartoon</th>\n",
              "      <th>webtoonWeeks</th>\n",
              "      <th>latestWebtoonEpisode</th>\n",
              "      <th>webtoonServices</th>\n",
              "      <th>score</th>\n",
              "      <th>isNew</th>\n",
              "      <th>averageScore</th>\n",
              "      <th>ranking</th>\n",
              "      <th>diff</th>\n",
              "      <th>metricsScore</th>\n",
              "      <th>sort</th>\n",
              "      <th>sortWeight</th>\n",
              "      <th>couponAvailable</th>\n",
              "      <th>titleImage2</th>\n",
              "      <th>thumbnailImage</th>\n",
              "      <th>padThumbnailImage</th>\n",
              "      <th>homeThumbnailImage</th>\n",
              "      <th>finishDate</th>\n",
              "      <th>restartDate</th>\n",
              "      <th>appThumbnailImage</th>\n",
              "      <th>englishTitle</th>\n",
              "    </tr>\n",
              "  </thead>\n",
              "  <tbody>\n",
              "    <tr>\n",
              "      <th>0</th>\n",
              "      <td>2034</td>\n",
              "      <td>groom</td>\n",
              "      <td>series</td>\n",
              "      <td>신랑이 사라졌다</td>\n",
              "      <td>N</td>\n",
              "      <td>{'id': 0, 'url': 'http://t1.daumcdn.net/webtoo...</td>\n",
              "      <td>{'id': 0, 'url': 'http://t1.daumcdn.net/webtoo...</td>\n",
              "      <td>{'id': 0, 'url': 'http://t1.daumcdn.net/webtoo...</td>\n",
              "      <td>{'id': 0, 'url': 'http://t1.daumcdn.net/webtoo...</td>\n",
              "      <td>{'id': 0, 'url': 'http://t1.daumcdn.net/webtoo...</td>\n",
              "      <td>93623a</td>\n",
              "      <td>93623a</td>\n",
              "      <td>사라진(?) 신랑을 찾기 위한 톱스타 진사랑의 고군분투 사랑이야기</td>\n",
              "      <td>20200908000000</td>\n",
              "      <td>service</td>\n",
              "      <td>scroll</td>\n",
              "      <td>weekly</td>\n",
              "      <td>0</td>\n",
              "      <td>daum</td>\n",
              "      <td>N</td>\n",
              "      <td>free</td>\n",
              "      <td>0</td>\n",
              "      <td>0</td>\n",
              "      <td>N</td>\n",
              "      <td>N</td>\n",
              "      <td>20200902172701</td>\n",
              "      <td>{'id': 0, 'articleId': 2034, 'commentUseYn': 'N'}</td>\n",
              "      <td>{'id': 67784, 'genres': [{'id': 5, 'name': '순정...</td>\n",
              "      <td>[{'id': 20620, 'weekDay': 'tue'}]</td>\n",
              "      <td>{'id': 95795, 'episode': 2, 'title': '2화 신랑이 사...</td>\n",
              "      <td>[{'id': 37587, 'webtoonId': 2034, 'serviceTarg...</td>\n",
              "      <td>0.0</td>\n",
              "      <td>True</td>\n",
              "      <td>9.865679</td>\n",
              "      <td>0</td>\n",
              "      <td>0</td>\n",
              "      <td>0</td>\n",
              "      <td>desc</td>\n",
              "      <td>37</td>\n",
              "      <td>True</td>\n",
              "      <td>NaN</td>\n",
              "      <td>NaN</td>\n",
              "      <td>NaN</td>\n",
              "      <td>NaN</td>\n",
              "      <td>NaN</td>\n",
              "      <td>NaN</td>\n",
              "      <td>NaN</td>\n",
              "      <td>NaN</td>\n",
              "    </tr>\n",
              "    <tr>\n",
              "      <th>1</th>\n",
              "      <td>2025</td>\n",
              "      <td>unitedfamily</td>\n",
              "      <td>series</td>\n",
              "      <td>화목한 가족</td>\n",
              "      <td>N</td>\n",
              "      <td>{'id': 0, 'url': 'http://t1.daumcdn.net/webtoo...</td>\n",
              "      <td>{'id': 0, 'url': 'http://t1.daumcdn.net/webtoo...</td>\n",
              "      <td>{'id': 0, 'url': 'http://t1.daumcdn.net/webtoo...</td>\n",
              "      <td>{'id': 0, 'url': 'http://t1.daumcdn.net/webtoo...</td>\n",
              "      <td>{'id': 0, 'url': 'http://t1.daumcdn.net/webtoo...</td>\n",
              "      <td>595192</td>\n",
              "      <td>595192</td>\n",
              "      <td>의미 없는 삶에 지친 고3 영진, 비밀이 많아 보이는  전학생 유은과의 만남으로 변...</td>\n",
              "      <td>20200825000000</td>\n",
              "      <td>service</td>\n",
              "      <td>scroll</td>\n",
              "      <td>weekly</td>\n",
              "      <td>0</td>\n",
              "      <td>daum</td>\n",
              "      <td>N</td>\n",
              "      <td>free</td>\n",
              "      <td>0</td>\n",
              "      <td>0</td>\n",
              "      <td>N</td>\n",
              "      <td>N</td>\n",
              "      <td>20200821162626</td>\n",
              "      <td>{'id': 0, 'articleId': 2025, 'commentUseYn': 'N'}</td>\n",
              "      <td>{'id': 67726, 'genres': [{'id': 2, 'name': '드라...</td>\n",
              "      <td>[{'id': 20615, 'weekDay': 'tue'}]</td>\n",
              "      <td>{'id': 95301, 'episode': 5, 'title': '4화', 'th...</td>\n",
              "      <td>[{'id': 37551, 'webtoonId': 2025, 'serviceTarg...</td>\n",
              "      <td>0.0</td>\n",
              "      <td>True</td>\n",
              "      <td>9.750000</td>\n",
              "      <td>0</td>\n",
              "      <td>0</td>\n",
              "      <td>0</td>\n",
              "      <td>desc</td>\n",
              "      <td>36</td>\n",
              "      <td>True</td>\n",
              "      <td>NaN</td>\n",
              "      <td>NaN</td>\n",
              "      <td>NaN</td>\n",
              "      <td>NaN</td>\n",
              "      <td>NaN</td>\n",
              "      <td>NaN</td>\n",
              "      <td>NaN</td>\n",
              "      <td>NaN</td>\n",
              "    </tr>\n",
              "    <tr>\n",
              "      <th>2</th>\n",
              "      <td>2021</td>\n",
              "      <td>deviledit</td>\n",
              "      <td>series</td>\n",
              "      <td>악마의 편집</td>\n",
              "      <td>N</td>\n",
              "      <td>{'id': 0, 'url': 'http://t1.daumcdn.net/webtoo...</td>\n",
              "      <td>{'id': 0, 'url': 'http://t1.daumcdn.net/webtoo...</td>\n",
              "      <td>{'id': 0, 'url': 'http://t1.daumcdn.net/webtoo...</td>\n",
              "      <td>{'id': 0, 'url': 'http://t1.daumcdn.net/webtoo...</td>\n",
              "      <td>{'id': 0, 'url': 'http://t1.daumcdn.net/webtoo...</td>\n",
              "      <td>55221f</td>\n",
              "      <td>55221f</td>\n",
              "      <td>유명 인터넷 방송인과 그 편집자를 둘러싼 끔찍한 살인사건... 과연 진실은?</td>\n",
              "      <td>20200818000000</td>\n",
              "      <td>service</td>\n",
              "      <td>scroll</td>\n",
              "      <td>weekly</td>\n",
              "      <td>0</td>\n",
              "      <td>daum</td>\n",
              "      <td>N</td>\n",
              "      <td>free</td>\n",
              "      <td>0</td>\n",
              "      <td>0</td>\n",
              "      <td>N</td>\n",
              "      <td>N</td>\n",
              "      <td>20200814124717</td>\n",
              "      <td>{'id': 0, 'articleId': 2021, 'commentUseYn': 'N'}</td>\n",
              "      <td>{'id': 67696, 'genres': [{'id': 14, 'name': '스...</td>\n",
              "      <td>[{'id': 20612, 'weekDay': 'tue'}]</td>\n",
              "      <td>{'id': 94821, 'episode': 5, 'title': '5화', 'th...</td>\n",
              "      <td>[{'id': 37535, 'webtoonId': 2021, 'serviceTarg...</td>\n",
              "      <td>0.0</td>\n",
              "      <td>True</td>\n",
              "      <td>9.717416</td>\n",
              "      <td>0</td>\n",
              "      <td>0</td>\n",
              "      <td>0</td>\n",
              "      <td>desc</td>\n",
              "      <td>35</td>\n",
              "      <td>True</td>\n",
              "      <td>NaN</td>\n",
              "      <td>NaN</td>\n",
              "      <td>NaN</td>\n",
              "      <td>NaN</td>\n",
              "      <td>NaN</td>\n",
              "      <td>NaN</td>\n",
              "      <td>NaN</td>\n",
              "      <td>NaN</td>\n",
              "    </tr>\n",
              "    <tr>\n",
              "      <th>3</th>\n",
              "      <td>2017</td>\n",
              "      <td>sunbishow</td>\n",
              "      <td>series</td>\n",
              "      <td>대선비쇼에 어서오세요!</td>\n",
              "      <td>N</td>\n",
              "      <td>{'id': 0, 'url': 'http://t1.daumcdn.net/webtoo...</td>\n",
              "      <td>{'id': 0, 'url': 'http://t1.daumcdn.net/webtoo...</td>\n",
              "      <td>{'id': 0, 'url': 'http://t1.daumcdn.net/webtoo...</td>\n",
              "      <td>{'id': 0, 'url': 'http://t1.daumcdn.net/webtoo...</td>\n",
              "      <td>{'id': 0, 'url': 'http://t1.daumcdn.net/webtoo...</td>\n",
              "      <td>62a5c6</td>\n",
              "      <td>62a5c6</td>\n",
              "      <td>유도선수를 그만두고 졸업을 기다리던 황희는 PD지망생 요한을 만나 방송을 찍게 된다!</td>\n",
              "      <td>20200811000000</td>\n",
              "      <td>service</td>\n",
              "      <td>scroll</td>\n",
              "      <td>weekly</td>\n",
              "      <td>0</td>\n",
              "      <td>daum</td>\n",
              "      <td>N</td>\n",
              "      <td>free</td>\n",
              "      <td>0</td>\n",
              "      <td>0</td>\n",
              "      <td>N</td>\n",
              "      <td>N</td>\n",
              "      <td>20200804154741</td>\n",
              "      <td>{'id': 0, 'articleId': 2017, 'commentUseYn': 'N'}</td>\n",
              "      <td>{'id': 67648, 'genres': [{'id': 2, 'name': '드라...</td>\n",
              "      <td>[{'id': 20610, 'weekDay': 'tue'}]</td>\n",
              "      <td>{'id': 94897, 'episode': 6, 'title': '6화', 'th...</td>\n",
              "      <td>[{'id': 37519, 'webtoonId': 2017, 'serviceTarg...</td>\n",
              "      <td>0.0</td>\n",
              "      <td>True</td>\n",
              "      <td>9.618079</td>\n",
              "      <td>0</td>\n",
              "      <td>0</td>\n",
              "      <td>0</td>\n",
              "      <td>desc</td>\n",
              "      <td>34</td>\n",
              "      <td>True</td>\n",
              "      <td>NaN</td>\n",
              "      <td>NaN</td>\n",
              "      <td>NaN</td>\n",
              "      <td>NaN</td>\n",
              "      <td>NaN</td>\n",
              "      <td>NaN</td>\n",
              "      <td>NaN</td>\n",
              "      <td>NaN</td>\n",
              "    </tr>\n",
              "    <tr>\n",
              "      <th>4</th>\n",
              "      <td>1998</td>\n",
              "      <td>loving</td>\n",
              "      <td>series</td>\n",
              "      <td>사랑하는 존재</td>\n",
              "      <td>N</td>\n",
              "      <td>{'id': 0, 'url': 'http://t1.daumcdn.net/webtoo...</td>\n",
              "      <td>{'id': 0, 'url': 'http://t1.daumcdn.net/webtoo...</td>\n",
              "      <td>{'id': 0, 'url': 'http://t1.daumcdn.net/webtoo...</td>\n",
              "      <td>{'id': 0, 'url': 'http://t1.daumcdn.net/webtoo...</td>\n",
              "      <td>{'id': 0, 'url': 'http://t1.daumcdn.net/webtoo...</td>\n",
              "      <td>5e7f99</td>\n",
              "      <td>5e7f99</td>\n",
              "      <td>심장 이식 수술을 받은 소유. 이식받은 심장이 같은 반 남자애 아빠의 심장이라고?</td>\n",
              "      <td>20200707000000</td>\n",
              "      <td>service</td>\n",
              "      <td>scroll</td>\n",
              "      <td>weekly</td>\n",
              "      <td>0</td>\n",
              "      <td>daum</td>\n",
              "      <td>N</td>\n",
              "      <td>free</td>\n",
              "      <td>0</td>\n",
              "      <td>0</td>\n",
              "      <td>N</td>\n",
              "      <td>N</td>\n",
              "      <td>20200703191633</td>\n",
              "      <td>{'id': 0, 'articleId': 1998, 'commentUseYn': 'N'}</td>\n",
              "      <td>{'id': 67497, 'genres': [{'id': 2, 'name': '드라...</td>\n",
              "      <td>[{'id': 20600, 'weekDay': 'tue'}]</td>\n",
              "      <td>{'id': 94059, 'episode': 12, 'title': '11화 전세 ...</td>\n",
              "      <td>[{'id': 37443, 'webtoonId': 1998, 'serviceTarg...</td>\n",
              "      <td>0.0</td>\n",
              "      <td>False</td>\n",
              "      <td>9.891012</td>\n",
              "      <td>0</td>\n",
              "      <td>0</td>\n",
              "      <td>0</td>\n",
              "      <td>desc</td>\n",
              "      <td>18</td>\n",
              "      <td>True</td>\n",
              "      <td>NaN</td>\n",
              "      <td>NaN</td>\n",
              "      <td>NaN</td>\n",
              "      <td>NaN</td>\n",
              "      <td>NaN</td>\n",
              "      <td>NaN</td>\n",
              "      <td>NaN</td>\n",
              "      <td>NaN</td>\n",
              "    </tr>\n",
              "  </tbody>\n",
              "</table>\n",
              "</div>"
            ],
            "text/plain": [
              "     id      nickname webtoonType  ... restartDate appThumbnailImage englishTitle\n",
              "0  2034         groom      series  ...         NaN               NaN          NaN\n",
              "1  2025  unitedfamily      series  ...         NaN               NaN          NaN\n",
              "2  2021     deviledit      series  ...         NaN               NaN          NaN\n",
              "3  2017     sunbishow      series  ...         NaN               NaN          NaN\n",
              "4  1998        loving      series  ...         NaN               NaN          NaN\n",
              "\n",
              "[5 rows x 48 columns]"
            ]
          },
          "metadata": {
            "tags": []
          },
          "execution_count": 10
        }
      ]
    },
    {
      "cell_type": "markdown",
      "metadata": {
        "id": "KS3SgBrWDNNq",
        "colab_type": "text"
      },
      "source": [
        "#### 과제 2. \"썸네일\"이라는 폴더를 만든 다음, 각 웹툰의 썸네일을 \"웹툰 순위 + 그 웹툰의 이름\"으로 저장해 주세요.\n",
        "\n",
        "* 웹툰의 순위는 젤 위에 있는걸 1번으로 해주세요."
      ]
    },
    {
      "cell_type": "markdown",
      "metadata": {
        "id": "Q1xCUjQMDNNs",
        "colab_type": "text"
      },
      "source": [
        "![image.png](./img/과제사진.png)\n",
        "\n",
        "이런 식으로 저장해주시면 돼요!\n",
        "\n",
        "**<span style=\"color:#00C090\">화이팅이에요:)</span>**"
      ]
    },
    {
      "cell_type": "code",
      "metadata": {
        "id": "7vyXu1WoDNNt",
        "colab_type": "code",
        "colab": {}
      },
      "source": [
        ""
      ],
      "execution_count": null,
      "outputs": []
    }
  ]
}