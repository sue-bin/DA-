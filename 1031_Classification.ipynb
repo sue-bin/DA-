{
  "nbformat": 4,
  "nbformat_minor": 0,
  "metadata": {
    "kernelspec": {
      "display_name": "Python 3",
      "language": "python",
      "name": "python3"
    },
    "language_info": {
      "codemirror_mode": {
        "name": "ipython",
        "version": 3
      },
      "file_extension": ".py",
      "mimetype": "text/x-python",
      "name": "python",
      "nbconvert_exporter": "python",
      "pygments_lexer": "ipython3",
      "version": "3.7.7"
    },
    "colab": {
      "name": "1031_Classification.ipynb",
      "provenance": [],
      "include_colab_link": true
    }
  },
  "cells": [
    {
      "cell_type": "markdown",
      "metadata": {
        "id": "view-in-github",
        "colab_type": "text"
      },
      "source": [
        "<a href=\"https://colab.research.google.com/github/sue-bin/DA-session-quest/blob/master/1031_Classification.ipynb\" target=\"_parent\"><img src=\"https://colab.research.google.com/assets/colab-badge.svg\" alt=\"Open In Colab\"/></a>"
      ]
    },
    {
      "cell_type": "markdown",
      "metadata": {
        "id": "09X5iApz6Vqt"
      },
      "source": [
        "# Classification 과제\n",
        "- San Francisco에서 일어난 범죄 관련 데이터 입니다. 설명변수들을 해석해서 범죄의 category를 분류하시면 됩니다~\n",
        "- 캐글 competition 데이터 입니다. 혹시라도 FE에서 어려움을 겪으신다면 https://www.kaggle.com/c/sf-crime/overview 를 살짝 참고해보세용"
      ]
    },
    {
      "cell_type": "code",
      "metadata": {
        "id": "MBTxB9wo6Vqw"
      },
      "source": [
        "import pandas as pd\n",
        "import numpy as np\n",
        "from collections import Counter\n",
        "import datetime\n",
        "from sklearn import metrics"
      ],
      "execution_count": 175,
      "outputs": []
    },
    {
      "cell_type": "code",
      "metadata": {
        "scrolled": true,
        "id": "13cW6Cdy6Vq2",
        "outputId": "a92e42ad-2a0e-445a-9db7-1f73e466800b",
        "colab": {
          "base_uri": "https://localhost:8080/",
          "height": 529
        }
      },
      "source": [
        "df = pd.read_csv('/content/drive/My Drive/YBIGTA/DA 교육세션/2020-10-31 ML  Classification/과제/sf_crime.csv')\n",
        "df.head(10)"
      ],
      "execution_count": 176,
      "outputs": [
        {
          "output_type": "execute_result",
          "data": {
            "text/html": [
              "<div>\n",
              "<style scoped>\n",
              "    .dataframe tbody tr th:only-of-type {\n",
              "        vertical-align: middle;\n",
              "    }\n",
              "\n",
              "    .dataframe tbody tr th {\n",
              "        vertical-align: top;\n",
              "    }\n",
              "\n",
              "    .dataframe thead th {\n",
              "        text-align: right;\n",
              "    }\n",
              "</style>\n",
              "<table border=\"1\" class=\"dataframe\">\n",
              "  <thead>\n",
              "    <tr style=\"text-align: right;\">\n",
              "      <th></th>\n",
              "      <th>Dates</th>\n",
              "      <th>Category</th>\n",
              "      <th>Descript</th>\n",
              "      <th>DayOfWeek</th>\n",
              "      <th>PdDistrict</th>\n",
              "      <th>Resolution</th>\n",
              "      <th>Address</th>\n",
              "      <th>X</th>\n",
              "      <th>Y</th>\n",
              "    </tr>\n",
              "  </thead>\n",
              "  <tbody>\n",
              "    <tr>\n",
              "      <th>0</th>\n",
              "      <td>2015-05-13 23:53:00</td>\n",
              "      <td>WARRANTS</td>\n",
              "      <td>WARRANT ARREST</td>\n",
              "      <td>Wednesday</td>\n",
              "      <td>NORTHERN</td>\n",
              "      <td>ARREST, BOOKED</td>\n",
              "      <td>OAK ST / LAGUNA ST</td>\n",
              "      <td>-122.425892</td>\n",
              "      <td>37.774599</td>\n",
              "    </tr>\n",
              "    <tr>\n",
              "      <th>1</th>\n",
              "      <td>2015-05-13 23:53:00</td>\n",
              "      <td>OTHER OFFENSES</td>\n",
              "      <td>TRAFFIC VIOLATION ARREST</td>\n",
              "      <td>Wednesday</td>\n",
              "      <td>NORTHERN</td>\n",
              "      <td>ARREST, BOOKED</td>\n",
              "      <td>OAK ST / LAGUNA ST</td>\n",
              "      <td>-122.425892</td>\n",
              "      <td>37.774599</td>\n",
              "    </tr>\n",
              "    <tr>\n",
              "      <th>2</th>\n",
              "      <td>2015-05-13 23:33:00</td>\n",
              "      <td>OTHER OFFENSES</td>\n",
              "      <td>TRAFFIC VIOLATION ARREST</td>\n",
              "      <td>Wednesday</td>\n",
              "      <td>NORTHERN</td>\n",
              "      <td>ARREST, BOOKED</td>\n",
              "      <td>VANNESS AV / GREENWICH ST</td>\n",
              "      <td>-122.424363</td>\n",
              "      <td>37.800414</td>\n",
              "    </tr>\n",
              "    <tr>\n",
              "      <th>3</th>\n",
              "      <td>2015-05-13 23:30:00</td>\n",
              "      <td>LARCENY/THEFT</td>\n",
              "      <td>GRAND THEFT FROM LOCKED AUTO</td>\n",
              "      <td>Wednesday</td>\n",
              "      <td>NORTHERN</td>\n",
              "      <td>NONE</td>\n",
              "      <td>1500 Block of LOMBARD ST</td>\n",
              "      <td>-122.426995</td>\n",
              "      <td>37.800873</td>\n",
              "    </tr>\n",
              "    <tr>\n",
              "      <th>4</th>\n",
              "      <td>2015-05-13 23:30:00</td>\n",
              "      <td>LARCENY/THEFT</td>\n",
              "      <td>GRAND THEFT FROM LOCKED AUTO</td>\n",
              "      <td>Wednesday</td>\n",
              "      <td>PARK</td>\n",
              "      <td>NONE</td>\n",
              "      <td>100 Block of BRODERICK ST</td>\n",
              "      <td>-122.438738</td>\n",
              "      <td>37.771541</td>\n",
              "    </tr>\n",
              "    <tr>\n",
              "      <th>5</th>\n",
              "      <td>2015-05-13 23:30:00</td>\n",
              "      <td>LARCENY/THEFT</td>\n",
              "      <td>GRAND THEFT FROM UNLOCKED AUTO</td>\n",
              "      <td>Wednesday</td>\n",
              "      <td>INGLESIDE</td>\n",
              "      <td>NONE</td>\n",
              "      <td>0 Block of TEDDY AV</td>\n",
              "      <td>-122.403252</td>\n",
              "      <td>37.713431</td>\n",
              "    </tr>\n",
              "    <tr>\n",
              "      <th>6</th>\n",
              "      <td>2015-05-13 23:30:00</td>\n",
              "      <td>VEHICLE THEFT</td>\n",
              "      <td>STOLEN AUTOMOBILE</td>\n",
              "      <td>Wednesday</td>\n",
              "      <td>INGLESIDE</td>\n",
              "      <td>NONE</td>\n",
              "      <td>AVALON AV / PERU AV</td>\n",
              "      <td>-122.423327</td>\n",
              "      <td>37.725138</td>\n",
              "    </tr>\n",
              "    <tr>\n",
              "      <th>7</th>\n",
              "      <td>2015-05-13 23:30:00</td>\n",
              "      <td>VEHICLE THEFT</td>\n",
              "      <td>STOLEN AUTOMOBILE</td>\n",
              "      <td>Wednesday</td>\n",
              "      <td>BAYVIEW</td>\n",
              "      <td>NONE</td>\n",
              "      <td>KIRKWOOD AV / DONAHUE ST</td>\n",
              "      <td>-122.371274</td>\n",
              "      <td>37.727564</td>\n",
              "    </tr>\n",
              "    <tr>\n",
              "      <th>8</th>\n",
              "      <td>2015-05-13 23:00:00</td>\n",
              "      <td>LARCENY/THEFT</td>\n",
              "      <td>GRAND THEFT FROM LOCKED AUTO</td>\n",
              "      <td>Wednesday</td>\n",
              "      <td>RICHMOND</td>\n",
              "      <td>NONE</td>\n",
              "      <td>600 Block of 47TH AV</td>\n",
              "      <td>-122.508194</td>\n",
              "      <td>37.776601</td>\n",
              "    </tr>\n",
              "    <tr>\n",
              "      <th>9</th>\n",
              "      <td>2015-05-13 23:00:00</td>\n",
              "      <td>LARCENY/THEFT</td>\n",
              "      <td>GRAND THEFT FROM LOCKED AUTO</td>\n",
              "      <td>Wednesday</td>\n",
              "      <td>CENTRAL</td>\n",
              "      <td>NONE</td>\n",
              "      <td>JEFFERSON ST / LEAVENWORTH ST</td>\n",
              "      <td>-122.419088</td>\n",
              "      <td>37.807802</td>\n",
              "    </tr>\n",
              "  </tbody>\n",
              "</table>\n",
              "</div>"
            ],
            "text/plain": [
              "                 Dates        Category  ...           X          Y\n",
              "0  2015-05-13 23:53:00        WARRANTS  ... -122.425892  37.774599\n",
              "1  2015-05-13 23:53:00  OTHER OFFENSES  ... -122.425892  37.774599\n",
              "2  2015-05-13 23:33:00  OTHER OFFENSES  ... -122.424363  37.800414\n",
              "3  2015-05-13 23:30:00   LARCENY/THEFT  ... -122.426995  37.800873\n",
              "4  2015-05-13 23:30:00   LARCENY/THEFT  ... -122.438738  37.771541\n",
              "5  2015-05-13 23:30:00   LARCENY/THEFT  ... -122.403252  37.713431\n",
              "6  2015-05-13 23:30:00   VEHICLE THEFT  ... -122.423327  37.725138\n",
              "7  2015-05-13 23:30:00   VEHICLE THEFT  ... -122.371274  37.727564\n",
              "8  2015-05-13 23:00:00   LARCENY/THEFT  ... -122.508194  37.776601\n",
              "9  2015-05-13 23:00:00   LARCENY/THEFT  ... -122.419088  37.807802\n",
              "\n",
              "[10 rows x 9 columns]"
            ]
          },
          "metadata": {
            "tags": []
          },
          "execution_count": 176
        }
      ]
    },
    {
      "cell_type": "markdown",
      "metadata": {
        "id": "bA-iovyw6Vq6"
      },
      "source": [
        "- Dates - 범죄 발생 timestamp\n",
        "- Category - 범죄 사건의 카테고리 (이게 target variable 입니다!)\n",
        "- Descript - 범죄 사건에 대한 자세한 설명\n",
        "- DayOfWeek - 무슨 요일에 발생했는지\n",
        "- PdDistrict - 관할 경찰서\n",
        "- Resolution - 범죄 사건이 어떻게 처리되었는지\n",
        "- Address - 범죄 발생이 일어난 위치와 가장 가까운 거리\n",
        "- X - 경도\n",
        "- Y - 위도"
      ]
    },
    {
      "cell_type": "markdown",
      "metadata": {
        "id": "AUPbajy76Vq6"
      },
      "source": [
        "## 1. 데이터 형태 확인 및 전처리"
      ]
    },
    {
      "cell_type": "code",
      "metadata": {
        "id": "UQOHdCdoDiCj",
        "outputId": "7b3e7af9-f8a8-4268-b8e5-a0bca037c335",
        "colab": {
          "base_uri": "https://localhost:8080/"
        }
      },
      "source": [
        "df.shape"
      ],
      "execution_count": 177,
      "outputs": [
        {
          "output_type": "execute_result",
          "data": {
            "text/plain": [
              "(878049, 9)"
            ]
          },
          "metadata": {
            "tags": []
          },
          "execution_count": 177
        }
      ]
    },
    {
      "cell_type": "code",
      "metadata": {
        "id": "tJnM3JmD6Vq7",
        "outputId": "97111263-f3ea-4687-ba50-331b0c7ee1ae",
        "colab": {
          "base_uri": "https://localhost:8080/"
        }
      },
      "source": [
        "df.dtypes"
      ],
      "execution_count": 178,
      "outputs": [
        {
          "output_type": "execute_result",
          "data": {
            "text/plain": [
              "Dates          object\n",
              "Category       object\n",
              "Descript       object\n",
              "DayOfWeek      object\n",
              "PdDistrict     object\n",
              "Resolution     object\n",
              "Address        object\n",
              "X             float64\n",
              "Y             float64\n",
              "dtype: object"
            ]
          },
          "metadata": {
            "tags": []
          },
          "execution_count": 178
        }
      ]
    },
    {
      "cell_type": "code",
      "metadata": {
        "id": "NhNCDdWe9BWV",
        "outputId": "f927919e-d101-467b-80e5-7e9bb9c2b39c",
        "colab": {
          "base_uri": "https://localhost:8080/"
        }
      },
      "source": [
        "df.isnull().sum()"
      ],
      "execution_count": 179,
      "outputs": [
        {
          "output_type": "execute_result",
          "data": {
            "text/plain": [
              "Dates         0\n",
              "Category      0\n",
              "Descript      0\n",
              "DayOfWeek     0\n",
              "PdDistrict    0\n",
              "Resolution    0\n",
              "Address       0\n",
              "X             0\n",
              "Y             0\n",
              "dtype: int64"
            ]
          },
          "metadata": {
            "tags": []
          },
          "execution_count": 179
        }
      ]
    },
    {
      "cell_type": "code",
      "metadata": {
        "id": "o4ITX43b_eYe",
        "outputId": "a296e554-9cf9-48e1-86b1-076aff5f5cc8",
        "colab": {
          "base_uri": "https://localhost:8080/"
        }
      },
      "source": [
        "df.columns[[1,2,4,5]]"
      ],
      "execution_count": 180,
      "outputs": [
        {
          "output_type": "execute_result",
          "data": {
            "text/plain": [
              "Index(['Category', 'Descript', 'PdDistrict', 'Resolution'], dtype='object')"
            ]
          },
          "metadata": {
            "tags": []
          },
          "execution_count": 180
        }
      ]
    },
    {
      "cell_type": "code",
      "metadata": {
        "id": "UXN-B437AA-C",
        "outputId": "b2a32764-b4d2-4d80-9122-238198508e72",
        "colab": {
          "base_uri": "https://localhost:8080/"
        }
      },
      "source": [
        "df[\"Category\"].unique()"
      ],
      "execution_count": 181,
      "outputs": [
        {
          "output_type": "execute_result",
          "data": {
            "text/plain": [
              "array(['WARRANTS', 'OTHER OFFENSES', 'LARCENY/THEFT', 'VEHICLE THEFT',\n",
              "       'VANDALISM', 'NON-CRIMINAL', 'ROBBERY', 'ASSAULT', 'WEAPON LAWS',\n",
              "       'BURGLARY', 'SUSPICIOUS OCC', 'DRUNKENNESS',\n",
              "       'FORGERY/COUNTERFEITING', 'DRUG/NARCOTIC', 'STOLEN PROPERTY',\n",
              "       'SECONDARY CODES', 'TRESPASS', 'MISSING PERSON', 'FRAUD',\n",
              "       'KIDNAPPING', 'RUNAWAY', 'DRIVING UNDER THE INFLUENCE',\n",
              "       'SEX OFFENSES FORCIBLE', 'PROSTITUTION', 'DISORDERLY CONDUCT',\n",
              "       'ARSON', 'FAMILY OFFENSES', 'LIQUOR LAWS', 'BRIBERY',\n",
              "       'EMBEZZLEMENT', 'SUICIDE', 'LOITERING',\n",
              "       'SEX OFFENSES NON FORCIBLE', 'EXTORTION', 'GAMBLING', 'BAD CHECKS',\n",
              "       'TREA', 'RECOVERED VEHICLE', 'PORNOGRAPHY/OBSCENE MAT'],\n",
              "      dtype=object)"
            ]
          },
          "metadata": {
            "tags": []
          },
          "execution_count": 181
        }
      ]
    },
    {
      "cell_type": "code",
      "metadata": {
        "id": "O-hY9BhM9L2I",
        "outputId": "7eb6cedd-2a0c-4026-b975-20b0d3cbe7a9",
        "colab": {
          "base_uri": "https://localhost:8080/"
        }
      },
      "source": [
        "for col in list(df.columns[[1,2,4,5]]):\n",
        "  print(\"column: \",col)\n",
        "  print(\"# of unique values: \",len(list(df[col].unique())))"
      ],
      "execution_count": 182,
      "outputs": [
        {
          "output_type": "stream",
          "text": [
            "column:  Category\n",
            "# of unique values:  39\n",
            "column:  Descript\n",
            "# of unique values:  879\n",
            "column:  PdDistrict\n",
            "# of unique values:  10\n",
            "column:  Resolution\n",
            "# of unique values:  17\n"
          ],
          "name": "stdout"
        }
      ]
    },
    {
      "cell_type": "markdown",
      "metadata": {
        "id": "RjDdAmNg6VrB"
      },
      "source": [
        "## 2. Feature Engineering 진행\n",
        "- Insight 하나) 위도와 경도를 하나로 합쳐줄 수 있지 않을까요?"
      ]
    },
    {
      "cell_type": "code",
      "metadata": {
        "id": "m_8P54BRCFEw"
      },
      "source": [
        "#위도 경도 하나의 어레이로 결합\n",
        "df['(X,Y)'] = [str((round(x,3),round(y,3))) for x, y in zip(df.X, df.Y)] #가까운 지역들끼리 라벨링 될 수 있도록 반올림(address와 너무 상관 높을것같긴함)\n",
        "df.drop([\"X\",\"Y\"],axis=1,inplace=True)"
      ],
      "execution_count": 184,
      "outputs": []
    },
    {
      "cell_type": "code",
      "metadata": {
        "id": "nphayzoQ9byj"
      },
      "source": [
        "#dates 타입 datetime으로 변환\n",
        "df['Dates'] = pd.to_datetime(df['Dates'], format=\"%Y-%m-%d %H:%M:%S\")"
      ],
      "execution_count": 185,
      "outputs": []
    },
    {
      "cell_type": "code",
      "metadata": {
        "id": "1tkUQJGi-iQs",
        "outputId": "4c49e637-3967-43c0-8473-8c540fae5246",
        "colab": {
          "base_uri": "https://localhost:8080/"
        }
      },
      "source": [
        "df.dtypes"
      ],
      "execution_count": 186,
      "outputs": [
        {
          "output_type": "execute_result",
          "data": {
            "text/plain": [
              "Dates         datetime64[ns]\n",
              "Category              object\n",
              "Descript              object\n",
              "DayOfWeek             object\n",
              "PdDistrict            object\n",
              "Resolution            object\n",
              "Address               object\n",
              "(X,Y)                 object\n",
              "dtype: object"
            ]
          },
          "metadata": {
            "tags": []
          },
          "execution_count": 186
        }
      ]
    },
    {
      "cell_type": "code",
      "metadata": {
        "id": "NPW2FHAs70Gt"
      },
      "source": [
        "#dates 에서는 정확한 날짜보다 연도, 월, 시간대 정도가 의미있을 것 같아 따로 열로 추가한 후 dates 제거\n",
        "df[\"year\"] = df[\"Dates\"].apply(lambda x: x.year)\n",
        "df[\"month\"] = df[\"Dates\"].apply(lambda x: x.month)\n",
        "df[\"hour\"] = df[\"Dates\"].apply(lambda x: x.hour)\n",
        "df.drop(\"Dates\",axis=1,inplace=True)"
      ],
      "execution_count": 187,
      "outputs": []
    },
    {
      "cell_type": "code",
      "metadata": {
        "id": "yCK_TEhc_L_e",
        "outputId": "4f3787f2-c84e-49e2-a134-5b1056310c0f",
        "colab": {
          "base_uri": "https://localhost:8080/",
          "height": 693
        }
      },
      "source": [
        "df"
      ],
      "execution_count": 188,
      "outputs": [
        {
          "output_type": "execute_result",
          "data": {
            "text/html": [
              "<div>\n",
              "<style scoped>\n",
              "    .dataframe tbody tr th:only-of-type {\n",
              "        vertical-align: middle;\n",
              "    }\n",
              "\n",
              "    .dataframe tbody tr th {\n",
              "        vertical-align: top;\n",
              "    }\n",
              "\n",
              "    .dataframe thead th {\n",
              "        text-align: right;\n",
              "    }\n",
              "</style>\n",
              "<table border=\"1\" class=\"dataframe\">\n",
              "  <thead>\n",
              "    <tr style=\"text-align: right;\">\n",
              "      <th></th>\n",
              "      <th>Category</th>\n",
              "      <th>Descript</th>\n",
              "      <th>DayOfWeek</th>\n",
              "      <th>PdDistrict</th>\n",
              "      <th>Resolution</th>\n",
              "      <th>Address</th>\n",
              "      <th>(X,Y)</th>\n",
              "      <th>year</th>\n",
              "      <th>month</th>\n",
              "      <th>hour</th>\n",
              "    </tr>\n",
              "  </thead>\n",
              "  <tbody>\n",
              "    <tr>\n",
              "      <th>0</th>\n",
              "      <td>WARRANTS</td>\n",
              "      <td>WARRANT ARREST</td>\n",
              "      <td>Wednesday</td>\n",
              "      <td>NORTHERN</td>\n",
              "      <td>ARREST, BOOKED</td>\n",
              "      <td>OAK ST / LAGUNA ST</td>\n",
              "      <td>(-122.426, 37.775)</td>\n",
              "      <td>2015</td>\n",
              "      <td>5</td>\n",
              "      <td>23</td>\n",
              "    </tr>\n",
              "    <tr>\n",
              "      <th>1</th>\n",
              "      <td>OTHER OFFENSES</td>\n",
              "      <td>TRAFFIC VIOLATION ARREST</td>\n",
              "      <td>Wednesday</td>\n",
              "      <td>NORTHERN</td>\n",
              "      <td>ARREST, BOOKED</td>\n",
              "      <td>OAK ST / LAGUNA ST</td>\n",
              "      <td>(-122.426, 37.775)</td>\n",
              "      <td>2015</td>\n",
              "      <td>5</td>\n",
              "      <td>23</td>\n",
              "    </tr>\n",
              "    <tr>\n",
              "      <th>2</th>\n",
              "      <td>OTHER OFFENSES</td>\n",
              "      <td>TRAFFIC VIOLATION ARREST</td>\n",
              "      <td>Wednesday</td>\n",
              "      <td>NORTHERN</td>\n",
              "      <td>ARREST, BOOKED</td>\n",
              "      <td>VANNESS AV / GREENWICH ST</td>\n",
              "      <td>(-122.424, 37.8)</td>\n",
              "      <td>2015</td>\n",
              "      <td>5</td>\n",
              "      <td>23</td>\n",
              "    </tr>\n",
              "    <tr>\n",
              "      <th>3</th>\n",
              "      <td>LARCENY/THEFT</td>\n",
              "      <td>GRAND THEFT FROM LOCKED AUTO</td>\n",
              "      <td>Wednesday</td>\n",
              "      <td>NORTHERN</td>\n",
              "      <td>NONE</td>\n",
              "      <td>1500 Block of LOMBARD ST</td>\n",
              "      <td>(-122.427, 37.801)</td>\n",
              "      <td>2015</td>\n",
              "      <td>5</td>\n",
              "      <td>23</td>\n",
              "    </tr>\n",
              "    <tr>\n",
              "      <th>4</th>\n",
              "      <td>LARCENY/THEFT</td>\n",
              "      <td>GRAND THEFT FROM LOCKED AUTO</td>\n",
              "      <td>Wednesday</td>\n",
              "      <td>PARK</td>\n",
              "      <td>NONE</td>\n",
              "      <td>100 Block of BRODERICK ST</td>\n",
              "      <td>(-122.439, 37.772)</td>\n",
              "      <td>2015</td>\n",
              "      <td>5</td>\n",
              "      <td>23</td>\n",
              "    </tr>\n",
              "    <tr>\n",
              "      <th>...</th>\n",
              "      <td>...</td>\n",
              "      <td>...</td>\n",
              "      <td>...</td>\n",
              "      <td>...</td>\n",
              "      <td>...</td>\n",
              "      <td>...</td>\n",
              "      <td>...</td>\n",
              "      <td>...</td>\n",
              "      <td>...</td>\n",
              "      <td>...</td>\n",
              "    </tr>\n",
              "    <tr>\n",
              "      <th>878044</th>\n",
              "      <td>ROBBERY</td>\n",
              "      <td>ROBBERY ON THE STREET WITH A GUN</td>\n",
              "      <td>Monday</td>\n",
              "      <td>TARAVAL</td>\n",
              "      <td>NONE</td>\n",
              "      <td>FARALLONES ST / CAPITOL AV</td>\n",
              "      <td>(-122.459, 37.714)</td>\n",
              "      <td>2003</td>\n",
              "      <td>1</td>\n",
              "      <td>0</td>\n",
              "    </tr>\n",
              "    <tr>\n",
              "      <th>878045</th>\n",
              "      <td>LARCENY/THEFT</td>\n",
              "      <td>GRAND THEFT FROM LOCKED AUTO</td>\n",
              "      <td>Monday</td>\n",
              "      <td>INGLESIDE</td>\n",
              "      <td>NONE</td>\n",
              "      <td>600 Block of EDNA ST</td>\n",
              "      <td>(-122.447, 37.732)</td>\n",
              "      <td>2003</td>\n",
              "      <td>1</td>\n",
              "      <td>0</td>\n",
              "    </tr>\n",
              "    <tr>\n",
              "      <th>878046</th>\n",
              "      <td>LARCENY/THEFT</td>\n",
              "      <td>GRAND THEFT FROM LOCKED AUTO</td>\n",
              "      <td>Monday</td>\n",
              "      <td>SOUTHERN</td>\n",
              "      <td>NONE</td>\n",
              "      <td>5TH ST / FOLSOM ST</td>\n",
              "      <td>(-122.403, 37.78)</td>\n",
              "      <td>2003</td>\n",
              "      <td>1</td>\n",
              "      <td>0</td>\n",
              "    </tr>\n",
              "    <tr>\n",
              "      <th>878047</th>\n",
              "      <td>VANDALISM</td>\n",
              "      <td>MALICIOUS MISCHIEF, VANDALISM OF VEHICLES</td>\n",
              "      <td>Monday</td>\n",
              "      <td>SOUTHERN</td>\n",
              "      <td>NONE</td>\n",
              "      <td>TOWNSEND ST / 2ND ST</td>\n",
              "      <td>(-122.391, 37.781)</td>\n",
              "      <td>2003</td>\n",
              "      <td>1</td>\n",
              "      <td>0</td>\n",
              "    </tr>\n",
              "    <tr>\n",
              "      <th>878048</th>\n",
              "      <td>FORGERY/COUNTERFEITING</td>\n",
              "      <td>CHECKS, FORGERY (FELONY)</td>\n",
              "      <td>Monday</td>\n",
              "      <td>BAYVIEW</td>\n",
              "      <td>NONE</td>\n",
              "      <td>1800 Block of NEWCOMB AV</td>\n",
              "      <td>(-122.395, 37.738)</td>\n",
              "      <td>2003</td>\n",
              "      <td>1</td>\n",
              "      <td>0</td>\n",
              "    </tr>\n",
              "  </tbody>\n",
              "</table>\n",
              "<p>878049 rows × 10 columns</p>\n",
              "</div>"
            ],
            "text/plain": [
              "                      Category  ... hour\n",
              "0                     WARRANTS  ...   23\n",
              "1               OTHER OFFENSES  ...   23\n",
              "2               OTHER OFFENSES  ...   23\n",
              "3                LARCENY/THEFT  ...   23\n",
              "4                LARCENY/THEFT  ...   23\n",
              "...                        ...  ...  ...\n",
              "878044                 ROBBERY  ...    0\n",
              "878045           LARCENY/THEFT  ...    0\n",
              "878046           LARCENY/THEFT  ...    0\n",
              "878047               VANDALISM  ...    0\n",
              "878048  FORGERY/COUNTERFEITING  ...    0\n",
              "\n",
              "[878049 rows x 10 columns]"
            ]
          },
          "metadata": {
            "tags": []
          },
          "execution_count": 188
        }
      ]
    },
    {
      "cell_type": "markdown",
      "metadata": {
        "id": "P4j3px_u6VrF"
      },
      "source": [
        "## 3. 범주형 변수들 더미화"
      ]
    },
    {
      "cell_type": "code",
      "metadata": {
        "id": "3I9pSAeDqp--",
        "outputId": "b4d2c8f0-2057-4c5d-d63a-99abff301520",
        "colab": {
          "base_uri": "https://localhost:8080/"
        }
      },
      "source": [
        "from sklearn.preprocessing import LabelEncoder\n",
        "\n",
        "categorical = list(df.columns[df.dtypes==\"object\"])\n",
        "print(categorical)\n",
        "\n",
        "enc = LabelEncoder()\n",
        "for i in categorical:\n",
        "    df[i] = enc.fit_transform(df[i])\n",
        "    df[i] = df[i].astype('float64')"
      ],
      "execution_count": 189,
      "outputs": [
        {
          "output_type": "stream",
          "text": [
            "['Category', 'Descript', 'DayOfWeek', 'PdDistrict', 'Resolution', 'Address', '(X,Y)']\n"
          ],
          "name": "stdout"
        }
      ]
    },
    {
      "cell_type": "markdown",
      "metadata": {
        "id": "bEoRjrY_6VrI"
      },
      "source": [
        "## 4. Train/Test Split"
      ]
    },
    {
      "cell_type": "code",
      "metadata": {
        "id": "1NFoNNoK6VrJ"
      },
      "source": [
        "from sklearn.model_selection import train_test_split, cross_val_score\n",
        "y = df[\"Category\"]\n",
        "x = df.drop(\"Category\",axis=1)\n",
        "x_train, x_test, y_train, y_test = train_test_split(x, y, random_state=101)"
      ],
      "execution_count": 190,
      "outputs": []
    },
    {
      "cell_type": "code",
      "metadata": {
        "id": "-c4EAIF7243T",
        "outputId": "3671ed16-d916-4c96-a2f8-cb3a9037ecad",
        "colab": {
          "base_uri": "https://localhost:8080/"
        }
      },
      "source": [
        "print(x_train.shape)\n",
        "print(x_test.shape)"
      ],
      "execution_count": 191,
      "outputs": [
        {
          "output_type": "stream",
          "text": [
            "(658536, 9)\n",
            "(219513, 9)\n"
          ],
          "name": "stdout"
        }
      ]
    },
    {
      "cell_type": "markdown",
      "metadata": {
        "id": "Uxc5J0Pe6VrO"
      },
      "source": [
        "## 5. Decision Tree에 넣고 결과 확인, Feature Importance 까지 확인해보기"
      ]
    },
    {
      "cell_type": "code",
      "metadata": {
        "id": "cpXz6oPN6VrP",
        "outputId": "20cb2d4f-6b71-4c08-d396-521257b1553c",
        "colab": {
          "base_uri": "https://localhost:8080/"
        }
      },
      "source": [
        "from sklearn.tree import DecisionTreeClassifier\n",
        "dct = DecisionTreeClassifier()\n",
        "dct = dct.fit(x_train, y_train)\n",
        "y_pred = dct.predict(x_test)\n",
        "print(dct.score(x_train, y_train))\n",
        "print(dct.score(x_test, y_test)) #Descript와의 연관성이 높아서 높은 점수 나오는듯"
      ],
      "execution_count": 192,
      "outputs": [
        {
          "output_type": "stream",
          "text": [
            "0.9999772222019753\n",
            "0.9993986688715475\n"
          ],
          "name": "stdout"
        }
      ]
    },
    {
      "cell_type": "code",
      "metadata": {
        "id": "BTMjmJfvpdrM",
        "outputId": "c0bfab3d-9512-4841-c67d-516a20e663f4",
        "colab": {
          "base_uri": "https://localhost:8080/"
        }
      },
      "source": [
        "print(dct.feature_importances_) #descript의 중요도가 제일 높음"
      ],
      "execution_count": 193,
      "outputs": [
        {
          "output_type": "stream",
          "text": [
            "[9.48733227e-01 4.58417178e-05 1.40557214e-04 3.96345043e-02\n",
            " 1.23387621e-04 1.32025224e-04 1.10472589e-02 9.25761726e-05\n",
            " 5.06223066e-05]\n"
          ],
          "name": "stdout"
        }
      ]
    },
    {
      "cell_type": "markdown",
      "metadata": {
        "id": "F_LCIvAk6VrS"
      },
      "source": [
        "## 6. Random Forest, LGBM, XGBoost 중 하나에 넣고 결과 확인"
      ]
    },
    {
      "cell_type": "code",
      "metadata": {
        "id": "X0faMjA06VrT"
      },
      "source": [
        "from lightgbm import LGBMClassifier\n",
        "lgbm = LGBMClassifier(n_estimators = 500, max_depth=10)\n",
        "lgbm.fit(x_train, y_train)\n",
        "y_pred = lgbm.predict(x_test)\n",
        "lgbm.score(x_test, y_test)"
      ],
      "execution_count": null,
      "outputs": []
    },
    {
      "cell_type": "markdown",
      "metadata": {
        "id": "ANtcDSSg6VrW"
      },
      "source": [
        "### 어떤 알고리즘을 사용하셨나요? 왜 그 알고리즘을 사용하셨나요?\n",
        "\n",
        "lightgbm 사용. data 크기가 커서 더 학습시간이 짧은 모델 사용"
      ]
    },
    {
      "cell_type": "code",
      "metadata": {
        "id": "UTw3ZcJy43KH"
      },
      "source": [
        ""
      ],
      "execution_count": null,
      "outputs": []
    }
  ]
}