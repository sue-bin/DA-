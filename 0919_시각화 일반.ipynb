{
  "nbformat": 4,
  "nbformat_minor": 0,
  "metadata": {
    "kernelspec": {
      "display_name": "Python 3",
      "language": "python",
      "name": "python3"
    },
    "language_info": {
      "codemirror_mode": {
        "name": "ipython",
        "version": 3
      },
      "file_extension": ".py",
      "mimetype": "text/x-python",
      "name": "python",
      "nbconvert_exporter": "python",
      "pygments_lexer": "ipython3",
      "version": "3.8.3"
    },
    "colab": {
      "name": "17기_경영학과_김수빈.ipynb",
      "provenance": [],
      "collapsed_sections": [],
      "toc_visible": true
    }
  },
  "cells": [
    {
      "cell_type": "code",
      "metadata": {
        "id": "GvHFMfX-qitz",
        "outputId": "5e8b82ec-2a15-4e65-a477-6c5ef9469e3b",
        "colab": {
          "base_uri": "https://localhost:8080/",
          "height": 36
        }
      },
      "source": [
        "from google.colab import drive\n",
        "drive.mount('/content/drive')"
      ],
      "execution_count": null,
      "outputs": [
        {
          "output_type": "stream",
          "text": [
            "Mounted at /content/drive\n"
          ],
          "name": "stdout"
        }
      ]
    },
    {
      "cell_type": "markdown",
      "metadata": {
        "id": "1vM40morevFb"
      },
      "source": [
        "## | 2020.09.19 | 시각화 및 EDA과제"
      ]
    },
    {
      "cell_type": "markdown",
      "metadata": {
        "id": "jFbqoq8NevFd"
      },
      "source": [
        "#### <div style=\"text-align: right\"> By YBIGTA 16기 DA_Team 유세은</div>"
      ]
    },
    {
      "cell_type": "markdown",
      "metadata": {
        "id": "-BHG19pRevFe"
      },
      "source": [
        "> #### Q. 기업이 신사업을 시작했을 때 고객들이 이를 어떻게 사용하고 있을까?\n",
        "기업이 만든 새로운 플랫폼을 고객들이 어떤 패턴으로 이용하고 있고, 잘 이용하고 있는지를 분석하고 이를 바탕으로 솔루션을 제시하는 업무를 맡았다고 가정할 때, 이를 위한 간단한 데이터전처리 및 시각화를 해보는 실습."
      ]
    },
    {
      "cell_type": "markdown",
      "metadata": {
        "id": "ZKbbcimdevFf"
      },
      "source": [
        "#####  + 코드를 작성하는 부분에서 Q)가 나온 후, 아래의 결과가 나오도록 두개의 --- 사이에 코드를 작성해주시면 됩니다:)"
      ]
    },
    {
      "cell_type": "code",
      "metadata": {
        "id": "-rV6cFfDevFg"
      },
      "source": [
        "import numpy as np\n",
        "import pandas as pd\n",
        "import seaborn as sns\n",
        "import matplotlib.pyplot as plt\n",
        "import matplotlib.ticker as ticker\n",
        "from matplotlib import font_manager, rc\n",
        "from matplotlib import style\n",
        "\n",
        "%matplotlib inline\n",
        "\n",
        "import warnings\n",
        "warnings.filterwarnings('ignore')"
      ],
      "execution_count": null,
      "outputs": []
    },
    {
      "cell_type": "markdown",
      "metadata": {
        "id": "4-tvh0kYevFk"
      },
      "source": [
        "### 01 Data 불러오기"
      ]
    },
    {
      "cell_type": "code",
      "metadata": {
        "scrolled": true,
        "id": "NaN-jVloevFl",
        "outputId": "f8720dae-3a03-461d-dd97-39851882027e",
        "colab": {
          "base_uri": "https://localhost:8080/",
          "height": 202
        }
      },
      "source": [
        "df = pd.read_csv(\"/content/drive/My Drive/YBIGTA/DA 교육세션/2020-09-19 시각화 일반/과제/df_funnel.csv\", index_col=0);df.head()"
      ],
      "execution_count": null,
      "outputs": [
        {
          "output_type": "execute_result",
          "data": {
            "text/html": [
              "<div>\n",
              "<style scoped>\n",
              "    .dataframe tbody tr th:only-of-type {\n",
              "        vertical-align: middle;\n",
              "    }\n",
              "\n",
              "    .dataframe tbody tr th {\n",
              "        vertical-align: top;\n",
              "    }\n",
              "\n",
              "    .dataframe thead th {\n",
              "        text-align: right;\n",
              "    }\n",
              "</style>\n",
              "<table border=\"1\" class=\"dataframe\">\n",
              "  <thead>\n",
              "    <tr style=\"text-align: right;\">\n",
              "      <th></th>\n",
              "      <th>actiontype</th>\n",
              "      <th>ismydoc</th>\n",
              "      <th>ext</th>\n",
              "      <th>sessionid</th>\n",
              "      <th>documentposition</th>\n",
              "      <th>datetime</th>\n",
              "      <th>screen</th>\n",
              "    </tr>\n",
              "  </thead>\n",
              "  <tbody>\n",
              "    <tr>\n",
              "      <th>0</th>\n",
              "      <td>OPEN</td>\n",
              "      <td>NoView</td>\n",
              "      <td>PDF</td>\n",
              "      <td>9400fd2e43d7dc2d054ca78806236ee1</td>\n",
              "      <td>LOCALSTORAGE</td>\n",
              "      <td>2016.7.18</td>\n",
              "      <td>Per_Dir</td>\n",
              "    </tr>\n",
              "    <tr>\n",
              "      <th>1</th>\n",
              "      <td>CLOSE</td>\n",
              "      <td>NoView</td>\n",
              "      <td>PDF</td>\n",
              "      <td>9400fd2e43d7dc2d054ca78806236ee1</td>\n",
              "      <td>LOCALSTORAGE</td>\n",
              "      <td>2016.7.18</td>\n",
              "      <td>Per_Dir</td>\n",
              "    </tr>\n",
              "    <tr>\n",
              "      <th>2</th>\n",
              "      <td>OPEN</td>\n",
              "      <td>View</td>\n",
              "      <td>PDF</td>\n",
              "      <td>9400fd2e43d7dc2d054ca78806236ee1</td>\n",
              "      <td>MYPOLARISDRIVE</td>\n",
              "      <td>2016.7.18</td>\n",
              "      <td>Pub_Dir</td>\n",
              "    </tr>\n",
              "    <tr>\n",
              "      <th>3</th>\n",
              "      <td>CLOSE</td>\n",
              "      <td>View</td>\n",
              "      <td>PDF</td>\n",
              "      <td>9400fd2e43d7dc2d054ca78806236ee1</td>\n",
              "      <td>MYPOLARISDRIVE</td>\n",
              "      <td>2016.7.18</td>\n",
              "      <td>Pub_Dir</td>\n",
              "    </tr>\n",
              "    <tr>\n",
              "      <th>4</th>\n",
              "      <td>OPEN</td>\n",
              "      <td>NoView</td>\n",
              "      <td>PDF</td>\n",
              "      <td>f191063c562691041dfa935ff0876975</td>\n",
              "      <td>OTHERAPP</td>\n",
              "      <td>2016.7.6</td>\n",
              "      <td>Main</td>\n",
              "    </tr>\n",
              "  </tbody>\n",
              "</table>\n",
              "</div>"
            ],
            "text/plain": [
              "  actiontype ismydoc  ext  ... documentposition   datetime   screen\n",
              "0       OPEN  NoView  PDF  ...     LOCALSTORAGE  2016.7.18  Per_Dir\n",
              "1      CLOSE  NoView  PDF  ...     LOCALSTORAGE  2016.7.18  Per_Dir\n",
              "2       OPEN    View  PDF  ...   MYPOLARISDRIVE  2016.7.18  Pub_Dir\n",
              "3      CLOSE    View  PDF  ...   MYPOLARISDRIVE  2016.7.18  Pub_Dir\n",
              "4       OPEN  NoView  PDF  ...         OTHERAPP   2016.7.6     Main\n",
              "\n",
              "[5 rows x 7 columns]"
            ]
          },
          "metadata": {
            "tags": []
          },
          "execution_count": 43
        }
      ]
    },
    {
      "cell_type": "markdown",
      "metadata": {
        "id": "y8RTbzCTevFo"
      },
      "source": [
        "> ##### Column 설명\n",
        "+ actiontype: 문서 이용시 행동 <br>\n",
        "+ ismydoc: 내문서 해당 여부 <br>\n",
        "+ ext: 문서 확장자 <br>\n",
        "+ sessionid: 유저 식별자 <br>\n",
        "+ documentposition: 문서 이용시 위치 정보 <br>\n",
        "+ datetime: 날짜 <br>\n",
        "+ screen: 앱내 화면 이름"
      ]
    },
    {
      "cell_type": "code",
      "metadata": {
        "scrolled": false,
        "id": "XVRAwKWzevFp",
        "outputId": "a6aefe29-e80d-4fcf-ef07-eb8add0a4ab3",
        "colab": {
          "base_uri": "https://localhost:8080/",
          "height": 279
        }
      },
      "source": [
        "df.info()"
      ],
      "execution_count": null,
      "outputs": [
        {
          "output_type": "stream",
          "text": [
            "<class 'pandas.core.frame.DataFrame'>\n",
            "Int64Index: 301861 entries, 0 to 301860\n",
            "Data columns (total 7 columns):\n",
            " #   Column            Non-Null Count   Dtype \n",
            "---  ------            --------------   ----- \n",
            " 0   actiontype        301861 non-null  object\n",
            " 1   ismydoc           301861 non-null  object\n",
            " 2   ext               301861 non-null  object\n",
            " 3   sessionid         301861 non-null  object\n",
            " 4   documentposition  301861 non-null  object\n",
            " 5   datetime          301861 non-null  object\n",
            " 6   screen            301861 non-null  object\n",
            "dtypes: object(7)\n",
            "memory usage: 18.4+ MB\n"
          ],
          "name": "stdout"
        }
      ]
    },
    {
      "cell_type": "markdown",
      "metadata": {
        "id": "MPph_gF4evFs"
      },
      "source": [
        "### 02 데이터 전처리"
      ]
    },
    {
      "cell_type": "markdown",
      "metadata": {
        "id": "rRuOsr0FevFs"
      },
      "source": [
        "#### 2-1) datatime의 type이 object이므로 datetime으로 바꿔주기\n",
        "+ pd.to_datetime() 이용"
      ]
    },
    {
      "cell_type": "code",
      "metadata": {
        "id": "QGMiWdyVevFt",
        "outputId": "28500df9-bc19-4915-9e5c-0a87250b9f4d",
        "colab": {
          "base_uri": "https://localhost:8080/",
          "height": 223
        }
      },
      "source": [
        "# Q1) 날짜별로 데이터가 몇개씩 있는지 확인해보는 코드를 작성해주세요.\n",
        "df[\"datetime\"].value_counts().head(10)"
      ],
      "execution_count": null,
      "outputs": [
        {
          "output_type": "execute_result",
          "data": {
            "text/plain": [
              "2016.7.12    12340\n",
              "2016.7.13    12159\n",
              "2016.7.26    12034\n",
              "2016.7.20    11912\n",
              "2016.7.19    11872\n",
              "2016.7.1     11836\n",
              "2016.7.14    11721\n",
              "2016.7.21    11599\n",
              "2016.7.27    11593\n",
              "2016.7.22    11250\n",
              "Name: datetime, dtype: int64"
            ]
          },
          "metadata": {
            "tags": []
          },
          "execution_count": 46
        }
      ]
    },
    {
      "cell_type": "code",
      "metadata": {
        "id": "O-klGbiDevFv",
        "outputId": "df02cae4-e5a4-42cc-8754-22b25e80ed75",
        "colab": {
          "base_uri": "https://localhost:8080/",
          "height": 223
        }
      },
      "source": [
        "# Q2) object type인 'datetime'을 datetime으로 바꿔주는 코드를 작성해주세요.\n",
        "df['datetime'] = pd.to_datetime(df['datetime'])\n",
        "df['datetime'].head(10)"
      ],
      "execution_count": null,
      "outputs": [
        {
          "output_type": "execute_result",
          "data": {
            "text/plain": [
              "0   2016-07-18\n",
              "1   2016-07-18\n",
              "2   2016-07-18\n",
              "3   2016-07-18\n",
              "4   2016-07-06\n",
              "5   2016-07-06\n",
              "6   2016-07-20\n",
              "7   2016-07-20\n",
              "8   2016-07-28\n",
              "9   2016-07-28\n",
              "Name: datetime, dtype: datetime64[ns]"
            ]
          },
          "metadata": {
            "tags": []
          },
          "execution_count": 47
        }
      ]
    },
    {
      "cell_type": "code",
      "metadata": {
        "id": "H_Ph9ObFgVi1",
        "outputId": "fc362d29-42b5-43c3-deb3-48a27fcda022",
        "colab": {
          "base_uri": "https://localhost:8080/",
          "height": 279
        }
      },
      "source": [
        "df.info()"
      ],
      "execution_count": null,
      "outputs": [
        {
          "output_type": "stream",
          "text": [
            "<class 'pandas.core.frame.DataFrame'>\n",
            "Int64Index: 301861 entries, 0 to 301860\n",
            "Data columns (total 7 columns):\n",
            " #   Column            Non-Null Count   Dtype         \n",
            "---  ------            --------------   -----         \n",
            " 0   actiontype        301861 non-null  object        \n",
            " 1   ismydoc           301861 non-null  object        \n",
            " 2   ext               301861 non-null  object        \n",
            " 3   sessionid         301861 non-null  object        \n",
            " 4   documentposition  301861 non-null  object        \n",
            " 5   datetime          301861 non-null  datetime64[ns]\n",
            " 6   screen            301861 non-null  object        \n",
            "dtypes: datetime64[ns](1), object(6)\n",
            "memory usage: 18.4+ MB\n"
          ],
          "name": "stdout"
        }
      ]
    },
    {
      "cell_type": "code",
      "metadata": {
        "id": "lzmct6yEevFy",
        "outputId": "97657b30-e667-474f-df39-299b0007c77b",
        "colab": {
          "base_uri": "https://localhost:8080/",
          "height": 279
        }
      },
      "source": [
        "# Q2-1) df.info()가 다음과 같이 나오도록 Q2)를 참고하여 코드를 작성해주세요.\n",
        "df.info()"
      ],
      "execution_count": null,
      "outputs": [
        {
          "output_type": "stream",
          "text": [
            "<class 'pandas.core.frame.DataFrame'>\n",
            "Int64Index: 301861 entries, 0 to 301860\n",
            "Data columns (total 7 columns):\n",
            " #   Column            Non-Null Count   Dtype         \n",
            "---  ------            --------------   -----         \n",
            " 0   actiontype        301861 non-null  object        \n",
            " 1   ismydoc           301861 non-null  object        \n",
            " 2   ext               301861 non-null  object        \n",
            " 3   sessionid         301861 non-null  object        \n",
            " 4   documentposition  301861 non-null  object        \n",
            " 5   datetime          301861 non-null  datetime64[ns]\n",
            " 6   screen            301861 non-null  object        \n",
            "dtypes: datetime64[ns](1), object(6)\n",
            "memory usage: 18.4+ MB\n"
          ],
          "name": "stdout"
        }
      ]
    },
    {
      "cell_type": "code",
      "metadata": {
        "id": "GOnQUfT8evF1",
        "outputId": "c26efaed-9fa5-45da-fd0f-55f93bc7e545",
        "colab": {
          "base_uri": "https://localhost:8080/",
          "height": 185
        }
      },
      "source": [
        "# Q3) df에 요일을 나타내는 새로운 칼럼 \"df['day_of_week']\"을 생성하고, 요일별 데이터 수를 카운트하는 코드를 작성하세요.\n",
        "# ------------------------\n",
        "df['day_of_week'] = df['datetime'].dt.day_name()\n",
        "df.groupby('day_of_week').size()"
      ],
      "execution_count": null,
      "outputs": [
        {
          "output_type": "execute_result",
          "data": {
            "text/plain": [
              "day_of_week\n",
              "Friday       55386\n",
              "Monday       39403\n",
              "Saturday     42157\n",
              "Sunday       26803\n",
              "Thursday     44689\n",
              "Tuesday      47234\n",
              "Wednesday    46189\n",
              "dtype: int64"
            ]
          },
          "metadata": {
            "tags": []
          },
          "execution_count": 50
        }
      ]
    },
    {
      "cell_type": "code",
      "metadata": {
        "scrolled": true,
        "id": "-onnRyPIevF4",
        "outputId": "2ec99c27-c340-4773-ddf4-585016143e0f",
        "colab": {
          "base_uri": "https://localhost:8080/",
          "height": 202
        }
      },
      "source": [
        "df.head()"
      ],
      "execution_count": null,
      "outputs": [
        {
          "output_type": "execute_result",
          "data": {
            "text/html": [
              "<div>\n",
              "<style scoped>\n",
              "    .dataframe tbody tr th:only-of-type {\n",
              "        vertical-align: middle;\n",
              "    }\n",
              "\n",
              "    .dataframe tbody tr th {\n",
              "        vertical-align: top;\n",
              "    }\n",
              "\n",
              "    .dataframe thead th {\n",
              "        text-align: right;\n",
              "    }\n",
              "</style>\n",
              "<table border=\"1\" class=\"dataframe\">\n",
              "  <thead>\n",
              "    <tr style=\"text-align: right;\">\n",
              "      <th></th>\n",
              "      <th>actiontype</th>\n",
              "      <th>ismydoc</th>\n",
              "      <th>ext</th>\n",
              "      <th>sessionid</th>\n",
              "      <th>documentposition</th>\n",
              "      <th>datetime</th>\n",
              "      <th>screen</th>\n",
              "      <th>day_of_week</th>\n",
              "    </tr>\n",
              "  </thead>\n",
              "  <tbody>\n",
              "    <tr>\n",
              "      <th>0</th>\n",
              "      <td>OPEN</td>\n",
              "      <td>NoView</td>\n",
              "      <td>PDF</td>\n",
              "      <td>9400fd2e43d7dc2d054ca78806236ee1</td>\n",
              "      <td>LOCALSTORAGE</td>\n",
              "      <td>2016-07-18</td>\n",
              "      <td>Per_Dir</td>\n",
              "      <td>Monday</td>\n",
              "    </tr>\n",
              "    <tr>\n",
              "      <th>1</th>\n",
              "      <td>CLOSE</td>\n",
              "      <td>NoView</td>\n",
              "      <td>PDF</td>\n",
              "      <td>9400fd2e43d7dc2d054ca78806236ee1</td>\n",
              "      <td>LOCALSTORAGE</td>\n",
              "      <td>2016-07-18</td>\n",
              "      <td>Per_Dir</td>\n",
              "      <td>Monday</td>\n",
              "    </tr>\n",
              "    <tr>\n",
              "      <th>2</th>\n",
              "      <td>OPEN</td>\n",
              "      <td>View</td>\n",
              "      <td>PDF</td>\n",
              "      <td>9400fd2e43d7dc2d054ca78806236ee1</td>\n",
              "      <td>MYPOLARISDRIVE</td>\n",
              "      <td>2016-07-18</td>\n",
              "      <td>Pub_Dir</td>\n",
              "      <td>Monday</td>\n",
              "    </tr>\n",
              "    <tr>\n",
              "      <th>3</th>\n",
              "      <td>CLOSE</td>\n",
              "      <td>View</td>\n",
              "      <td>PDF</td>\n",
              "      <td>9400fd2e43d7dc2d054ca78806236ee1</td>\n",
              "      <td>MYPOLARISDRIVE</td>\n",
              "      <td>2016-07-18</td>\n",
              "      <td>Pub_Dir</td>\n",
              "      <td>Monday</td>\n",
              "    </tr>\n",
              "    <tr>\n",
              "      <th>4</th>\n",
              "      <td>OPEN</td>\n",
              "      <td>NoView</td>\n",
              "      <td>PDF</td>\n",
              "      <td>f191063c562691041dfa935ff0876975</td>\n",
              "      <td>OTHERAPP</td>\n",
              "      <td>2016-07-06</td>\n",
              "      <td>Main</td>\n",
              "      <td>Wednesday</td>\n",
              "    </tr>\n",
              "  </tbody>\n",
              "</table>\n",
              "</div>"
            ],
            "text/plain": [
              "  actiontype ismydoc  ext  ...   datetime   screen day_of_week\n",
              "0       OPEN  NoView  PDF  ... 2016-07-18  Per_Dir      Monday\n",
              "1      CLOSE  NoView  PDF  ... 2016-07-18  Per_Dir      Monday\n",
              "2       OPEN    View  PDF  ... 2016-07-18  Pub_Dir      Monday\n",
              "3      CLOSE    View  PDF  ... 2016-07-18  Pub_Dir      Monday\n",
              "4       OPEN  NoView  PDF  ... 2016-07-06     Main   Wednesday\n",
              "\n",
              "[5 rows x 8 columns]"
            ]
          },
          "metadata": {
            "tags": []
          },
          "execution_count": 51
        }
      ]
    },
    {
      "cell_type": "markdown",
      "metadata": {
        "id": "ioYmq5SyevF7"
      },
      "source": [
        "#### 2-2) 결측치 처리하기"
      ]
    },
    {
      "cell_type": "code",
      "metadata": {
        "id": "1bMHGBXWevF7",
        "outputId": "98702c74-d7b0-478a-fbd1-62aa53e89e07",
        "colab": {
          "base_uri": "https://localhost:8080/",
          "height": 55
        }
      },
      "source": [
        "# screen칼럼으로 user의 상품 구매여부를 알 수 있습니다.\n",
        "df['screen'].unique()"
      ],
      "execution_count": null,
      "outputs": [
        {
          "output_type": "execute_result",
          "data": {
            "text/plain": [
              "array(['Per_Dir', 'Pub_Dir', 'Main', 'InProduct_Web', 'InProduct_Mob',\n",
              "       'Purchase_page', 'Purchase_done'], dtype=object)"
            ]
          },
          "metadata": {
            "tags": []
          },
          "execution_count": 52
        }
      ]
    },
    {
      "cell_type": "code",
      "metadata": {
        "id": "ofnrSMNvevF-",
        "outputId": "99b823a8-f1e9-4e7d-d16c-78cf2e77c0d0",
        "colab": {
          "base_uri": "https://localhost:8080/",
          "height": 233
        }
      },
      "source": [
        "# Q4) 아래와 같은 결과가 나오도록 'datetime'과 'screen'별 사용자를 카운트하는 코드를 이어서 작성하세요.\n",
        "df_by_screen =  df.groupby([\"datetime\", \"screen\"])['sessionid'].nunique().unstack()\n",
        "df_by_screen.head()"
      ],
      "execution_count": null,
      "outputs": [
        {
          "output_type": "execute_result",
          "data": {
            "text/html": [
              "<div>\n",
              "<style scoped>\n",
              "    .dataframe tbody tr th:only-of-type {\n",
              "        vertical-align: middle;\n",
              "    }\n",
              "\n",
              "    .dataframe tbody tr th {\n",
              "        vertical-align: top;\n",
              "    }\n",
              "\n",
              "    .dataframe thead th {\n",
              "        text-align: right;\n",
              "    }\n",
              "</style>\n",
              "<table border=\"1\" class=\"dataframe\">\n",
              "  <thead>\n",
              "    <tr style=\"text-align: right;\">\n",
              "      <th>screen</th>\n",
              "      <th>InProduct_Mob</th>\n",
              "      <th>InProduct_Web</th>\n",
              "      <th>Main</th>\n",
              "      <th>Per_Dir</th>\n",
              "      <th>Pub_Dir</th>\n",
              "      <th>Purchase_done</th>\n",
              "      <th>Purchase_page</th>\n",
              "    </tr>\n",
              "    <tr>\n",
              "      <th>datetime</th>\n",
              "      <th></th>\n",
              "      <th></th>\n",
              "      <th></th>\n",
              "      <th></th>\n",
              "      <th></th>\n",
              "      <th></th>\n",
              "      <th></th>\n",
              "    </tr>\n",
              "  </thead>\n",
              "  <tbody>\n",
              "    <tr>\n",
              "      <th>2016-07-01</th>\n",
              "      <td>137.0</td>\n",
              "      <td>147.0</td>\n",
              "      <td>3582.0</td>\n",
              "      <td>296.0</td>\n",
              "      <td>1008.0</td>\n",
              "      <td>2.0</td>\n",
              "      <td>23.0</td>\n",
              "    </tr>\n",
              "    <tr>\n",
              "      <th>2016-07-02</th>\n",
              "      <td>89.0</td>\n",
              "      <td>124.0</td>\n",
              "      <td>2683.0</td>\n",
              "      <td>206.0</td>\n",
              "      <td>801.0</td>\n",
              "      <td>2.0</td>\n",
              "      <td>15.0</td>\n",
              "    </tr>\n",
              "    <tr>\n",
              "      <th>2016-07-03</th>\n",
              "      <td>50.0</td>\n",
              "      <td>83.0</td>\n",
              "      <td>1886.0</td>\n",
              "      <td>165.0</td>\n",
              "      <td>590.0</td>\n",
              "      <td>NaN</td>\n",
              "      <td>28.0</td>\n",
              "    </tr>\n",
              "    <tr>\n",
              "      <th>2016-07-04</th>\n",
              "      <td>112.0</td>\n",
              "      <td>104.0</td>\n",
              "      <td>2808.0</td>\n",
              "      <td>281.0</td>\n",
              "      <td>764.0</td>\n",
              "      <td>NaN</td>\n",
              "      <td>29.0</td>\n",
              "    </tr>\n",
              "    <tr>\n",
              "      <th>2016-07-05</th>\n",
              "      <td>118.0</td>\n",
              "      <td>138.0</td>\n",
              "      <td>3335.0</td>\n",
              "      <td>300.0</td>\n",
              "      <td>842.0</td>\n",
              "      <td>1.0</td>\n",
              "      <td>26.0</td>\n",
              "    </tr>\n",
              "  </tbody>\n",
              "</table>\n",
              "</div>"
            ],
            "text/plain": [
              "screen      InProduct_Mob  InProduct_Web  ...  Purchase_done  Purchase_page\n",
              "datetime                                  ...                              \n",
              "2016-07-01          137.0          147.0  ...            2.0           23.0\n",
              "2016-07-02           89.0          124.0  ...            2.0           15.0\n",
              "2016-07-03           50.0           83.0  ...            NaN           28.0\n",
              "2016-07-04          112.0          104.0  ...            NaN           29.0\n",
              "2016-07-05          118.0          138.0  ...            1.0           26.0\n",
              "\n",
              "[5 rows x 7 columns]"
            ]
          },
          "metadata": {
            "tags": []
          },
          "execution_count": 53
        }
      ]
    },
    {
      "cell_type": "code",
      "metadata": {
        "scrolled": true,
        "id": "DAGfbMQlevGA",
        "outputId": "9ad98bdf-1bd5-43de-c614-a71e284dcc78",
        "colab": {
          "base_uri": "https://localhost:8080/",
          "height": 185
        }
      },
      "source": [
        "# 결측치 확인\n",
        "# 원래 데이터에는 NaN값이 없었지만, groupby 이후에 생김\n",
        "df_by_screen.isnull().sum()"
      ],
      "execution_count": null,
      "outputs": [
        {
          "output_type": "execute_result",
          "data": {
            "text/plain": [
              "screen\n",
              "InProduct_Mob    0\n",
              "InProduct_Web    0\n",
              "Main             0\n",
              "Per_Dir          0\n",
              "Pub_Dir          0\n",
              "Purchase_done    6\n",
              "Purchase_page    0\n",
              "dtype: int64"
            ]
          },
          "metadata": {
            "tags": []
          },
          "execution_count": 54
        }
      ]
    },
    {
      "cell_type": "markdown",
      "metadata": {
        "id": "FO_CRm6zevGC"
      },
      "source": [
        "구매페이지까지는 갔으나, 구매를 완료하지 않은 날들이 있다는 것을 의미!"
      ]
    },
    {
      "cell_type": "code",
      "metadata": {
        "scrolled": true,
        "id": "Mr0ne46jevGD"
      },
      "source": [
        "# 결측치를 채우는 방법은 여러가지가 있지만, 여기서는 구매를 하지 않은 것이므로 0으로 채우겠습니다.\n",
        "# Q5) 'Purchase_done'칼럼을 0으로 채워주는 코드를 작성하세요.\n",
        "\n",
        "df_by_screen = df_by_screen.replace(np.nan, 0)"
      ],
      "execution_count": null,
      "outputs": []
    },
    {
      "cell_type": "markdown",
      "metadata": {
        "id": "imrvPfS_evGG"
      },
      "source": [
        "#### 2-3) 확장자명 통일하기"
      ]
    },
    {
      "cell_type": "code",
      "metadata": {
        "scrolled": true,
        "id": "w4ogg5IMevGG",
        "outputId": "a7c3f682-d6b0-4b74-8024-6eed5584533d",
        "colab": {
          "base_uri": "https://localhost:8080/",
          "height": 335
        }
      },
      "source": [
        "# 'ext'칼럼은 문서확장자를 의미합니다.\n",
        "# 데이터를 살펴보면 비슷한 확장자들이 보이기 때문에, 전처리 과정에서 비슷한 확장자들을 통일해주겠습니다.\n",
        "df['ext'].value_counts()"
      ],
      "execution_count": null,
      "outputs": [
        {
          "output_type": "execute_result",
          "data": {
            "text/plain": [
              "PDF      82004\n",
              "DOCX     58303\n",
              "XLSX     52118\n",
              "HWP      26244\n",
              "DOC      24586\n",
              "XLS      24489\n",
              "PPTX     15385\n",
              "TXT       9814\n",
              "PPT       5382\n",
              "PPSX      2374\n",
              "ODT        820\n",
              "PPS        324\n",
              "JPG          9\n",
              "SHEET        5\n",
              "WORD         2\n",
              "PNG          2\n",
              "Name: ext, dtype: int64"
            ]
          },
          "metadata": {
            "tags": []
          },
          "execution_count": 56
        }
      ]
    },
    {
      "cell_type": "code",
      "metadata": {
        "id": "yWU8_XegevGK"
      },
      "source": [
        "# 비슷한 확장자 딕셔너리\n",
        "ext_dic = {'DOCX': 'DOC',\n",
        "           'XLSX': 'XLS',\n",
        "           'PPTX': 'PPT',\n",
        "           'PPSX': 'PPT',\n",
        "           'PPS': 'PPT',\n",
        "           'ODT': 'TXT',\n",
        "           'PNG': 'JPG'}"
      ],
      "execution_count": null,
      "outputs": []
    },
    {
      "cell_type": "code",
      "metadata": {
        "scrolled": true,
        "id": "EtGOYVopevGN",
        "outputId": "f51e88c6-227f-4302-ab12-3b040e0a3bce",
        "colab": {
          "base_uri": "https://localhost:8080/",
          "height": 204
        }
      },
      "source": [
        "# Q6) 위의 딕셔너리를 이용하여 아래와 같은 결과가 나오도록 비슷한 확장자를 통일해주는 코드를 작성해주세요.\n",
        "for i in range(len(df[\"ext\"])):\n",
        "  if df[\"ext\"][i] in ext_dic:\n",
        "    df['ext'][i] = ext_dic[df[\"ext\"][i]]\n",
        "df[\"ext\"].value_counts()"
      ],
      "execution_count": null,
      "outputs": [
        {
          "output_type": "execute_result",
          "data": {
            "text/plain": [
              "DOC      82889\n",
              "PDF      82004\n",
              "XLS      76607\n",
              "HWP      26244\n",
              "PPT      23465\n",
              "TXT      10634\n",
              "JPG         11\n",
              "SHEET        5\n",
              "WORD         2\n",
              "Name: ext, dtype: int64"
            ]
          },
          "metadata": {
            "tags": []
          },
          "execution_count": 58
        }
      ]
    },
    {
      "cell_type": "markdown",
      "metadata": {
        "id": "FC4ca5V7evGQ"
      },
      "source": [
        "같은 방식을 'actiontype'에게도 사용하겠습니다."
      ]
    },
    {
      "cell_type": "code",
      "metadata": {
        "id": "HjEGB5ebevGR",
        "outputId": "fe2b0aa9-3cec-4049-d398-4fe0e3c23d72",
        "colab": {
          "base_uri": "https://localhost:8080/",
          "height": 185
        }
      },
      "source": [
        "df['actiontype'].value_counts()"
      ],
      "execution_count": null,
      "outputs": [
        {
          "output_type": "execute_result",
          "data": {
            "text/plain": [
              "OPEN            151802\n",
              "CLOSE           127922\n",
              "SAVE              9334\n",
              "RESET             7751\n",
              "SAVEAS            4960\n",
              "EXPORT_SAME         68\n",
              "EXPORT              19\n",
              "SAVEAS_OTHER         5\n",
              "Name: actiontype, dtype: int64"
            ]
          },
          "metadata": {
            "tags": []
          },
          "execution_count": 59
        }
      ]
    },
    {
      "cell_type": "code",
      "metadata": {
        "id": "XyY9CmTMevGV"
      },
      "source": [
        "act_dic = {'SAVEAS': 'SAVE',\n",
        "           'SAVEAS_OTHER': 'SAVE',\n",
        "           'EXPORT_SAME': 'EXPORT'\n",
        "            }"
      ],
      "execution_count": null,
      "outputs": []
    },
    {
      "cell_type": "code",
      "metadata": {
        "id": "WhXVoxU9evGY",
        "outputId": "8d066b5a-761e-4350-b9c5-142522dca6ed",
        "colab": {
          "base_uri": "https://localhost:8080/",
          "height": 185
        }
      },
      "source": [
        "# Q7) 위의 딕셔너리를 이용하여 아래와 같은 결과가 나오도록 비슷한 타입을 통일해주는 코드를 작성해주세요.\n",
        "for i in range(len(df[\"actiontype\"])):\n",
        "  if i in act_dic:\n",
        "    df['actiontype'][i] = act_dic[df[\"actiontype\"][i]]\n",
        "df[\"actiontype\"].value_counts()\n",
        "# ------------------------"
      ],
      "execution_count": null,
      "outputs": [
        {
          "output_type": "execute_result",
          "data": {
            "text/plain": [
              "OPEN            151802\n",
              "CLOSE           127922\n",
              "SAVE              9334\n",
              "RESET             7751\n",
              "SAVEAS            4960\n",
              "EXPORT_SAME         68\n",
              "EXPORT              19\n",
              "SAVEAS_OTHER         5\n",
              "Name: actiontype, dtype: int64"
            ]
          },
          "metadata": {
            "tags": []
          },
          "execution_count": 61
        }
      ]
    },
    {
      "cell_type": "markdown",
      "metadata": {
        "id": "HqkjdglUevGa"
      },
      "source": [
        "#### 2-4) 복잡한 데이터를 지닌 sessionid 간단하게 만들어주기"
      ]
    },
    {
      "cell_type": "code",
      "metadata": {
        "scrolled": true,
        "id": "aWc-_8RQevGb",
        "outputId": "2a4cdf2d-81fe-449f-b52d-5f6e4c97e039",
        "colab": {
          "base_uri": "https://localhost:8080/",
          "height": 202
        }
      },
      "source": [
        "df.head()"
      ],
      "execution_count": null,
      "outputs": [
        {
          "output_type": "execute_result",
          "data": {
            "text/html": [
              "<div>\n",
              "<style scoped>\n",
              "    .dataframe tbody tr th:only-of-type {\n",
              "        vertical-align: middle;\n",
              "    }\n",
              "\n",
              "    .dataframe tbody tr th {\n",
              "        vertical-align: top;\n",
              "    }\n",
              "\n",
              "    .dataframe thead th {\n",
              "        text-align: right;\n",
              "    }\n",
              "</style>\n",
              "<table border=\"1\" class=\"dataframe\">\n",
              "  <thead>\n",
              "    <tr style=\"text-align: right;\">\n",
              "      <th></th>\n",
              "      <th>actiontype</th>\n",
              "      <th>ismydoc</th>\n",
              "      <th>ext</th>\n",
              "      <th>sessionid</th>\n",
              "      <th>documentposition</th>\n",
              "      <th>datetime</th>\n",
              "      <th>screen</th>\n",
              "      <th>day_of_week</th>\n",
              "    </tr>\n",
              "  </thead>\n",
              "  <tbody>\n",
              "    <tr>\n",
              "      <th>0</th>\n",
              "      <td>OPEN</td>\n",
              "      <td>NoView</td>\n",
              "      <td>PDF</td>\n",
              "      <td>9400fd2e43d7dc2d054ca78806236ee1</td>\n",
              "      <td>LOCALSTORAGE</td>\n",
              "      <td>2016-07-18</td>\n",
              "      <td>Per_Dir</td>\n",
              "      <td>Monday</td>\n",
              "    </tr>\n",
              "    <tr>\n",
              "      <th>1</th>\n",
              "      <td>CLOSE</td>\n",
              "      <td>NoView</td>\n",
              "      <td>PDF</td>\n",
              "      <td>9400fd2e43d7dc2d054ca78806236ee1</td>\n",
              "      <td>LOCALSTORAGE</td>\n",
              "      <td>2016-07-18</td>\n",
              "      <td>Per_Dir</td>\n",
              "      <td>Monday</td>\n",
              "    </tr>\n",
              "    <tr>\n",
              "      <th>2</th>\n",
              "      <td>OPEN</td>\n",
              "      <td>View</td>\n",
              "      <td>PDF</td>\n",
              "      <td>9400fd2e43d7dc2d054ca78806236ee1</td>\n",
              "      <td>MYPOLARISDRIVE</td>\n",
              "      <td>2016-07-18</td>\n",
              "      <td>Pub_Dir</td>\n",
              "      <td>Monday</td>\n",
              "    </tr>\n",
              "    <tr>\n",
              "      <th>3</th>\n",
              "      <td>CLOSE</td>\n",
              "      <td>View</td>\n",
              "      <td>PDF</td>\n",
              "      <td>9400fd2e43d7dc2d054ca78806236ee1</td>\n",
              "      <td>MYPOLARISDRIVE</td>\n",
              "      <td>2016-07-18</td>\n",
              "      <td>Pub_Dir</td>\n",
              "      <td>Monday</td>\n",
              "    </tr>\n",
              "    <tr>\n",
              "      <th>4</th>\n",
              "      <td>OPEN</td>\n",
              "      <td>NoView</td>\n",
              "      <td>PDF</td>\n",
              "      <td>f191063c562691041dfa935ff0876975</td>\n",
              "      <td>OTHERAPP</td>\n",
              "      <td>2016-07-06</td>\n",
              "      <td>Main</td>\n",
              "      <td>Wednesday</td>\n",
              "    </tr>\n",
              "  </tbody>\n",
              "</table>\n",
              "</div>"
            ],
            "text/plain": [
              "  actiontype ismydoc  ext  ...   datetime   screen day_of_week\n",
              "0       OPEN  NoView  PDF  ... 2016-07-18  Per_Dir      Monday\n",
              "1      CLOSE  NoView  PDF  ... 2016-07-18  Per_Dir      Monday\n",
              "2       OPEN    View  PDF  ... 2016-07-18  Pub_Dir      Monday\n",
              "3      CLOSE    View  PDF  ... 2016-07-18  Pub_Dir      Monday\n",
              "4       OPEN  NoView  PDF  ... 2016-07-06     Main   Wednesday\n",
              "\n",
              "[5 rows x 8 columns]"
            ]
          },
          "metadata": {
            "tags": []
          },
          "execution_count": 62
        }
      ]
    },
    {
      "cell_type": "code",
      "metadata": {
        "id": "z3alvYBRevGd",
        "outputId": "7e05ca22-a96c-4f6c-b64f-860027682ccf",
        "colab": {
          "base_uri": "https://localhost:8080/",
          "height": 202
        }
      },
      "source": [
        "df.tail()"
      ],
      "execution_count": null,
      "outputs": [
        {
          "output_type": "execute_result",
          "data": {
            "text/html": [
              "<div>\n",
              "<style scoped>\n",
              "    .dataframe tbody tr th:only-of-type {\n",
              "        vertical-align: middle;\n",
              "    }\n",
              "\n",
              "    .dataframe tbody tr th {\n",
              "        vertical-align: top;\n",
              "    }\n",
              "\n",
              "    .dataframe thead th {\n",
              "        text-align: right;\n",
              "    }\n",
              "</style>\n",
              "<table border=\"1\" class=\"dataframe\">\n",
              "  <thead>\n",
              "    <tr style=\"text-align: right;\">\n",
              "      <th></th>\n",
              "      <th>actiontype</th>\n",
              "      <th>ismydoc</th>\n",
              "      <th>ext</th>\n",
              "      <th>sessionid</th>\n",
              "      <th>documentposition</th>\n",
              "      <th>datetime</th>\n",
              "      <th>screen</th>\n",
              "      <th>day_of_week</th>\n",
              "    </tr>\n",
              "  </thead>\n",
              "  <tbody>\n",
              "    <tr>\n",
              "      <th>301856</th>\n",
              "      <td>CLOSE</td>\n",
              "      <td>View</td>\n",
              "      <td>XLS</td>\n",
              "      <td>2ed068d5e6a72e80e4a997c01c59f782</td>\n",
              "      <td>OTHERAPP</td>\n",
              "      <td>2016-07-07</td>\n",
              "      <td>Main</td>\n",
              "      <td>Thursday</td>\n",
              "    </tr>\n",
              "    <tr>\n",
              "      <th>301857</th>\n",
              "      <td>OPEN</td>\n",
              "      <td>NoView</td>\n",
              "      <td>DOC</td>\n",
              "      <td>41b8c1df291edd2aec30fc610e5b676e</td>\n",
              "      <td>OTHERAPP</td>\n",
              "      <td>2016-07-05</td>\n",
              "      <td>Main</td>\n",
              "      <td>Tuesday</td>\n",
              "    </tr>\n",
              "    <tr>\n",
              "      <th>301858</th>\n",
              "      <td>RESET</td>\n",
              "      <td>View</td>\n",
              "      <td>DOC</td>\n",
              "      <td>41b8c1df291edd2aec30fc610e5b676e</td>\n",
              "      <td>OTHERAPP</td>\n",
              "      <td>2016-07-05</td>\n",
              "      <td>Main</td>\n",
              "      <td>Tuesday</td>\n",
              "    </tr>\n",
              "    <tr>\n",
              "      <th>301859</th>\n",
              "      <td>OPEN</td>\n",
              "      <td>NoView</td>\n",
              "      <td>PPT</td>\n",
              "      <td>9b5ee236571c2fcbe25132b6ba71d764</td>\n",
              "      <td>OTHERAPP</td>\n",
              "      <td>2016-07-14</td>\n",
              "      <td>Main</td>\n",
              "      <td>Thursday</td>\n",
              "    </tr>\n",
              "    <tr>\n",
              "      <th>301860</th>\n",
              "      <td>CLOSE</td>\n",
              "      <td>NoView</td>\n",
              "      <td>PPT</td>\n",
              "      <td>9b5ee236571c2fcbe25132b6ba71d764</td>\n",
              "      <td>OTHERAPP</td>\n",
              "      <td>2016-07-14</td>\n",
              "      <td>Main</td>\n",
              "      <td>Thursday</td>\n",
              "    </tr>\n",
              "  </tbody>\n",
              "</table>\n",
              "</div>"
            ],
            "text/plain": [
              "       actiontype ismydoc  ext  ...   datetime screen day_of_week\n",
              "301856      CLOSE    View  XLS  ... 2016-07-07   Main    Thursday\n",
              "301857       OPEN  NoView  DOC  ... 2016-07-05   Main     Tuesday\n",
              "301858      RESET    View  DOC  ... 2016-07-05   Main     Tuesday\n",
              "301859       OPEN  NoView  PPT  ... 2016-07-14   Main    Thursday\n",
              "301860      CLOSE  NoView  PPT  ... 2016-07-14   Main    Thursday\n",
              "\n",
              "[5 rows x 8 columns]"
            ]
          },
          "metadata": {
            "tags": []
          },
          "execution_count": 64
        }
      ]
    },
    {
      "cell_type": "code",
      "metadata": {
        "id": "dqw1iKEWevGf"
      },
      "source": [
        "# 보다 간편한 데이터 분석을 위해 sessionid를 간단하게 바꿔주겠습니다.\n",
        "# sessionid가 같다는 것은 같은 user라는 것이므로, user을 1, 2, 3... 형태로 나타내겠습니다.\n",
        "newid = []\n",
        "n = 1\n",
        "\n",
        "# Q8) 같은 id를 가진 user면 같은 수를 부여하고, 아니면 +1의 숫자를 부여하는 식으로 이어가는 코드를 작성해주세요.\n",
        "# ------------------------\n",
        "id_dic = {}\n",
        "for i in range(len(df)):\n",
        "  if df['sessionid'][i] not in id_dic:\n",
        "       id_dic[df[\"sessionid\"][i]] = n\n",
        "       n = n+1\n",
        "\n",
        "for i in range(len(df)):\n",
        "  newid.append(id_dic[df[\"sessionid\"][i]])\n",
        "# ------------------------"
      ],
      "execution_count": null,
      "outputs": []
    },
    {
      "cell_type": "code",
      "metadata": {
        "id": "DHqH0J0_evGi",
        "outputId": "aaed9d82-ad9a-4d5e-f4cc-c1810776c70b",
        "colab": {
          "base_uri": "https://localhost:8080/",
          "height": 36
        }
      },
      "source": [
        "# 이러한 결과가 나오면 성공입니다.\n",
        "newid[:10]"
      ],
      "execution_count": null,
      "outputs": [
        {
          "output_type": "execute_result",
          "data": {
            "text/plain": [
              "[1, 1, 1, 1, 2, 2, 3, 3, 4, 4]"
            ]
          },
          "metadata": {
            "tags": []
          },
          "execution_count": 66
        }
      ]
    },
    {
      "cell_type": "code",
      "metadata": {
        "id": "Sns487J9j_-M"
      },
      "source": [
        "df['sessionid']  = pd.Series(['user' + str(x) for x in newid])"
      ],
      "execution_count": null,
      "outputs": []
    },
    {
      "cell_type": "code",
      "metadata": {
        "id": "JN3yt-TDevGo",
        "outputId": "c2765c54-18c6-4f20-82c8-548ede21eccf",
        "colab": {
          "base_uri": "https://localhost:8080/",
          "height": 202
        }
      },
      "source": [
        "# for문으로 인해 맨 마지막 값이 NaN값이 되었습니다.\n",
        "# 원래 데이터를 보니 바로 위의 user와 같은 user임을 알 수 있습니다.\n",
        "df.tail()"
      ],
      "execution_count": null,
      "outputs": [
        {
          "output_type": "execute_result",
          "data": {
            "text/html": [
              "<div>\n",
              "<style scoped>\n",
              "    .dataframe tbody tr th:only-of-type {\n",
              "        vertical-align: middle;\n",
              "    }\n",
              "\n",
              "    .dataframe tbody tr th {\n",
              "        vertical-align: top;\n",
              "    }\n",
              "\n",
              "    .dataframe thead th {\n",
              "        text-align: right;\n",
              "    }\n",
              "</style>\n",
              "<table border=\"1\" class=\"dataframe\">\n",
              "  <thead>\n",
              "    <tr style=\"text-align: right;\">\n",
              "      <th></th>\n",
              "      <th>actiontype</th>\n",
              "      <th>ismydoc</th>\n",
              "      <th>ext</th>\n",
              "      <th>sessionid</th>\n",
              "      <th>documentposition</th>\n",
              "      <th>datetime</th>\n",
              "      <th>screen</th>\n",
              "      <th>day_of_week</th>\n",
              "    </tr>\n",
              "  </thead>\n",
              "  <tbody>\n",
              "    <tr>\n",
              "      <th>301856</th>\n",
              "      <td>CLOSE</td>\n",
              "      <td>View</td>\n",
              "      <td>XLS</td>\n",
              "      <td>user114992</td>\n",
              "      <td>OTHERAPP</td>\n",
              "      <td>2016-07-07</td>\n",
              "      <td>Main</td>\n",
              "      <td>Thursday</td>\n",
              "    </tr>\n",
              "    <tr>\n",
              "      <th>301857</th>\n",
              "      <td>OPEN</td>\n",
              "      <td>NoView</td>\n",
              "      <td>DOC</td>\n",
              "      <td>user114993</td>\n",
              "      <td>OTHERAPP</td>\n",
              "      <td>2016-07-05</td>\n",
              "      <td>Main</td>\n",
              "      <td>Tuesday</td>\n",
              "    </tr>\n",
              "    <tr>\n",
              "      <th>301858</th>\n",
              "      <td>RESET</td>\n",
              "      <td>View</td>\n",
              "      <td>DOC</td>\n",
              "      <td>user114993</td>\n",
              "      <td>OTHERAPP</td>\n",
              "      <td>2016-07-05</td>\n",
              "      <td>Main</td>\n",
              "      <td>Tuesday</td>\n",
              "    </tr>\n",
              "    <tr>\n",
              "      <th>301859</th>\n",
              "      <td>OPEN</td>\n",
              "      <td>NoView</td>\n",
              "      <td>PPT</td>\n",
              "      <td>user114994</td>\n",
              "      <td>OTHERAPP</td>\n",
              "      <td>2016-07-14</td>\n",
              "      <td>Main</td>\n",
              "      <td>Thursday</td>\n",
              "    </tr>\n",
              "    <tr>\n",
              "      <th>301860</th>\n",
              "      <td>CLOSE</td>\n",
              "      <td>NoView</td>\n",
              "      <td>PPT</td>\n",
              "      <td>user114994</td>\n",
              "      <td>OTHERAPP</td>\n",
              "      <td>2016-07-14</td>\n",
              "      <td>Main</td>\n",
              "      <td>Thursday</td>\n",
              "    </tr>\n",
              "  </tbody>\n",
              "</table>\n",
              "</div>"
            ],
            "text/plain": [
              "       actiontype ismydoc  ext  ...   datetime screen day_of_week\n",
              "301856      CLOSE    View  XLS  ... 2016-07-07   Main    Thursday\n",
              "301857       OPEN  NoView  DOC  ... 2016-07-05   Main     Tuesday\n",
              "301858      RESET    View  DOC  ... 2016-07-05   Main     Tuesday\n",
              "301859       OPEN  NoView  PPT  ... 2016-07-14   Main    Thursday\n",
              "301860      CLOSE  NoView  PPT  ... 2016-07-14   Main    Thursday\n",
              "\n",
              "[5 rows x 8 columns]"
            ]
          },
          "metadata": {
            "tags": []
          },
          "execution_count": 68
        }
      ]
    },
    {
      "cell_type": "code",
      "metadata": {
        "scrolled": true,
        "id": "21BDw27SevGr",
        "outputId": "716eea4a-9891-4fb5-a828-1c32d454080e",
        "colab": {
          "base_uri": "https://localhost:8080/",
          "height": 202
        }
      },
      "source": [
        "# Q9) 'sessionid'의 맨 마지막 결측치를 바로 위의 id와 같게 채워주는 코드를 작성하세요.\n",
        "# ------------------------\n",
        "# ------------------------\n",
        "df.tail()"
      ],
      "execution_count": null,
      "outputs": [
        {
          "output_type": "execute_result",
          "data": {
            "text/html": [
              "<div>\n",
              "<style scoped>\n",
              "    .dataframe tbody tr th:only-of-type {\n",
              "        vertical-align: middle;\n",
              "    }\n",
              "\n",
              "    .dataframe tbody tr th {\n",
              "        vertical-align: top;\n",
              "    }\n",
              "\n",
              "    .dataframe thead th {\n",
              "        text-align: right;\n",
              "    }\n",
              "</style>\n",
              "<table border=\"1\" class=\"dataframe\">\n",
              "  <thead>\n",
              "    <tr style=\"text-align: right;\">\n",
              "      <th></th>\n",
              "      <th>actiontype</th>\n",
              "      <th>ismydoc</th>\n",
              "      <th>ext</th>\n",
              "      <th>sessionid</th>\n",
              "      <th>documentposition</th>\n",
              "      <th>datetime</th>\n",
              "      <th>screen</th>\n",
              "      <th>day_of_week</th>\n",
              "    </tr>\n",
              "  </thead>\n",
              "  <tbody>\n",
              "    <tr>\n",
              "      <th>301856</th>\n",
              "      <td>CLOSE</td>\n",
              "      <td>View</td>\n",
              "      <td>XLS</td>\n",
              "      <td>user114992</td>\n",
              "      <td>OTHERAPP</td>\n",
              "      <td>2016-07-07</td>\n",
              "      <td>Main</td>\n",
              "      <td>Thursday</td>\n",
              "    </tr>\n",
              "    <tr>\n",
              "      <th>301857</th>\n",
              "      <td>OPEN</td>\n",
              "      <td>NoView</td>\n",
              "      <td>DOC</td>\n",
              "      <td>user114993</td>\n",
              "      <td>OTHERAPP</td>\n",
              "      <td>2016-07-05</td>\n",
              "      <td>Main</td>\n",
              "      <td>Tuesday</td>\n",
              "    </tr>\n",
              "    <tr>\n",
              "      <th>301858</th>\n",
              "      <td>RESET</td>\n",
              "      <td>View</td>\n",
              "      <td>DOC</td>\n",
              "      <td>user114993</td>\n",
              "      <td>OTHERAPP</td>\n",
              "      <td>2016-07-05</td>\n",
              "      <td>Main</td>\n",
              "      <td>Tuesday</td>\n",
              "    </tr>\n",
              "    <tr>\n",
              "      <th>301859</th>\n",
              "      <td>OPEN</td>\n",
              "      <td>NoView</td>\n",
              "      <td>PPT</td>\n",
              "      <td>user114994</td>\n",
              "      <td>OTHERAPP</td>\n",
              "      <td>2016-07-14</td>\n",
              "      <td>Main</td>\n",
              "      <td>Thursday</td>\n",
              "    </tr>\n",
              "    <tr>\n",
              "      <th>301860</th>\n",
              "      <td>CLOSE</td>\n",
              "      <td>NoView</td>\n",
              "      <td>PPT</td>\n",
              "      <td>user114994</td>\n",
              "      <td>OTHERAPP</td>\n",
              "      <td>2016-07-14</td>\n",
              "      <td>Main</td>\n",
              "      <td>Thursday</td>\n",
              "    </tr>\n",
              "  </tbody>\n",
              "</table>\n",
              "</div>"
            ],
            "text/plain": [
              "       actiontype ismydoc  ext  ...   datetime screen day_of_week\n",
              "301856      CLOSE    View  XLS  ... 2016-07-07   Main    Thursday\n",
              "301857       OPEN  NoView  DOC  ... 2016-07-05   Main     Tuesday\n",
              "301858      RESET    View  DOC  ... 2016-07-05   Main     Tuesday\n",
              "301859       OPEN  NoView  PPT  ... 2016-07-14   Main    Thursday\n",
              "301860      CLOSE  NoView  PPT  ... 2016-07-14   Main    Thursday\n",
              "\n",
              "[5 rows x 8 columns]"
            ]
          },
          "metadata": {
            "tags": []
          },
          "execution_count": 69
        }
      ]
    },
    {
      "cell_type": "markdown",
      "metadata": {
        "id": "HfmDxbB8evGv"
      },
      "source": [
        "### 03 EDA 및 시각화"
      ]
    },
    {
      "cell_type": "markdown",
      "metadata": {
        "id": "M5_287MoevGw"
      },
      "source": [
        "#### 3-1) 일별 Trend"
      ]
    },
    {
      "cell_type": "code",
      "metadata": {
        "scrolled": true,
        "id": "awJ9ZO1mevGw",
        "outputId": "309faf8c-eb56-46e5-9f63-f622ceeef049",
        "colab": {
          "base_uri": "https://localhost:8080/",
          "height": 333
        }
      },
      "source": [
        "# Q10) 위에서 살펴보았던 날짜별 이용건수를 아래와 같이 그래프로 나타내는 코드를 작성하세요.\n",
        "\n",
        "df.groupby(['datetime']).size().plot()\n",
        "\n",
        "# 위의 코드는 아주 간단하게 이렇게도 쓸 수 있습니다.\n",
        "# df.groupby(['datetime']).size().plot()"
      ],
      "execution_count": null,
      "outputs": [
        {
          "output_type": "execute_result",
          "data": {
            "text/plain": [
              "<matplotlib.axes._subplots.AxesSubplot at 0x7f12129b88d0>"
            ]
          },
          "metadata": {
            "tags": []
          },
          "execution_count": 70
        },
        {
          "output_type": "display_data",
          "data": {
            "image/png": "[encoded data removed]",
            "text/plain": [
              "<Figure size 432x288 with 1 Axes>"
            ]
          },
          "metadata": {
            "tags": [],
            "needs_background": "light"
          }
        }
      ]
    },
    {
      "cell_type": "code",
      "metadata": {
        "scrolled": false,
        "id": "xl95KHlSevGy",
        "outputId": "a9fb65b0-9f08-4ecf-ddbd-4d026c2674f2",
        "colab": {
          "base_uri": "https://localhost:8080/",
          "height": 284
        }
      },
      "source": [
        "# Q11) 이번에는 요일별로 이용건수를 아래와 같이 막대그래프로 나타내는 코들르 작성하세요.\n",
        "# ------------------------\n",
        "dt_day = df.groupby(\"datetime\")['sessionid'].nunique()\n",
        "dt_day.index = dt_day.index\n",
        "plt.bar(df.groupby(['datetime']).size().index,dt_day.values)\n",
        "\n",
        "# ------------------------\n",
        "# Mon = 0, Sun = 6"
      ],
      "execution_count": null,
      "outputs": [
        {
          "output_type": "execute_result",
          "data": {
            "text/plain": [
              "<BarContainer object of 30 artists>"
            ]
          },
          "metadata": {
            "tags": []
          },
          "execution_count": 71
        },
        {
          "output_type": "display_data",
          "data": {
            "image/png": "[encoded data removed]",
            "text/plain": [
              "<Figure size 432x288 with 1 Axes>"
            ]
          },
          "metadata": {
            "tags": [],
            "needs_background": "light"
          }
        }
      ]
    },
    {
      "cell_type": "markdown",
      "metadata": {
        "id": "aEmx0wPCevG1"
      },
      "source": [
        "##### Q11-1) 위 두 그래프를 보고 알 수 있는 것은?\n",
        ": 주말에 사용자가 적은 편이다"
      ]
    },
    {
      "cell_type": "markdown",
      "metadata": {
        "id": "46gc3y0revG1"
      },
      "source": [
        "그럼 이제 일별 어느 확장자를 많이 사용하는지 알아보는 그래프를 그려보겠습니다."
      ]
    },
    {
      "cell_type": "code",
      "metadata": {
        "scrolled": true,
        "id": "dENOTatjevG2",
        "outputId": "4d9b0abd-3688-4a0d-8b5e-0b9f42422b05",
        "colab": {
          "base_uri": "https://localhost:8080/",
          "height": 233
        }
      },
      "source": [
        "dt_ext = df.groupby([\"datetime\", \"ext\"]).size().unstack(); dt_ext.head()"
      ],
      "execution_count": null,
      "outputs": [
        {
          "output_type": "execute_result",
          "data": {
            "text/html": [
              "<div>\n",
              "<style scoped>\n",
              "    .dataframe tbody tr th:only-of-type {\n",
              "        vertical-align: middle;\n",
              "    }\n",
              "\n",
              "    .dataframe tbody tr th {\n",
              "        vertical-align: top;\n",
              "    }\n",
              "\n",
              "    .dataframe thead th {\n",
              "        text-align: right;\n",
              "    }\n",
              "</style>\n",
              "<table border=\"1\" class=\"dataframe\">\n",
              "  <thead>\n",
              "    <tr style=\"text-align: right;\">\n",
              "      <th>ext</th>\n",
              "      <th>DOC</th>\n",
              "      <th>HWP</th>\n",
              "      <th>JPG</th>\n",
              "      <th>PDF</th>\n",
              "      <th>PPT</th>\n",
              "      <th>SHEET</th>\n",
              "      <th>TXT</th>\n",
              "      <th>WORD</th>\n",
              "      <th>XLS</th>\n",
              "    </tr>\n",
              "    <tr>\n",
              "      <th>datetime</th>\n",
              "      <th></th>\n",
              "      <th></th>\n",
              "      <th></th>\n",
              "      <th></th>\n",
              "      <th></th>\n",
              "      <th></th>\n",
              "      <th></th>\n",
              "      <th></th>\n",
              "      <th></th>\n",
              "    </tr>\n",
              "  </thead>\n",
              "  <tbody>\n",
              "    <tr>\n",
              "      <th>2016-07-01</th>\n",
              "      <td>3298.0</td>\n",
              "      <td>908.0</td>\n",
              "      <td>NaN</td>\n",
              "      <td>3177.0</td>\n",
              "      <td>918.0</td>\n",
              "      <td>2.0</td>\n",
              "      <td>361.0</td>\n",
              "      <td>NaN</td>\n",
              "      <td>3172.0</td>\n",
              "    </tr>\n",
              "    <tr>\n",
              "      <th>2016-07-02</th>\n",
              "      <td>2458.0</td>\n",
              "      <td>577.0</td>\n",
              "      <td>2.0</td>\n",
              "      <td>2491.0</td>\n",
              "      <td>697.0</td>\n",
              "      <td>NaN</td>\n",
              "      <td>392.0</td>\n",
              "      <td>NaN</td>\n",
              "      <td>2267.0</td>\n",
              "    </tr>\n",
              "    <tr>\n",
              "      <th>2016-07-03</th>\n",
              "      <td>1768.0</td>\n",
              "      <td>569.0</td>\n",
              "      <td>NaN</td>\n",
              "      <td>1719.0</td>\n",
              "      <td>540.0</td>\n",
              "      <td>NaN</td>\n",
              "      <td>303.0</td>\n",
              "      <td>NaN</td>\n",
              "      <td>1435.0</td>\n",
              "    </tr>\n",
              "    <tr>\n",
              "      <th>2016-07-04</th>\n",
              "      <td>2483.0</td>\n",
              "      <td>892.0</td>\n",
              "      <td>NaN</td>\n",
              "      <td>2450.0</td>\n",
              "      <td>704.0</td>\n",
              "      <td>NaN</td>\n",
              "      <td>320.0</td>\n",
              "      <td>NaN</td>\n",
              "      <td>2411.0</td>\n",
              "    </tr>\n",
              "    <tr>\n",
              "      <th>2016-07-05</th>\n",
              "      <td>2992.0</td>\n",
              "      <td>858.0</td>\n",
              "      <td>NaN</td>\n",
              "      <td>3058.0</td>\n",
              "      <td>942.0</td>\n",
              "      <td>NaN</td>\n",
              "      <td>356.0</td>\n",
              "      <td>NaN</td>\n",
              "      <td>2782.0</td>\n",
              "    </tr>\n",
              "  </tbody>\n",
              "</table>\n",
              "</div>"
            ],
            "text/plain": [
              "ext            DOC    HWP  JPG     PDF    PPT  SHEET    TXT  WORD     XLS\n",
              "datetime                                                                 \n",
              "2016-07-01  3298.0  908.0  NaN  3177.0  918.0    2.0  361.0   NaN  3172.0\n",
              "2016-07-02  2458.0  577.0  2.0  2491.0  697.0    NaN  392.0   NaN  2267.0\n",
              "2016-07-03  1768.0  569.0  NaN  1719.0  540.0    NaN  303.0   NaN  1435.0\n",
              "2016-07-04  2483.0  892.0  NaN  2450.0  704.0    NaN  320.0   NaN  2411.0\n",
              "2016-07-05  2992.0  858.0  NaN  3058.0  942.0    NaN  356.0   NaN  2782.0"
            ]
          },
          "metadata": {
            "tags": []
          },
          "execution_count": 72
        }
      ]
    },
    {
      "cell_type": "code",
      "metadata": {
        "scrolled": false,
        "id": "KPodCubRevG6",
        "outputId": "5c029a9d-1d15-4ac9-f3bd-aa2ea9a0affb",
        "colab": {
          "base_uri": "https://localhost:8080/",
          "height": 223
        }
      },
      "source": [
        "# Q12) 각 항목당 결측치 비율을 나타내는 코드를 작성하세요.\n",
        "dt_ext.isna().sum() / dt_ext.shape[0] *100"
      ],
      "execution_count": null,
      "outputs": [
        {
          "output_type": "execute_result",
          "data": {
            "text/plain": [
              "ext\n",
              "DOC       0.000000\n",
              "HWP       0.000000\n",
              "JPG      73.333333\n",
              "PDF       0.000000\n",
              "PPT       0.000000\n",
              "SHEET    90.000000\n",
              "TXT       0.000000\n",
              "WORD     96.666667\n",
              "XLS       0.000000\n",
              "dtype: float64"
            ]
          },
          "metadata": {
            "tags": []
          },
          "execution_count": 73
        }
      ]
    },
    {
      "cell_type": "markdown",
      "metadata": {
        "id": "_wzhNGYzevG-"
      },
      "source": [
        "결측치가 있는 칼럼의 결측치가 너무 많기 때문에 그냥 drop해주겠습니다."
      ]
    },
    {
      "cell_type": "code",
      "metadata": {
        "id": "uU-ehzwNevG-",
        "outputId": "b2a67dd2-bc0a-415f-c2e5-4bf1362c5978",
        "colab": {
          "base_uri": "https://localhost:8080/",
          "height": 167
        }
      },
      "source": [
        "# Q13) 결측치가 있는 항목을 drop해주는 코드를 작성하세요.\n",
        "dt_ext.drop('JPG',axis=1, inplace=True)\n",
        "dt_ext.drop('SHEET',axis=1, inplace=True)\n",
        "dt_ext.drop('WORD',axis=1, inplace=True)\n",
        "dt_ext.isna().sum() / len(dt_ext)*100"
      ],
      "execution_count": null,
      "outputs": [
        {
          "output_type": "execute_result",
          "data": {
            "text/plain": [
              "ext\n",
              "DOC    0.0\n",
              "HWP    0.0\n",
              "PDF    0.0\n",
              "PPT    0.0\n",
              "TXT    0.0\n",
              "XLS    0.0\n",
              "dtype: float64"
            ]
          },
          "metadata": {
            "tags": []
          },
          "execution_count": 74
        }
      ]
    },
    {
      "cell_type": "code",
      "metadata": {
        "scrolled": true,
        "id": "mAf1ck9XevHB",
        "outputId": "7670c991-e620-44fe-fd78-73d5b3da1a93",
        "colab": {
          "base_uri": "https://localhost:8080/",
          "height": 333
        }
      },
      "source": [
        "# Q14) 아래와 같은 그래프가 나올 수 있도록 코드를 작성해주세요.\n",
        "dt_ext.plot()"
      ],
      "execution_count": null,
      "outputs": [
        {
          "output_type": "execute_result",
          "data": {
            "text/plain": [
              "<matplotlib.axes._subplots.AxesSubplot at 0x7f120d830b00>"
            ]
          },
          "metadata": {
            "tags": []
          },
          "execution_count": 75
        },
        {
          "output_type": "display_data",
          "data": {
            "image/png": "[encoded data removed]",
            "text/plain": [
              "<Figure size 432x288 with 1 Axes>"
            ]
          },
          "metadata": {
            "tags": [],
            "needs_background": "light"
          }
        }
      ]
    },
    {
      "cell_type": "markdown",
      "metadata": {
        "id": "PKnVKv-FevHD"
      },
      "source": [
        "Documentposition, Actiontype도 같은 방법으로 그래프를 나타낼 수 있습니다."
      ]
    },
    {
      "cell_type": "code",
      "metadata": {
        "id": "70aiv37zevHF",
        "outputId": "c28078d0-48b8-4f9d-e302-fdefc604dfb3",
        "colab": {
          "base_uri": "https://localhost:8080/",
          "height": 333
        }
      },
      "source": [
        "# Q14-1) Documentation 아래와 같은 그래프가 나올 수 있도록 코드를 작성해주세요.\n",
        "# 위 그래프의 코드와 매우 흡사하기 때문에, 기초적인 그래프를 그리는 코드는 적어놓았고, 각자 원하는 커스터마이징을 해보세요.\n",
        "# ------------------------\n",
        "df.groupby([\"datetime\", \"documentposition\"]).size().unstack().dropna(axis=1).plot()\n",
        "# ------------------------"
      ],
      "execution_count": null,
      "outputs": [
        {
          "output_type": "execute_result",
          "data": {
            "text/plain": [
              "<matplotlib.axes._subplots.AxesSubplot at 0x7f12084f1048>"
            ]
          },
          "metadata": {
            "tags": []
          },
          "execution_count": 76
        },
        {
          "output_type": "display_data",
          "data": {
            "image/png": "[encoded data removed]",
            "text/plain": [
              "<Figure size 432x288 with 1 Axes>"
            ]
          },
          "metadata": {
            "tags": [],
            "needs_background": "light"
          }
        }
      ]
    },
    {
      "cell_type": "code",
      "metadata": {
        "id": "i2_CCpshevHJ",
        "outputId": "46f82c95-104f-46fe-9be7-1413a98c9901",
        "colab": {
          "base_uri": "https://localhost:8080/",
          "height": 333
        }
      },
      "source": [
        "# Q14-2) Actiontype 아래와 같은 그래프가 나올 수 있도록 코드를 작성해주세요.\n",
        "# ------------------------\n",
        "df.groupby([\"datetime\", \"actiontype\"]).size().unstack().dropna(axis=1).plot()\n",
        "\n",
        "# ------------------------"
      ],
      "execution_count": null,
      "outputs": [
        {
          "output_type": "execute_result",
          "data": {
            "text/plain": [
              "<matplotlib.axes._subplots.AxesSubplot at 0x7f12085d2a90>"
            ]
          },
          "metadata": {
            "tags": []
          },
          "execution_count": 77
        },
        {
          "output_type": "display_data",
          "data": {
            "image/png": "[encoded data removed]",
            "text/plain": [
              "<Figure size 432x288 with 1 Axes>"
            ]
          },
          "metadata": {
            "tags": [],
            "needs_background": "light"
          }
        }
      ]
    },
    {
      "cell_type": "markdown",
      "metadata": {
        "id": "iLM5lxSdevHO"
      },
      "source": [
        "다음은 screen을 이용하여 heatmap을 그려보겠습니다."
      ]
    },
    {
      "cell_type": "code",
      "metadata": {
        "scrolled": true,
        "id": "weSYKEmDevHP",
        "outputId": "9ff2b415-c5e8-46ee-e46f-fa5349ed9e0a",
        "colab": {
          "base_uri": "https://localhost:8080/",
          "height": 233
        }
      },
      "source": [
        "dt_screens = df.groupby([\"datetime\", \"screen\"])['sessionid'].nunique().unstack(); dt_screens.head()"
      ],
      "execution_count": null,
      "outputs": [
        {
          "output_type": "execute_result",
          "data": {
            "text/html": [
              "<div>\n",
              "<style scoped>\n",
              "    .dataframe tbody tr th:only-of-type {\n",
              "        vertical-align: middle;\n",
              "    }\n",
              "\n",
              "    .dataframe tbody tr th {\n",
              "        vertical-align: top;\n",
              "    }\n",
              "\n",
              "    .dataframe thead th {\n",
              "        text-align: right;\n",
              "    }\n",
              "</style>\n",
              "<table border=\"1\" class=\"dataframe\">\n",
              "  <thead>\n",
              "    <tr style=\"text-align: right;\">\n",
              "      <th>screen</th>\n",
              "      <th>InProduct_Mob</th>\n",
              "      <th>InProduct_Web</th>\n",
              "      <th>Main</th>\n",
              "      <th>Per_Dir</th>\n",
              "      <th>Pub_Dir</th>\n",
              "      <th>Purchase_done</th>\n",
              "      <th>Purchase_page</th>\n",
              "    </tr>\n",
              "    <tr>\n",
              "      <th>datetime</th>\n",
              "      <th></th>\n",
              "      <th></th>\n",
              "      <th></th>\n",
              "      <th></th>\n",
              "      <th></th>\n",
              "      <th></th>\n",
              "      <th></th>\n",
              "    </tr>\n",
              "  </thead>\n",
              "  <tbody>\n",
              "    <tr>\n",
              "      <th>2016-07-01</th>\n",
              "      <td>137.0</td>\n",
              "      <td>147.0</td>\n",
              "      <td>3582.0</td>\n",
              "      <td>296.0</td>\n",
              "      <td>1008.0</td>\n",
              "      <td>2.0</td>\n",
              "      <td>23.0</td>\n",
              "    </tr>\n",
              "    <tr>\n",
              "      <th>2016-07-02</th>\n",
              "      <td>89.0</td>\n",
              "      <td>124.0</td>\n",
              "      <td>2683.0</td>\n",
              "      <td>206.0</td>\n",
              "      <td>801.0</td>\n",
              "      <td>2.0</td>\n",
              "      <td>15.0</td>\n",
              "    </tr>\n",
              "    <tr>\n",
              "      <th>2016-07-03</th>\n",
              "      <td>50.0</td>\n",
              "      <td>83.0</td>\n",
              "      <td>1886.0</td>\n",
              "      <td>165.0</td>\n",
              "      <td>590.0</td>\n",
              "      <td>NaN</td>\n",
              "      <td>28.0</td>\n",
              "    </tr>\n",
              "    <tr>\n",
              "      <th>2016-07-04</th>\n",
              "      <td>112.0</td>\n",
              "      <td>104.0</td>\n",
              "      <td>2808.0</td>\n",
              "      <td>281.0</td>\n",
              "      <td>764.0</td>\n",
              "      <td>NaN</td>\n",
              "      <td>29.0</td>\n",
              "    </tr>\n",
              "    <tr>\n",
              "      <th>2016-07-05</th>\n",
              "      <td>118.0</td>\n",
              "      <td>138.0</td>\n",
              "      <td>3335.0</td>\n",
              "      <td>300.0</td>\n",
              "      <td>842.0</td>\n",
              "      <td>1.0</td>\n",
              "      <td>26.0</td>\n",
              "    </tr>\n",
              "  </tbody>\n",
              "</table>\n",
              "</div>"
            ],
            "text/plain": [
              "screen      InProduct_Mob  InProduct_Web  ...  Purchase_done  Purchase_page\n",
              "datetime                                  ...                              \n",
              "2016-07-01          137.0          147.0  ...            2.0           23.0\n",
              "2016-07-02           89.0          124.0  ...            2.0           15.0\n",
              "2016-07-03           50.0           83.0  ...            NaN           28.0\n",
              "2016-07-04          112.0          104.0  ...            NaN           29.0\n",
              "2016-07-05          118.0          138.0  ...            1.0           26.0\n",
              "\n",
              "[5 rows x 7 columns]"
            ]
          },
          "metadata": {
            "tags": []
          },
          "execution_count": 78
        }
      ]
    },
    {
      "cell_type": "code",
      "metadata": {
        "id": "32iN_PSnevHS",
        "outputId": "bbb8b47a-6731-4e1a-9e32-4d63fcf0cc00",
        "colab": {
          "base_uri": "https://localhost:8080/",
          "height": 279
        }
      },
      "source": [
        "# dtype을 주목해주세요.\n",
        "dt_screens.info()"
      ],
      "execution_count": null,
      "outputs": [
        {
          "output_type": "stream",
          "text": [
            "<class 'pandas.core.frame.DataFrame'>\n",
            "DatetimeIndex: 30 entries, 2016-07-01 to 2016-07-30\n",
            "Data columns (total 7 columns):\n",
            " #   Column         Non-Null Count  Dtype  \n",
            "---  ------         --------------  -----  \n",
            " 0   InProduct_Mob  30 non-null     float64\n",
            " 1   InProduct_Web  30 non-null     float64\n",
            " 2   Main           30 non-null     float64\n",
            " 3   Per_Dir        30 non-null     float64\n",
            " 4   Pub_Dir        30 non-null     float64\n",
            " 5   Purchase_done  24 non-null     float64\n",
            " 6   Purchase_page  30 non-null     float64\n",
            "dtypes: float64(7)\n",
            "memory usage: 1.9 KB\n"
          ],
          "name": "stdout"
        }
      ]
    },
    {
      "cell_type": "code",
      "metadata": {
        "scrolled": true,
        "id": "8PZ_AbBYevHW",
        "outputId": "5b4ef11d-aefa-4ea7-a7b2-a89c75eb0e1d",
        "colab": {
          "base_uri": "https://localhost:8080/",
          "height": 465
        }
      },
      "source": [
        "# Q15) 각 항목당 결측치 비율을 확인해본 후, 결측치를 어떻게 처리하면 좋을지 생각하여 아래의 결과가 나오도록 코드를 작성하세요.\n",
        "# ------------------------\n",
        "dt_screens=dt_screens.fillna(0)\n",
        "print(dt_screens.info())\n",
        "print(dt_screens.isnull().sum())"
      ],
      "execution_count": null,
      "outputs": [
        {
          "output_type": "stream",
          "text": [
            "<class 'pandas.core.frame.DataFrame'>\n",
            "DatetimeIndex: 30 entries, 2016-07-01 to 2016-07-30\n",
            "Data columns (total 7 columns):\n",
            " #   Column         Non-Null Count  Dtype  \n",
            "---  ------         --------------  -----  \n",
            " 0   InProduct_Mob  30 non-null     float64\n",
            " 1   InProduct_Web  30 non-null     float64\n",
            " 2   Main           30 non-null     float64\n",
            " 3   Per_Dir        30 non-null     float64\n",
            " 4   Pub_Dir        30 non-null     float64\n",
            " 5   Purchase_done  30 non-null     float64\n",
            " 6   Purchase_page  30 non-null     float64\n",
            "dtypes: float64(7)\n",
            "memory usage: 1.9 KB\n",
            "None\n",
            "screen\n",
            "InProduct_Mob    0\n",
            "InProduct_Web    0\n",
            "Main             0\n",
            "Per_Dir          0\n",
            "Pub_Dir          0\n",
            "Purchase_done    0\n",
            "Purchase_page    0\n",
            "dtype: int64\n"
          ],
          "name": "stdout"
        }
      ]
    },
    {
      "cell_type": "code",
      "metadata": {
        "scrolled": true,
        "id": "0kSYP55XevHY",
        "outputId": "eae359b1-c3e5-4a34-d3fe-0ab3584bdc8a",
        "colab": {
          "base_uri": "https://localhost:8080/",
          "height": 279
        }
      },
      "source": [
        "# Q16) 데이터 타입을 float에서 int로 바꿔주세요.\n",
        "screens = dt_screens.astype('int64')\n",
        "screens.info()"
      ],
      "execution_count": null,
      "outputs": [
        {
          "output_type": "stream",
          "text": [
            "<class 'pandas.core.frame.DataFrame'>\n",
            "DatetimeIndex: 30 entries, 2016-07-01 to 2016-07-30\n",
            "Data columns (total 7 columns):\n",
            " #   Column         Non-Null Count  Dtype\n",
            "---  ------         --------------  -----\n",
            " 0   InProduct_Mob  30 non-null     int64\n",
            " 1   InProduct_Web  30 non-null     int64\n",
            " 2   Main           30 non-null     int64\n",
            " 3   Per_Dir        30 non-null     int64\n",
            " 4   Pub_Dir        30 non-null     int64\n",
            " 5   Purchase_done  30 non-null     int64\n",
            " 6   Purchase_page  30 non-null     int64\n",
            "dtypes: int64(7)\n",
            "memory usage: 1.9 KB\n"
          ],
          "name": "stdout"
        }
      ]
    },
    {
      "cell_type": "code",
      "metadata": {
        "id": "ycshOvHGevHd",
        "outputId": "bed06233-c9b6-4889-ab08-ad2987c50f52",
        "colab": {
          "base_uri": "https://localhost:8080/",
          "height": 233
        }
      },
      "source": [
        "# 가독성이 좋은 heatmap을 위해 평균이 높은 칼럼순으로 내림차순 정렬을 해주었습니다.\n",
        "screens = screens[screens.mean().sort_values(ascending=False).index]; screens.head()"
      ],
      "execution_count": null,
      "outputs": [
        {
          "output_type": "execute_result",
          "data": {
            "text/html": [
              "<div>\n",
              "<style scoped>\n",
              "    .dataframe tbody tr th:only-of-type {\n",
              "        vertical-align: middle;\n",
              "    }\n",
              "\n",
              "    .dataframe tbody tr th {\n",
              "        vertical-align: top;\n",
              "    }\n",
              "\n",
              "    .dataframe thead th {\n",
              "        text-align: right;\n",
              "    }\n",
              "</style>\n",
              "<table border=\"1\" class=\"dataframe\">\n",
              "  <thead>\n",
              "    <tr style=\"text-align: right;\">\n",
              "      <th>screen</th>\n",
              "      <th>Main</th>\n",
              "      <th>Pub_Dir</th>\n",
              "      <th>Per_Dir</th>\n",
              "      <th>InProduct_Web</th>\n",
              "      <th>InProduct_Mob</th>\n",
              "      <th>Purchase_page</th>\n",
              "      <th>Purchase_done</th>\n",
              "    </tr>\n",
              "    <tr>\n",
              "      <th>datetime</th>\n",
              "      <th></th>\n",
              "      <th></th>\n",
              "      <th></th>\n",
              "      <th></th>\n",
              "      <th></th>\n",
              "      <th></th>\n",
              "      <th></th>\n",
              "    </tr>\n",
              "  </thead>\n",
              "  <tbody>\n",
              "    <tr>\n",
              "      <th>2016-07-01</th>\n",
              "      <td>3582</td>\n",
              "      <td>1008</td>\n",
              "      <td>296</td>\n",
              "      <td>147</td>\n",
              "      <td>137</td>\n",
              "      <td>23</td>\n",
              "      <td>2</td>\n",
              "    </tr>\n",
              "    <tr>\n",
              "      <th>2016-07-02</th>\n",
              "      <td>2683</td>\n",
              "      <td>801</td>\n",
              "      <td>206</td>\n",
              "      <td>124</td>\n",
              "      <td>89</td>\n",
              "      <td>15</td>\n",
              "      <td>2</td>\n",
              "    </tr>\n",
              "    <tr>\n",
              "      <th>2016-07-03</th>\n",
              "      <td>1886</td>\n",
              "      <td>590</td>\n",
              "      <td>165</td>\n",
              "      <td>83</td>\n",
              "      <td>50</td>\n",
              "      <td>28</td>\n",
              "      <td>0</td>\n",
              "    </tr>\n",
              "    <tr>\n",
              "      <th>2016-07-04</th>\n",
              "      <td>2808</td>\n",
              "      <td>764</td>\n",
              "      <td>281</td>\n",
              "      <td>104</td>\n",
              "      <td>112</td>\n",
              "      <td>29</td>\n",
              "      <td>0</td>\n",
              "    </tr>\n",
              "    <tr>\n",
              "      <th>2016-07-05</th>\n",
              "      <td>3335</td>\n",
              "      <td>842</td>\n",
              "      <td>300</td>\n",
              "      <td>138</td>\n",
              "      <td>118</td>\n",
              "      <td>26</td>\n",
              "      <td>1</td>\n",
              "    </tr>\n",
              "  </tbody>\n",
              "</table>\n",
              "</div>"
            ],
            "text/plain": [
              "screen      Main  Pub_Dir  Per_Dir  ...  InProduct_Mob  Purchase_page  Purchase_done\n",
              "datetime                            ...                                             \n",
              "2016-07-01  3582     1008      296  ...            137             23              2\n",
              "2016-07-02  2683      801      206  ...             89             15              2\n",
              "2016-07-03  1886      590      165  ...             50             28              0\n",
              "2016-07-04  2808      764      281  ...            112             29              0\n",
              "2016-07-05  3335      842      300  ...            118             26              1\n",
              "\n",
              "[5 rows x 7 columns]"
            ]
          },
          "metadata": {
            "tags": []
          },
          "execution_count": 82
        }
      ]
    },
    {
      "cell_type": "code",
      "metadata": {
        "scrolled": true,
        "id": "v9c5jHseevHi",
        "outputId": "6bc217c0-9900-4366-f1ac-242f1cd0f051",
        "colab": {
          "base_uri": "https://localhost:8080/",
          "height": 496
        }
      },
      "source": [
        "# Q17) 아래와 같은 결과가 나올 수 있도록 heatmap을 그려주세요.\n",
        "# ------------------------\n",
        "plt.subplots(figsize=(17,8))\n",
        "sns.heatmap(screens,cmap='Blues', annot=True, fmt='d')\n",
        "# ------------------------"
      ],
      "execution_count": null,
      "outputs": [
        {
          "output_type": "execute_result",
          "data": {
            "text/plain": [
              "<matplotlib.axes._subplots.AxesSubplot at 0x7f120837cb00>"
            ]
          },
          "metadata": {
            "tags": []
          },
          "execution_count": 83
        },
        {
          "output_type": "display_data",
          "data": {
            "image/png": "[encoded data removed]",
            "text/plain": [
              "<Figure size 1224x576 with 2 Axes>"
            ]
          },
          "metadata": {
            "tags": [],
            "needs_background": "light"
          }
        }
      ]
    },
    {
      "cell_type": "markdown",
      "metadata": {
        "id": "9kPMgZaWevHk"
      },
      "source": [
        "##### Q17-1) 위 heatmap을 보고 알 수 있는 것은?\n",
        ":  실제 구매자 비율 낮음"
      ]
    },
    {
      "cell_type": "markdown",
      "metadata": {
        "id": "HVjQ5zrIevHl"
      },
      "source": [
        "#### 3-2) Pivot을 이용한 데이터 분석"
      ]
    },
    {
      "cell_type": "markdown",
      "metadata": {
        "id": "aeg9VnQRevHl"
      },
      "source": [
        "먼저 actiontype과 ext사이의 상관관계를 파악해보겠습니다."
      ]
    },
    {
      "cell_type": "code",
      "metadata": {
        "id": "SsCsO9GNevHm",
        "outputId": "fc40c0e9-e9ad-4b96-b493-0e48f77a513e",
        "colab": {
          "base_uri": "https://localhost:8080/",
          "height": 298
        }
      },
      "source": [
        "# Q18) actiontype과 ext를 'sessionid'를 기준으로 groupby한 후, 결측치를 0으로 채우는 코드를 작성하세요.\n",
        "# 맨끝에 dtype을 int로 바꾸어주는 코드도 함께 넣어주세요. (due to heatmap)\n",
        "# ------------------------\n",
        "action_ext = df.groupby([\"actiontype\", \"ext\"])['sessionid'].size().unstack().replace(np.nan,0)\n",
        "action_ext = action_ext.astype('int64')\n",
        "\n",
        "sns.heatmap(action_ext,cmap='Reds', annot=True, fmt='d')\n",
        "\n",
        "# ------------------------"
      ],
      "execution_count": null,
      "outputs": [
        {
          "output_type": "execute_result",
          "data": {
            "text/plain": [
              "<matplotlib.axes._subplots.AxesSubplot at 0x7f12080f3390>"
            ]
          },
          "metadata": {
            "tags": []
          },
          "execution_count": 84
        },
        {
          "output_type": "display_data",
          "data": {
            "image/png": "[encoded data removed]",
            "text/plain": [
              "<Figure size 432x288 with 2 Axes>"
            ]
          },
          "metadata": {
            "tags": [],
            "needs_background": "light"
          }
        }
      ]
    },
    {
      "cell_type": "markdown",
      "metadata": {
        "id": "BmmDsRdFevHr"
      },
      "source": [
        "특정 ect에서 주로 사용하는 actiontype을 알 수 있습니다. <br>\n",
        "이렇게 다른 변수들간의 상관관계 분석도 진행할 수 있습니다."
      ]
    },
    {
      "cell_type": "markdown",
      "metadata": {
        "id": "eV3ZQ0ZhevHr"
      },
      "source": [
        "#### 3-3) 구간별 전환율"
      ]
    },
    {
      "cell_type": "markdown",
      "metadata": {
        "id": "QN_wEGyOevHs"
      },
      "source": [
        "마지막으로 구간별 전환율에 대한 시각화를 해보겠습니다. <br>\n",
        "이는 위에서도 잠시 언급했던, 평균적으로 어느 구간에서 사용자들이 이탈하는지를 좀 더 자세히 확인할 수 있는 방법입니다."
      ]
    },
    {
      "cell_type": "code",
      "metadata": {
        "id": "4_rbAzKtevHs",
        "outputId": "6b0bda40-ee18-4de1-bc8b-58e3eadab2d4",
        "colab": {
          "base_uri": "https://localhost:8080/",
          "height": 513
        }
      },
      "source": [
        "# 위에서 만들었던 screens를 다시 불러오겠습니다.\n",
        "print(screens.info())\n",
        "screens.head()"
      ],
      "execution_count": null,
      "outputs": [
        {
          "output_type": "stream",
          "text": [
            "<class 'pandas.core.frame.DataFrame'>\n",
            "DatetimeIndex: 30 entries, 2016-07-01 to 2016-07-30\n",
            "Data columns (total 7 columns):\n",
            " #   Column         Non-Null Count  Dtype\n",
            "---  ------         --------------  -----\n",
            " 0   Main           30 non-null     int64\n",
            " 1   Pub_Dir        30 non-null     int64\n",
            " 2   Per_Dir        30 non-null     int64\n",
            " 3   InProduct_Web  30 non-null     int64\n",
            " 4   InProduct_Mob  30 non-null     int64\n",
            " 5   Purchase_page  30 non-null     int64\n",
            " 6   Purchase_done  30 non-null     int64\n",
            "dtypes: int64(7)\n",
            "memory usage: 1.9 KB\n",
            "None\n"
          ],
          "name": "stdout"
        },
        {
          "output_type": "execute_result",
          "data": {
            "text/html": [
              "<div>\n",
              "<style scoped>\n",
              "    .dataframe tbody tr th:only-of-type {\n",
              "        vertical-align: middle;\n",
              "    }\n",
              "\n",
              "    .dataframe tbody tr th {\n",
              "        vertical-align: top;\n",
              "    }\n",
              "\n",
              "    .dataframe thead th {\n",
              "        text-align: right;\n",
              "    }\n",
              "</style>\n",
              "<table border=\"1\" class=\"dataframe\">\n",
              "  <thead>\n",
              "    <tr style=\"text-align: right;\">\n",
              "      <th>screen</th>\n",
              "      <th>Main</th>\n",
              "      <th>Pub_Dir</th>\n",
              "      <th>Per_Dir</th>\n",
              "      <th>InProduct_Web</th>\n",
              "      <th>InProduct_Mob</th>\n",
              "      <th>Purchase_page</th>\n",
              "      <th>Purchase_done</th>\n",
              "    </tr>\n",
              "    <tr>\n",
              "      <th>datetime</th>\n",
              "      <th></th>\n",
              "      <th></th>\n",
              "      <th></th>\n",
              "      <th></th>\n",
              "      <th></th>\n",
              "      <th></th>\n",
              "      <th></th>\n",
              "    </tr>\n",
              "  </thead>\n",
              "  <tbody>\n",
              "    <tr>\n",
              "      <th>2016-07-01</th>\n",
              "      <td>3582</td>\n",
              "      <td>1008</td>\n",
              "      <td>296</td>\n",
              "      <td>147</td>\n",
              "      <td>137</td>\n",
              "      <td>23</td>\n",
              "      <td>2</td>\n",
              "    </tr>\n",
              "    <tr>\n",
              "      <th>2016-07-02</th>\n",
              "      <td>2683</td>\n",
              "      <td>801</td>\n",
              "      <td>206</td>\n",
              "      <td>124</td>\n",
              "      <td>89</td>\n",
              "      <td>15</td>\n",
              "      <td>2</td>\n",
              "    </tr>\n",
              "    <tr>\n",
              "      <th>2016-07-03</th>\n",
              "      <td>1886</td>\n",
              "      <td>590</td>\n",
              "      <td>165</td>\n",
              "      <td>83</td>\n",
              "      <td>50</td>\n",
              "      <td>28</td>\n",
              "      <td>0</td>\n",
              "    </tr>\n",
              "    <tr>\n",
              "      <th>2016-07-04</th>\n",
              "      <td>2808</td>\n",
              "      <td>764</td>\n",
              "      <td>281</td>\n",
              "      <td>104</td>\n",
              "      <td>112</td>\n",
              "      <td>29</td>\n",
              "      <td>0</td>\n",
              "    </tr>\n",
              "    <tr>\n",
              "      <th>2016-07-05</th>\n",
              "      <td>3335</td>\n",
              "      <td>842</td>\n",
              "      <td>300</td>\n",
              "      <td>138</td>\n",
              "      <td>118</td>\n",
              "      <td>26</td>\n",
              "      <td>1</td>\n",
              "    </tr>\n",
              "  </tbody>\n",
              "</table>\n",
              "</div>"
            ],
            "text/plain": [
              "screen      Main  Pub_Dir  Per_Dir  ...  InProduct_Mob  Purchase_page  Purchase_done\n",
              "datetime                            ...                                             \n",
              "2016-07-01  3582     1008      296  ...            137             23              2\n",
              "2016-07-02  2683      801      206  ...             89             15              2\n",
              "2016-07-03  1886      590      165  ...             50             28              0\n",
              "2016-07-04  2808      764      281  ...            112             29              0\n",
              "2016-07-05  3335      842      300  ...            118             26              1\n",
              "\n",
              "[5 rows x 7 columns]"
            ]
          },
          "metadata": {
            "tags": []
          },
          "execution_count": 85
        }
      ]
    },
    {
      "cell_type": "code",
      "metadata": {
        "id": "uXAoOVJHevHw",
        "outputId": "c106939a-550d-4dfe-f7c1-dbb5d353a145",
        "colab": {
          "base_uri": "https://localhost:8080/",
          "height": 185
        }
      },
      "source": [
        "# Q19) 아래 결과와 같이 screen 칼럼별 평균을 구하는 코드를 작성하세요.\n",
        "# 이 때, apply함수를 사용하여 dtype을 int로 만들어주고, 내림차순으로 정렬해주세요.\n",
        "# ------------------------\n",
        "convert = screens.mean().astype('int64')\n",
        "# ------------------------\n",
        "convert"
      ],
      "execution_count": null,
      "outputs": [
        {
          "output_type": "execute_result",
          "data": {
            "text/plain": [
              "screen\n",
              "Main             2988\n",
              "Pub_Dir           839\n",
              "Per_Dir           305\n",
              "InProduct_Web     138\n",
              "InProduct_Mob     109\n",
              "Purchase_page      24\n",
              "Purchase_done       1\n",
              "dtype: int64"
            ]
          },
          "metadata": {
            "tags": []
          },
          "execution_count": 86
        }
      ]
    },
    {
      "cell_type": "code",
      "metadata": {
        "id": "qsp4lOnEevH0",
        "outputId": "c8ed041e-b989-46ba-d67c-d0615fe3fade",
        "colab": {
          "base_uri": "https://localhost:8080/",
          "height": 36
        }
      },
      "source": [
        "# Q20) 아래 list에 전환율을 계산하여 append해주세요.\n",
        "# 전환율 = 다음단계 건수 / 이번단계 건수\n",
        "# ------------------------\n",
        "convert_rate = []\n",
        "for i in range(len(convert)-1):\n",
        "  convert_rate.append(round(convert[i+1] / convert[i]*100,2))\n",
        "# ------------------------\n",
        "convert_rate"
      ],
      "execution_count": null,
      "outputs": [
        {
          "output_type": "execute_result",
          "data": {
            "text/plain": [
              "[28.08, 36.35, 45.25, 78.99, 22.02, 4.17]"
            ]
          },
          "metadata": {
            "tags": []
          },
          "execution_count": 87
        }
      ]
    },
    {
      "cell_type": "code",
      "metadata": {
        "scrolled": true,
        "id": "FmZYeqMtevH2",
        "outputId": "499c38a9-8f96-4fc6-c7db-10267d0594df",
        "colab": {
          "base_uri": "https://localhost:8080/",
          "height": 284
        }
      },
      "source": [
        "# Q20) 위의 data를 가지고 전환율을 아래와 같이 bar chart로 나타내는 코드를 작성하세요.\n",
        "# conver_rate가 list이므로 series로 바꾸어주는 작업이 필요합니다.\n",
        "# ------------------------\n",
        "convert_rate = pd.Series(convert_rate)\n",
        "plt.bar(np.arange(0,6),convert_rate)\n",
        "# ------------------------"
      ],
      "execution_count": null,
      "outputs": [
        {
          "output_type": "execute_result",
          "data": {
            "text/plain": [
              "<BarContainer object of 6 artists>"
            ]
          },
          "metadata": {
            "tags": []
          },
          "execution_count": 88
        },
        {
          "output_type": "display_data",
          "data": {
            "image/png": "[encoded data removed]",
            "text/plain": [
              "<Figure size 432x288 with 1 Axes>"
            ]
          },
          "metadata": {
            "tags": [],
            "needs_background": "light"
          }
        }
      ]
    },
    {
      "cell_type": "code",
      "metadata": {
        "id": "vgf9xGknevH5",
        "outputId": "c566d749-3029-45ad-b20d-f2c026a48db4",
        "colab": {
          "base_uri": "https://localhost:8080/",
          "height": 129
        }
      },
      "source": [
        "# 이 때, x축이 의미하는 것이 명확하지 않으므로 index를 바꿔주겠습니다.\n",
        "x_index = [convert.index[i]+' > '+convert.index[i+1] for i ,v in enumerate(convert.index) if i < 6]\n",
        "x_index"
      ],
      "execution_count": null,
      "outputs": [
        {
          "output_type": "execute_result",
          "data": {
            "text/plain": [
              "['Main > Pub_Dir',\n",
              " 'Pub_Dir > Per_Dir',\n",
              " 'Per_Dir > InProduct_Web',\n",
              " 'InProduct_Web > InProduct_Mob',\n",
              " 'InProduct_Mob > Purchase_page',\n",
              " 'Purchase_page > Purchase_done']"
            ]
          },
          "metadata": {
            "tags": []
          },
          "execution_count": 89
        }
      ]
    },
    {
      "cell_type": "code",
      "metadata": {
        "scrolled": true,
        "id": "fqAvKGgDevH9",
        "outputId": "eb0f3f0f-e397-4e41-d68e-1a13154ee71d",
        "colab": {
          "base_uri": "https://localhost:8080/",
          "height": 467
        }
      },
      "source": [
        "# Q20-1) x_index를 가지고 아래 결과와 같이 x축의 index를 바꾸는 코드를 작성하세요.\n",
        "# ------------------------\n",
        "plt.subplots(figsize=(20,8))\n",
        "plt.bar(x_index, convert_rate)\n",
        "plt.title('Convert Rate(%)', color='w', size=20)\n",
        "# ------------------------"
      ],
      "execution_count": null,
      "outputs": [
        {
          "output_type": "execute_result",
          "data": {
            "text/plain": [
              "Text(0.5, 1.0, 'Convert Rate(%)')"
            ]
          },
          "metadata": {
            "tags": []
          },
          "execution_count": 90
        },
        {
          "output_type": "display_data",
          "data": {
            "image/png": "[encoded data removed]",
            "text/plain": [
              "<Figure size 1440x576 with 1 Axes>"
            ]
          },
          "metadata": {
            "tags": [],
            "needs_background": "light"
          }
        }
      ]
    },
    {
      "cell_type": "markdown",
      "metadata": {
        "id": "mj6f3gF3evIC"
      },
      "source": [
        "##### Q20-2) 가장 이탈율이 높은 구간은?\n",
        ":InProduct_Web > InProduct_Mob"
      ]
    },
    {
      "cell_type": "markdown",
      "metadata": {
        "id": "5kls-8BcevIC"
      },
      "source": [
        "끝으로, 지금까지 분석한 내용을 바탕으로 솔루션을 제시해본다면 어떤 솔루션이 좋을지 한번쯤 생각해봐도 좋을것 같습니당ㅎㅎ"
      ]
    },
    {
      "cell_type": "markdown",
      "metadata": {
        "id": "fKjlzNgFevID"
      },
      "source": [
        "#### 수고하셨습니다:)"
      ]
    },
    {
      "cell_type": "code",
      "metadata": {
        "id": "xt_0sTnqquTH"
      },
      "source": [
        ""
      ],
      "execution_count": null,
      "outputs": []
    }
  ]
}
